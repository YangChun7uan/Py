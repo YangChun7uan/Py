{
 "cells": [
  {
   "cell_type": "markdown",
   "metadata": {},
   "source": [
    "# 字符串处理"
   ]
  },
  {
   "cell_type": "code",
   "execution_count": 5,
   "metadata": {},
   "outputs": [
    {
     "data": {
      "text/plain": [
       "['abdc fjk;   afed', ' fjek', 'asdf', '      foo']"
      ]
     },
     "execution_count": 5,
     "metadata": {},
     "output_type": "execute_result"
    }
   ],
   "source": [
    "line= 'abdc fjk;   afed, fjek,asdf,      foo'\n",
    "\n",
    "line.split(',')"
   ]
  },
  {
   "cell_type": "code",
   "execution_count": 8,
   "metadata": {},
   "outputs": [
    {
     "data": {
      "text/plain": [
       "['abdc', 'fjk', 'afed', 'fjek', 'asdf', 'foo']"
      ]
     },
     "execution_count": 8,
     "metadata": {},
     "output_type": "execute_result"
    }
   ],
   "source": [
    "import re\n",
    "re.split(r'[;,\\s]\\s*',line)"
   ]
  },
  {
   "cell_type": "code",
   "execution_count": 10,
   "metadata": {},
   "outputs": [
    {
     "data": {
      "text/plain": [
       "\u001b[0;31mSignature:\u001b[0m \u001b[0mall\u001b[0m\u001b[0;34m(\u001b[0m\u001b[0miterable\u001b[0m\u001b[0;34m,\u001b[0m \u001b[0;34m/\u001b[0m\u001b[0;34m)\u001b[0m\u001b[0;34m\u001b[0m\u001b[0;34m\u001b[0m\u001b[0m\n",
       "\u001b[0;31mDocstring:\u001b[0m\n",
       "Return True if bool(x) is True for all values x in the iterable.\n",
       "\n",
       "If the iterable is empty, return True.\n",
       "\u001b[0;31mType:\u001b[0m      builtin_function_or_method\n"
      ]
     },
     "metadata": {},
     "output_type": "display_data"
    }
   ],
   "source": [
    "all??"
   ]
  },
  {
   "cell_type": "code",
   "execution_count": 3,
   "metadata": {},
   "outputs": [
    {
     "data": {
      "text/plain": [
       "\u001b[0;31mSignature:\u001b[0m \u001b[0mstr\u001b[0m\u001b[0;34m.\u001b[0m\u001b[0msplit\u001b[0m\u001b[0;34m(\u001b[0m\u001b[0mself\u001b[0m\u001b[0;34m,\u001b[0m \u001b[0;34m/\u001b[0m\u001b[0;34m,\u001b[0m \u001b[0msep\u001b[0m\u001b[0;34m=\u001b[0m\u001b[0;32mNone\u001b[0m\u001b[0;34m,\u001b[0m \u001b[0mmaxsplit\u001b[0m\u001b[0;34m=\u001b[0m\u001b[0;34m-\u001b[0m\u001b[0;36m1\u001b[0m\u001b[0;34m)\u001b[0m\u001b[0;34m\u001b[0m\u001b[0;34m\u001b[0m\u001b[0m\n",
       "\u001b[0;31mDocstring:\u001b[0m\n",
       "Return a list of the words in the string, using sep as the delimiter string.\n",
       "\n",
       "sep\n",
       "  The delimiter according which to split the string.\n",
       "  None (the default value) means split according to any whitespace,\n",
       "  and discard empty strings from the result.\n",
       "maxsplit\n",
       "  Maximum number of splits to do.\n",
       "  -1 (the default value) means no limit.\n",
       "\u001b[0;31mType:\u001b[0m      method_descriptor\n"
      ]
     },
     "metadata": {},
     "output_type": "display_data"
    }
   ],
   "source": [
    "str.split??"
   ]
  },
  {
   "cell_type": "markdown",
   "metadata": {},
   "source": [
    "# 使用迭代器做数据管道\n",
    "> 类似 unix 的 pipe 管道操作符"
   ]
  },
  {
   "cell_type": "code",
   "execution_count": 24,
   "metadata": {},
   "outputs": [],
   "source": [
    "import os\n",
    "import fnmatch\n",
    "import re\n",
    "import warnings\n",
    "\n",
    "warn =  warnings.warn\n",
    "\n",
    "def gen_find(filepat, top):\n",
    "    warn('gen_find start...')\n",
    "    for path, dirlist, filelist in os.walk(top):\n",
    "        for name in fnmatch.filter(filelist, filepat):\n",
    "            warn('gen_find yield start...',DeprecationWarning)\n",
    "            yield os.path.join(path, name)\n",
    "            warn('gen_find yield end...',DeprecationWarning)\n",
    "\n",
    "            \n",
    "def gen_opener(filenames):\n",
    "    warn('gen_opener start...',DeprecationWarning)\n",
    "\n",
    "    for filename in filenames:\n",
    "        if filename.endswith('.csv'):\n",
    "            f = open(filename, 'rt')\n",
    "        else:\n",
    "            f = open(filename, 'rt')\n",
    "        warn('gen_opener yield start...',DeprecationWarning)\n",
    "        yield f\n",
    "        warn('gen_opener yield end...',DeprecationWarning)\n",
    "        f.close()\n",
    "        \n",
    "def gen_concatenate(iterators):\n",
    "    warn('gen_concatenate start...')\n",
    "    for it in iterators:\n",
    "        warn('gen_concatenate yield from start...',DeprecationWarning)\n",
    "        yield from it\n",
    "        warn('gen_concatenate yield from end...',DeprecationWarning)\n",
    "    \n",
    "def gen_grep(pattern, lines):\n",
    "    pat = re.compile(pattern)\n",
    "    for line in lines:\n",
    "        if pat.search(line):\n",
    "            yield line\n",
    "            "
   ]
  },
  {
   "cell_type": "code",
   "execution_count": 30,
   "metadata": {},
   "outputs": [],
   "source": [
    "f = open('/Users/dengjiaying/Project/Py/statistics/colors.py')"
   ]
  },
  {
   "cell_type": "code",
   "execution_count": 34,
   "metadata": {},
   "outputs": [
    {
     "ename": "AttributeError",
     "evalue": "'_io.TextIOWrapper' object has no attribute '__mro__'",
     "output_type": "error",
     "traceback": [
      "\u001b[0;31m---------------------------------------------------------------------------\u001b[0m",
      "\u001b[0;31mAttributeError\u001b[0m                            Traceback (most recent call last)",
      "\u001b[0;32m<ipython-input-34-31c7629ad993>\u001b[0m in \u001b[0;36m<module>\u001b[0;34m\u001b[0m\n\u001b[0;32m----> 1\u001b[0;31m \u001b[0mf\u001b[0m\u001b[0;34m.\u001b[0m\u001b[0m__mro__\u001b[0m\u001b[0;34m\u001b[0m\u001b[0;34m\u001b[0m\u001b[0m\n\u001b[0m",
      "\u001b[0;31mAttributeError\u001b[0m: '_io.TextIOWrapper' object has no attribute '__mro__'"
     ]
    }
   ],
   "source": [
    "f isinstance ()"
   ]
  },
  {
   "cell_type": "code",
   "execution_count": 28,
   "metadata": {},
   "outputs": [
    {
     "name": "stdout",
     "output_type": "stream",
     "text": [
      "1 ,44041.8399189815,44052.856099537,2629,【PC前端】超级号PC和移动端官网开发,838,超级号PC和移动端官网开发,开发完成,黄宇鹏,黄丹丽,范清云,龙晓泉,10.0,1,v.1,http://cmic.tools.bigcloudsys.cn/wiki/pages/viewpage.action?pageId=46103831,0,2020-08-03,2020-08-06\n",
      "\n"
     ]
    },
    {
     "name": "stderr",
     "output_type": "stream",
     "text": [
      "/usr/local/anaconda3/lib/python3.7/site-packages/ipykernel_launcher.py:31: UserWarning: gen_concatenate start...\n",
      "/usr/local/anaconda3/lib/python3.7/site-packages/ipykernel_launcher.py:18: DeprecationWarning: gen_opener start...\n",
      "/usr/local/anaconda3/lib/python3.7/site-packages/ipykernel_launcher.py:9: UserWarning: gen_find start...\n",
      "  if __name__ == '__main__':\n",
      "/usr/local/anaconda3/lib/python3.7/site-packages/ipykernel_launcher.py:12: DeprecationWarning: gen_find yield start...\n",
      "  if sys.path[0] == '':\n",
      "/usr/local/anaconda3/lib/python3.7/site-packages/ipykernel_launcher.py:25: DeprecationWarning: gen_opener yield start...\n",
      "/usr/local/anaconda3/lib/python3.7/site-packages/ipykernel_launcher.py:33: DeprecationWarning: gen_concatenate yield from start...\n",
      "/usr/local/anaconda3/lib/python3.7/site-packages/ipykernel_launcher.py:35: DeprecationWarning: gen_concatenate yield from end...\n",
      "/usr/local/anaconda3/lib/python3.7/site-packages/ipykernel_launcher.py:27: DeprecationWarning: gen_opener yield end...\n",
      "/usr/local/anaconda3/lib/python3.7/site-packages/ipykernel_launcher.py:14: DeprecationWarning: gen_find yield end...\n",
      "  \n"
     ]
    }
   ],
   "source": [
    "csvnames = gen_find('req*', '/Users/dengjiaying/Project/Py/statistics/data')\n",
    "files = gen_opener(csvnames)\n",
    "lines = gen_concatenate(files)\n",
    "ysdlines = gen_grep('8399189815', lines)\n",
    "\n",
    "for line in ysdlines:\n",
    "    print(line)"
   ]
  },
  {
   "cell_type": "code",
   "execution_count": 16,
   "metadata": {},
   "outputs": [
    {
     "data": {
      "text/plain": [
       "[('/Users/dengjiaying/Project/Py/statistics/',\n",
       "  ['__pycache__', '.ipynb_checkpoints', 'data'],\n",
       "  ['colors.ipynb',\n",
       "   '.DS_Store',\n",
       "   'sankeygo.py',\n",
       "   'sankeygo.ipynb',\n",
       "   'work.ipynb',\n",
       "   'colors.py']),\n",
       " ('/Users/dengjiaying/Project/Py/statistics/__pycache__',\n",
       "  [],\n",
       "  ['colors.cpython-37.pyc', 'sankeygo.cpython-37.pyc']),\n",
       " ('/Users/dengjiaying/Project/Py/statistics/.ipynb_checkpoints',\n",
       "  [],\n",
       "  ['work-checkpoint.ipynb',\n",
       "   'colors-checkpoint.ipynb',\n",
       "   'sankeygo-checkpoint.ipynb',\n",
       "   'sankeygo-checkpoint.py']),\n",
       " ('/Users/dengjiaying/Project/Py/statistics/data',\n",
       "  ['.ipynb_checkpoints'],\n",
       "  ['.DS_Store',\n",
       "   'req_20200806.csv',\n",
       "   'req_history.html',\n",
       "   'sankey_energy.json',\n",
       "   'argb.html',\n",
       "   'bug_20200806.csv',\n",
       "   'req_history.csv',\n",
       "   'rgb_db.db']),\n",
       " ('/Users/dengjiaying/Project/Py/statistics/data/.ipynb_checkpoints',\n",
       "  [],\n",
       "  ['sankey_energy-checkpoint.json'])]"
      ]
     },
     "execution_count": 16,
     "metadata": {},
     "output_type": "execute_result"
    }
   ],
   "source": [
    "[ i for i in os.walk('/Users/dengjiaying/Project/Py/statistics/')]"
   ]
  }
 ],
 "metadata": {
  "kernelspec": {
   "display_name": "Python 3",
   "language": "python",
   "name": "python3"
  },
  "language_info": {
   "codemirror_mode": {
    "name": "ipython",
    "version": 3
   },
   "file_extension": ".py",
   "mimetype": "text/x-python",
   "name": "python",
   "nbconvert_exporter": "python",
   "pygments_lexer": "ipython3",
   "version": "3.7.7"
  }
 },
 "nbformat": 4,
 "nbformat_minor": 4
}
