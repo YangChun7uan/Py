{
 "cells": [
  {
   "cell_type": "markdown",
   "metadata": {},
   "source": [
    "# 数据结构和算法\n",
    "**Sections with code snippets in this subject**\n",
    "\n",
    "* [数据结构-heap](#数据结构大小堆)\n",
    "* [数据结构-list](#数据结构-list)\n",
    "* [Python 的protocol和interface](#Python中涉及通用的协议(protocol))"
   ]
  },
  {
   "cell_type": "markdown",
   "metadata": {},
   "source": [
    "## `数据结构`大小堆\n",
    "\n",
    "> python heapq 模块的文档涉及底层实现的细节讨论"
   ]
  },
  {
   "cell_type": "markdown",
   "metadata": {},
   "source": [
    "## `数据结构`优先队列"
   ]
  },
  {
   "cell_type": "markdown",
   "metadata": {},
   "source": [
    "## `数据结构` list\n",
    "list `list??` 列表的初始化对象参数是可迭代的对象，可以传入 generator 初始化列表.\n",
    "> 1. 所有生成器（使用yield）都是迭代器，生成器完全实现了迭代器的接口。\n",
    "> 2. Python 中所有集合都可以进行迭代\n",
    "\n",
    "* 需要区分可迭代对象和迭代器两者\n",
    "> 可迭代对象是指实现了 \\_\\_iter\\_\\_ 或者 \\_\\_getitem\\_\\_ 从0开始获取(为向前兼容Python）的对象；\n",
    "> 迭代器是指通过 \\_\\_iter\\_\\_ 返回的迭代器  \n",
    "> python 解释器迭代对象 X 时的策略是：自动调用 iter(x)\n",
    ">> 如果 X 实现了\\_\\_iter\\_\\_ 则调用它返回迭代器，否则调用 \\_\\_getitem\\_\\_ 尝试从0开始获取元素，都没有情况下报错\n",
    "\n",
    "__Iterator ABCs 结构__\n",
    "\n",
    "![image](../../fluentPy/data/pic/IteratorABCs.png)\n",
    "\n",
    "Fluent Python 第十四章有关于[迭代器和生成器](../../fluentPy/chp_14/iteratorAndGenerator.ipynb)的精彩讨论!"
   ]
  },
  {
   "cell_type": "markdown",
   "metadata": {},
   "source": [
    "#### `检查对象是否为迭代器`"
   ]
  },
  {
   "cell_type": "code",
   "execution_count": 29,
   "metadata": {},
   "outputs": [
    {
     "data": {
      "text/plain": [
       "True"
      ]
     },
     "execution_count": 29,
     "metadata": {},
     "output_type": "execute_result"
    }
   ],
   "source": [
    "from collections import abc\n",
    "f = open('/Users/dengjiaying/Project/Py/statistics/colors.py')\n",
    "isinstance(f,abc.Iterator)\n"
   ]
  },
  {
   "cell_type": "markdown",
   "metadata": {},
   "source": [
    "## Python中涉及通用的协议(protocol) \n",
    "* 迭代器 `iter`  \n",
    "* 切片 `slice`\n",
    "> slict 对象切片能够用于任何允许切片操作的地方\n",
    ">> 切片 `indices` 计算切片的范围[start,stop,step]属性"
   ]
  },
  {
   "cell_type": "code",
   "execution_count": 25,
   "metadata": {},
   "outputs": [
    {
     "data": {
      "text/plain": [
       "'lloWorldMan'"
      ]
     },
     "execution_count": 25,
     "metadata": {},
     "output_type": "execute_result"
    }
   ],
   "source": [
    "a = slice(2,16)\n",
    "s = 'HelloWorldMan'\n",
    "a.indices(len(s))\n"
   ]
  },
  {
   "cell_type": "code",
   "execution_count": 22,
   "metadata": {},
   "outputs": [
    {
     "data": {
      "text/plain": [
       "13"
      ]
     },
     "execution_count": 22,
     "metadata": {},
     "output_type": "execute_result"
    }
   ],
   "source": [
    "len(s)"
   ]
  },
  {
   "cell_type": "code",
   "execution_count": 2,
   "metadata": {},
   "outputs": [],
   "source": [
    "from collections import OrderedDict\n",
    "\n",
    "d = OrderedDict()\n",
    "d['foo'] = 1\n",
    "d['bar'] = 2\n",
    "d['spam'] = 3\n",
    "d['grok'] = 4"
   ]
  },
  {
   "cell_type": "code",
   "execution_count": 12,
   "metadata": {},
   "outputs": [
    {
     "data": {
      "text/plain": [
       "\u001b[0;31mDocstring:\u001b[0m D.keys() -> a set-like object providing a view on D's keys\n",
       "\u001b[0;31mType:\u001b[0m      builtin_function_or_method\n"
      ]
     },
     "metadata": {},
     "output_type": "display_data"
    }
   ],
   "source": [
    "d.keys??"
   ]
  },
  {
   "cell_type": "code",
   "execution_count": 14,
   "metadata": {},
   "outputs": [
    {
     "data": {
      "text/plain": [
       "\u001b[0;31mInit signature:\u001b[0m \u001b[0mlist\u001b[0m\u001b[0;34m(\u001b[0m\u001b[0miterable\u001b[0m\u001b[0;34m=\u001b[0m\u001b[0;34m(\u001b[0m\u001b[0;34m)\u001b[0m\u001b[0;34m,\u001b[0m \u001b[0;34m/\u001b[0m\u001b[0;34m)\u001b[0m\u001b[0;34m\u001b[0m\u001b[0;34m\u001b[0m\u001b[0m\n",
       "\u001b[0;31mDocstring:\u001b[0m     \n",
       "Built-in mutable sequence.\n",
       "\n",
       "If no argument is given, the constructor creates a new empty list.\n",
       "The argument must be an iterable if specified.\n",
       "\u001b[0;31mType:\u001b[0m           type\n",
       "\u001b[0;31mSubclasses:\u001b[0m     _HashedSeq, StackSummary, SList, _ImmutableLineList, FormattedText, NodeList, _ExplodedList, Stack, _Accumulator, _ymd, ...\n"
      ]
     },
     "metadata": {},
     "output_type": "display_data"
    }
   ],
   "source": [
    "list??"
   ]
  },
  {
   "cell_type": "code",
   "execution_count": 11,
   "metadata": {},
   "outputs": [
    {
     "data": {
      "text/plain": [
       "\u001b[0;31mDocstring:\u001b[0m D.keys() -> a set-like object providing a view on D's keys\n",
       "\u001b[0;31mType:\u001b[0m      builtin_function_or_method\n"
      ]
     },
     "metadata": {},
     "output_type": "display_data"
    }
   ],
   "source": [
    "dt = {'a':1,'b':2,'c':3,'d':4}\n",
    "dt.keys??"
   ]
  }
 ],
 "metadata": {
  "kernelspec": {
   "display_name": "Python 3",
   "language": "python",
   "name": "python3"
  },
  "language_info": {
   "codemirror_mode": {
    "name": "ipython",
    "version": 3
   },
   "file_extension": ".py",
   "mimetype": "text/x-python",
   "name": "python",
   "nbconvert_exporter": "python",
   "pygments_lexer": "ipython3",
   "version": "3.7.7"
  }
 },
 "nbformat": 4,
 "nbformat_minor": 4
}
