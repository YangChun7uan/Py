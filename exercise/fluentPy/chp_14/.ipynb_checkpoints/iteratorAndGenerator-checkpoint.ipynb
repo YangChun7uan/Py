{
 "cells": [
  {
   "cell_type": "markdown",
   "metadata": {},
   "source": [
    "# 迭代器、生成器\n",
    "* 生成器函数作深度遍历\n",
    "yield from 语法的伪代码，伪代码的对象是生成器`代理端`；\n",
    "\n",
    "RESULT = yield from EXPR\n",
    "```\n",
    "_i = iter(EXPR)\n",
    "try:\n",
    "  _y = next(_i)\n",
    "catch StopIteration:\n",
    "  _r = e.value\n",
    "else:\n",
    "  while 1:\n",
    "    _s = yield _y\n",
    "    try:\n",
    "      _y = _i.send(_s)\n",
    "    catch StopIteration as _e:\n",
    "      _r = _e.value\n",
    "      break\n",
    "\n",
    "RESULT = _r\n",
    "\n",
    "```\n"
   ]
  },
  {
   "cell_type": "code",
   "execution_count": 5,
   "metadata": {},
   "outputs": [
    {
     "name": "stdout",
     "output_type": "stream",
     "text": [
      "Node0\n",
      "Node1\n",
      "Node3\n",
      "Node4\n",
      "Node2\n",
      "Node5\n"
     ]
    }
   ],
   "source": [
    "class Node:\n",
    "    def __init__(self, value):\n",
    "        self._value = value\n",
    "        self._children = []\n",
    "    \n",
    "    def add_child(self, node):\n",
    "        self._children.append(node)\n",
    "    \n",
    "    def __repr__(self):\n",
    "        return 'Node{!r}'.format(self._value)\n",
    "    \n",
    "    def __iter__(self):\n",
    "        return iter(self._children)\n",
    "    \n",
    "    def deep_first(self):\n",
    "        yield self\n",
    "        for i in self:\n",
    "            yield from i.deep_first()\n",
    "\n",
    "root = Node(0)\n",
    "child1 = Node(1)\n",
    "child2 = Node(2)\n",
    "child3 = Node(3)\n",
    "child4 = Node(4)\n",
    "child5 = Node(5)\n",
    "\n",
    "\n",
    "root.add_child(child1)\n",
    "root.add_child(child2)\n",
    "\n",
    "child1.add_child(child3)\n",
    "child1.add_child(child4)\n",
    "\n",
    "child2.add_child(child5)\n",
    "\n",
    "\n",
    "for ch in root.deep_first() :\n",
    "    print(ch)"
   ]
  },
  {
   "cell_type": "markdown",
   "metadata": {},
   "source": [
    "## 生成器的两者结构方式\n",
    "* generator expression\n",
    "* generator function\n",
    "\n",
    "> Calling a generator function creates a generator object\n",
    ".However,it does not start running the function "
   ]
  },
  {
   "cell_type": "code",
   "execution_count": 9,
   "metadata": {},
   "outputs": [
    {
     "name": "stdout",
     "output_type": "stream",
     "text": [
      "Counting down from  5\n"
     ]
    },
    {
     "data": {
      "text/plain": [
       "5"
      ]
     },
     "execution_count": 9,
     "metadata": {},
     "output_type": "execute_result"
    }
   ],
   "source": [
    "def countdown(n):\n",
    "    print('Counting down from ',n)\n",
    "    while n > 0:\n",
    "        yield n\n",
    "        n -= 1\n",
    "\n",
    "# 此时 countdown 并没有执行代码块\n",
    "\n",
    "x = countdown(5)\n",
    "\n",
    "# 激活 generator 执行\n",
    "x.__next__()"
   ]
  },
  {
   "cell_type": "markdown",
   "metadata": {},
   "source": [
    "# QA\n",
    "## 1.在 PythonCookbook 通过读取日志文件的生成器管道的例子，为什么会使用到 `yield from` 语句；\n",
    "```\n",
    "    # 使用 yield from \n",
    "    def gen_concatenate(iterators):\n",
    "        for it in iterators:\n",
    "            yield from it\n",
    "```\n",
    "\n",
    "因为生成器是需要通过__next__来驱动，yield from 类似精简了其中一个 for 循环,等价于：\n",
    "```\n",
    "    def gen_concatenate(iterators):\n",
    "        for it in iterators:\n",
    "            for item in it:\n",
    "                yield it\n",
    "```\n",
    "\n",
    "如果不用 yield from 来驱动内层生成器 it，则会导致 gen_concatenate 产出的是迭代器对象；\n",
    "\n",
    "通过下面 chain 的自定义实现来说明：，它输出的内容是‘['ABC', (0, 1, 2, 3)]’ 原始的可迭代对象，我们预期的是输出 ['A','B','C',0,1,2,3]\n",
    "```\n",
    "    def chain(*iterables):\n",
    "        for it in iterables:\n",
    "            yield it\n",
    "    ​\n",
    "    s = 'ABC'\n",
    "    t = tuple(range(4))\n",
    "    ​\n",
    "    list(chain(s,t))\n",
    "    ['ABC', (0, 1, 2, 3)]\n",
    "```\n",
    "\n",
    "``` \n",
    "    def chain(*iterators):\n",
    "        for it in iterators:\n",
    "            yield from it\n",
    "```\n",
    "等价于：\n",
    "``` \n",
    "    def chain(*iterators):\n",
    "        for its in iterators:\n",
    "            for it in ites:\n",
    "                yield from it\n",
    "```\n",
    "\n",
    "> 当生成器返回的还是生成器时，需要考虑使用 `yield from` 驱动生成器执行\n"
   ]
  },
  {
   "cell_type": "code",
   "execution_count": 16,
   "metadata": {},
   "outputs": [
    {
     "data": {
      "text/plain": [
       "['A', 'B', 'C', 0, 1, 2, 3]"
      ]
     },
     "execution_count": 16,
     "metadata": {},
     "output_type": "execute_result"
    }
   ],
   "source": [
    "def chain(*iterables):\n",
    "    for it in iterables:\n",
    "        yield it\n",
    "\n",
    "s = 'ABC'\n",
    "t = tuple(range(4))\n",
    "\n",
    "def chain2(*iterables):\n",
    "    for it in iterables:\n",
    "        yield from it\n",
    "list(chain2(s,t))"
   ]
  },
  {
   "cell_type": "markdown",
   "metadata": {},
   "source": [
    "> 将一个文件内容分别写入多个文件中"
   ]
  },
  {
   "cell_type": "code",
   "execution_count": 80,
   "metadata": {},
   "outputs": [],
   "source": [
    "import random\n",
    "\n",
    "\n",
    "PATH = '/Users/dengjiaying/Project/Py/exercise/fluentPy/data/log'\n",
    "def gen_open(paths):\n",
    "    for path in paths:\n",
    "        with open(path,'rt') as f:\n",
    "            yield f\n",
    "\n",
    "def gen_cat(files):\n",
    "    for file in files:\n",
    "        yield from file\n",
    "\n",
    "        \n",
    "def gen_file():\n",
    "    suffix = range(10)\n",
    "    prefix = ['access-log'] * len(suffix)\n",
    "    return [open('{}{}.{}'.format(PATH,pre,suf),'wt') for pre,suf in zip(prefix, suffix)]\n",
    "    \n",
    "def gen_shuffle(lines):\n",
    "    randrange = random.randrange\n",
    "    outs = gen_file()\n",
    "    for line in lines:\n",
    "        idx = randrange(10)\n",
    "        print(line, file=outs[idx])"
   ]
  },
  {
   "cell_type": "code",
   "execution_count": 79,
   "metadata": {},
   "outputs": [],
   "source": [
    "paths = Path('/Users/dengjiaying/Project/Py/exercise/fluentPy/data/').rglob('access*')\n",
    "files = gen_open(paths)\n",
    "lines = gen_cat(files)\n",
    "gen_shuffle(lines)"
   ]
  },
  {
   "cell_type": "code",
   "execution_count": 63,
   "metadata": {},
   "outputs": [
    {
     "data": {
      "text/plain": [
       "7"
      ]
     },
     "execution_count": 63,
     "metadata": {},
     "output_type": "execute_result"
    }
   ],
   "source": [
    "random.randrange(10)"
   ]
  },
  {
   "cell_type": "code",
   "execution_count": 12,
   "metadata": {},
   "outputs": [
    {
     "data": {
      "text/plain": [
       "\u001b[0;31mSignature:\u001b[0m \u001b[0mline\u001b[0m\u001b[0;34m.\u001b[0m\u001b[0mrsplit\u001b[0m\u001b[0;34m(\u001b[0m\u001b[0msep\u001b[0m\u001b[0;34m=\u001b[0m\u001b[0;32mNone\u001b[0m\u001b[0;34m,\u001b[0m \u001b[0mmaxsplit\u001b[0m\u001b[0;34m=\u001b[0m\u001b[0;34m-\u001b[0m\u001b[0;36m1\u001b[0m\u001b[0;34m)\u001b[0m\u001b[0;34m\u001b[0m\u001b[0;34m\u001b[0m\u001b[0m\n",
       "\u001b[0;31mDocstring:\u001b[0m\n",
       "Return a list of the words in the string, using sep as the delimiter string.\n",
       "\n",
       "  sep\n",
       "    The delimiter according which to split the string.\n",
       "    None (the default value) means split according to any whitespace,\n",
       "    and discard empty strings from the result.\n",
       "  maxsplit\n",
       "    Maximum number of splits to do.\n",
       "    -1 (the default value) means no limit.\n",
       "\n",
       "Splits are done starting at the end of the string and working to the front.\n",
       "\u001b[0;31mType:\u001b[0m      builtin_function_or_method\n"
      ]
     },
     "metadata": {},
     "output_type": "display_data"
    }
   ],
   "source": [
    "f = open('/Users/dengjiaying/Project/Py/statistics/colors.py')\n",
    "for line in f:\n",
    "    line.rsplit??"
   ]
  },
  {
   "cell_type": "markdown",
   "metadata": {},
   "source": [
    "> `yield from` Concatenate items from one or more source into a single sequence of items"
   ]
  },
  {
   "cell_type": "code",
   "execution_count": 98,
   "metadata": {},
   "outputs": [],
   "source": [
    "# for 循环处理多个 sources 迭代对象\n",
    "def gen_cat(sources):\n",
    "    for src in sources:\n",
    "        yield src\n",
    "#         for item in src:\n",
    "#             yield item\n",
    "\n",
    "def gen_cat2(sources):\n",
    "    for src in sources:\n",
    "        yield from src"
   ]
  },
  {
   "cell_type": "markdown",
   "metadata": {},
   "source": [
    "> `yield from` used to delegate iteration"
   ]
  },
  {
   "cell_type": "code",
   "execution_count": 16,
   "metadata": {},
   "outputs": [],
   "source": [
    "def count_down(n):\n",
    "    while n > 0:\n",
    "        yield n\n",
    "        n -= 1\n",
    "def count_up(stop):\n",
    "    n = 1\n",
    "    while(n < stop):\n",
    "        yield n\n",
    "        n += 1\n",
    "        \n",
    "def up_and_down(n):\n",
    "    yield from count_up(n)\n",
    "    yield from count_down(n)"
   ]
  },
  {
   "cell_type": "code",
   "execution_count": 19,
   "metadata": {},
   "outputs": [],
   "source": [
    "a = [1,2,3,4]\n",
    "b = (x**2 for x in a)"
   ]
  },
  {
   "cell_type": "code",
   "execution_count": 33,
   "metadata": {},
   "outputs": [
    {
     "data": {
      "text/plain": [
       "'97238'"
      ]
     },
     "execution_count": 33,
     "metadata": {},
     "output_type": "execute_result"
    }
   ],
   "source": [
    "s = '81.107.39.38 - ... \"GET /ply/ply.html HTTP/1.1\" 200 97238'\n",
    "s.rsplit(None,1)[1]"
   ]
  },
  {
   "cell_type": "code",
   "execution_count": 99,
   "metadata": {},
   "outputs": [
    {
     "name": "stdout",
     "output_type": "stream",
     "text": [
      "Total 4220541399 b\n"
     ]
    }
   ],
   "source": [
    "with open('/Users/dengjiaying/Project/Py/exercise/fluentPy/data/log/access-log') as wwwlog:\n",
    "    bytecolumn = (line.rsplit(None,1)[1] for line in wwwlog)\n",
    "    byte_sent  = (int(x) for x in bytecolumn if x != '-')\n",
    "    print(\"Total {} b\".format(sum(byte_sent)))"
   ]
  },
  {
   "cell_type": "code",
   "execution_count": 96,
   "metadata": {},
   "outputs": [
    {
     "ename": "SyntaxError",
     "evalue": "invalid syntax (<ipython-input-96-8774e09c6491>, line 8)",
     "output_type": "error",
     "traceback": [
      "\u001b[0;36m  File \u001b[0;32m\"<ipython-input-96-8774e09c6491>\"\u001b[0;36m, line \u001b[0;32m8\u001b[0m\n\u001b[0;31m    with open(x) for x in filenames as f:\u001b[0m\n\u001b[0m                   ^\u001b[0m\n\u001b[0;31mSyntaxError\u001b[0m\u001b[0;31m:\u001b[0m invalid syntax\n"
     ]
    }
   ],
   "source": [
    "import random\n",
    "\n",
    "suffix = range(10)\n",
    "prefix = ['access-log'] * len(suffix)\n",
    "\n",
    "filenames = ('{}.{}'.format(pre,suf) for (pre,suf) in zip(prefix,suffix))\n",
    "with open('/Users/dengjiaying/Project/Py/exercise/fluentPy/data/log/access-log') as wwwlog:\n",
    "        "
   ]
  },
  {
   "cell_type": "code",
   "execution_count": 85,
   "metadata": {},
   "outputs": [],
   "source": []
  },
  {
   "cell_type": "code",
   "execution_count": 12,
   "metadata": {},
   "outputs": [],
   "source": [
    "import re\n",
    "from pathlib import Path\n",
    "# paths = Path('/Users/dengjiaying/Project/Py/statistics/data').rglob('req*')\n",
    "\n",
    "def gen_open(paths):\n",
    "    for path in paths:\n",
    "        with open(path,'rt') as f:\n",
    "#         f = open(path, 'rt')\n",
    "            yield f\n",
    "        \n",
    "        \n",
    "def gen_cat(sources):\n",
    "    for src in sources:\n",
    "        yield from src\n",
    "\n",
    "def gen_grep(pat,lines):\n",
    "    patc = re.compile(pat)\n",
    "    return (line for line in lines if patc.search(line))"
   ]
  },
  {
   "cell_type": "code",
   "execution_count": 13,
   "metadata": {},
   "outputs": [],
   "source": [
    "paths = Path('/Users/dengjiaying/Project/Py/exercise/fluentPy/data/log/').rglob('access*')\n",
    "logfiles = gen_open(paths)\n",
    "lines = gen_cat(logfiles)\n",
    "# patlines = gen_grep('2622',loglines)\n",
    "\n",
    "\n",
    "\n",
    "# for item in patlines:\n",
    "#     print(item)\n",
    "bytecolumn = (line.rsplit(None,1)[1] for line in wwwlog)\n",
    "byte_sent  = (int(x) for x in bytecolumn if x != '-')\n",
    "print(\"Total {} b\".format(sum(byte_sent)))"
   ]
  },
  {
   "cell_type": "code",
   "execution_count": 14,
   "metadata": {},
   "outputs": [
    {
     "ename": "TypeError",
     "evalue": "expected string or bytes-like object",
     "output_type": "error",
     "traceback": [
      "\u001b[0;31m---------------------------------------------------------------------------\u001b[0m",
      "\u001b[0;31mTypeError\u001b[0m                                 Traceback (most recent call last)",
      "\u001b[0;32m<ipython-input-14-0e0c7b6a12e4>\u001b[0m in \u001b[0;36m<module>\u001b[0;34m\u001b[0m\n\u001b[0;32m----> 1\u001b[0;31m \u001b[0;32mfor\u001b[0m \u001b[0mitem\u001b[0m \u001b[0;32min\u001b[0m \u001b[0mpatlines\u001b[0m\u001b[0;34m:\u001b[0m\u001b[0;34m\u001b[0m\u001b[0;34m\u001b[0m\u001b[0m\n\u001b[0m\u001b[1;32m      2\u001b[0m     \u001b[0mprint\u001b[0m\u001b[0;34m(\u001b[0m\u001b[0mitem\u001b[0m\u001b[0;34m)\u001b[0m\u001b[0;34m\u001b[0m\u001b[0;34m\u001b[0m\u001b[0m\n",
      "\u001b[0;32m<ipython-input-12-c6f4f15024a6>\u001b[0m in \u001b[0;36m<genexpr>\u001b[0;34m(.0)\u001b[0m\n\u001b[1;32m     16\u001b[0m \u001b[0;32mdef\u001b[0m \u001b[0mgen_grep\u001b[0m\u001b[0;34m(\u001b[0m\u001b[0mpat\u001b[0m\u001b[0;34m,\u001b[0m\u001b[0mlines\u001b[0m\u001b[0;34m)\u001b[0m\u001b[0;34m:\u001b[0m\u001b[0;34m\u001b[0m\u001b[0;34m\u001b[0m\u001b[0m\n\u001b[1;32m     17\u001b[0m     \u001b[0mpatc\u001b[0m \u001b[0;34m=\u001b[0m \u001b[0mre\u001b[0m\u001b[0;34m.\u001b[0m\u001b[0mcompile\u001b[0m\u001b[0;34m(\u001b[0m\u001b[0mpat\u001b[0m\u001b[0;34m)\u001b[0m\u001b[0;34m\u001b[0m\u001b[0;34m\u001b[0m\u001b[0m\n\u001b[0;32m---> 18\u001b[0;31m     \u001b[0;32mreturn\u001b[0m \u001b[0;34m(\u001b[0m\u001b[0mline\u001b[0m \u001b[0;32mfor\u001b[0m \u001b[0mline\u001b[0m \u001b[0;32min\u001b[0m \u001b[0mlines\u001b[0m \u001b[0;32mif\u001b[0m \u001b[0mpatc\u001b[0m\u001b[0;34m.\u001b[0m\u001b[0msearch\u001b[0m\u001b[0;34m(\u001b[0m\u001b[0mline\u001b[0m\u001b[0;34m)\u001b[0m\u001b[0;34m)\u001b[0m\u001b[0;34m\u001b[0m\u001b[0;34m\u001b[0m\u001b[0m\n\u001b[0m",
      "\u001b[0;31mTypeError\u001b[0m: expected string or bytes-like object"
     ]
    }
   ],
   "source": [
    "for item in patlines:\n",
    "    print(item)"
   ]
  },
  {
   "cell_type": "code",
   "execution_count": 76,
   "metadata": {},
   "outputs": [
    {
     "data": {
      "text/plain": [
       "\u001b[0;31mType:\u001b[0m        generator\n",
       "\u001b[0;31mString form:\u001b[0m <generator object gen_grep.<locals>.<genexpr> at 0x7fc313e87bd0>\n",
       "\u001b[0;31mDocstring:\u001b[0m   <no docstring>\n"
      ]
     },
     "metadata": {},
     "output_type": "display_data"
    }
   ],
   "source": [
    "patlines??"
   ]
  },
  {
   "cell_type": "code",
   "execution_count": 59,
   "metadata": {},
   "outputs": [],
   "source": [
    "files = gen_open(paths)"
   ]
  },
  {
   "cell_type": "code",
   "execution_count": 61,
   "metadata": {},
   "outputs": [
    {
     "name": "stdout",
     "output_type": "stream",
     "text": [
      "/Users/dengjiaying/Project/Py/statistics/data/req_history.csv\n",
      "/Users/dengjiaying/Project/Py/statistics/data/req_history.csv\n",
      "/Users/dengjiaying/Project/Py/statistics/data/req_history.csv\n"
     ]
    }
   ],
   "source": [
    "for file in files:\n",
    "    print(f)"
   ]
  }
 ],
 "metadata": {
  "kernelspec": {
   "display_name": "Python 3",
   "language": "python",
   "name": "python3"
  },
  "language_info": {
   "codemirror_mode": {
    "name": "ipython",
    "version": 3
   },
   "file_extension": ".py",
   "mimetype": "text/x-python",
   "name": "python",
   "nbconvert_exporter": "python",
   "pygments_lexer": "ipython3",
   "version": "3.7.7"
  }
 },
 "nbformat": 4,
 "nbformat_minor": 4
}
