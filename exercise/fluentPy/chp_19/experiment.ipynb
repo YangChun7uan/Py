{
 "cells": [
  {
   "cell_type": "code",
   "execution_count": null,
   "metadata": {},
   "outputs": [],
   "source": [
    "s=\"abc\"\n",
    "a=\"def\"\n",
    "id(s)"
   ]
  },
  {
   "cell_type": "code",
   "execution_count": null,
   "metadata": {},
   "outputs": [],
   "source": [
    "s=''\n",
    "print(\"init addr {}\".format(id(s)))\n",
    "for n in range(0, 100): \n",
    "    print(id(s))\n",
    "    s += str(n)\n",
    "# print(id(s))"
   ]
  },
  {
   "cell_type": "markdown",
   "metadata": {},
   "source": [
    "> A double asterisk ** denotes dictionary unpacking. Its operand must be a mapping. Each mapping item is added to the new dictionary. Later values replace values already set by earlier key/datum pairs and earlier dictionary unpackings.\n",
    "> https://www.python.org/dev/peps/pep-0448/\n",
    "\n",
    "> Unpacking Dictionaries With the ** Operator\n",
    "> tupel/list assignment unpack 类似 match 匹配的使用\n",
    "> on the left assignment tuple/list * is pack,unpack 的反操作"
   ]
  },
  {
   "cell_type": "code",
   "execution_count": null,
   "metadata": {},
   "outputs": [],
   "source": [
    "dic = {'A':\"aplha\",'B':'apl'}\n",
    "\n",
    "# pack operation\n",
    "a,*b= ('a','b','d') # b = ['b','d']\n",
    "\n"
   ]
  },
  {
   "cell_type": "code",
   "execution_count": null,
   "metadata": {},
   "outputs": [],
   "source": [
    "def scope_parameter():\n",
    "    outer = 'who are you'\n",
    "    def scope_inner():\n",
    "        nonlocal outer\n",
    "        outer += \"?\"\n",
    "        print(outer)\n",
    "    scope_inner()\n",
    "        \n",
    "scope_parameter()"
   ]
  },
  {
   "cell_type": "code",
   "execution_count": null,
   "metadata": {},
   "outputs": [],
   "source": [
    "e = lambda x : x+1\n",
    "l=[1,2,3,4,5,6]\n",
    "def m(x):\n",
    "    return x\n",
    "[(lambda x: print(x))(x) for x in l]\n",
    "\n",
    "from pprint import pprint\n",
    "import parser\n",
    "cst = parser.expr('[(lambda x: print(x))(x) for x in l]')\n",
    "pprint(parser.st2list(cst))\n",
    "pprint(lex('[(lambda x: print(x))(x) for x in l]'))\n"
   ]
  },
  {
   "cell_type": "code",
   "execution_count": null,
   "metadata": {},
   "outputs": [],
   "source": [
    "import instaviz\n",
    "def fun1():\n",
    "    a = 2+3*4+5\n",
    "    return a\n",
    "\n",
    "# instaviz.show(fun1)"
   ]
  },
  {
   "cell_type": "code",
   "execution_count": null,
   "metadata": {},
   "outputs": [],
   "source": [
    "import copy\n",
    "x=[1]\n",
    "x.append(x)\n",
    "len(x)\n",
    "y=copy.deepcopy(x)\n",
    "# x==y\n",
    "y"
   ]
  },
  {
   "cell_type": "code",
   "execution_count": null,
   "metadata": {},
   "outputs": [],
   "source": [
    "def tt():\n",
    "    '''\n",
    "    测试 dir() 函数\n",
    "    '''\n",
    "    print(\"hello\")\n",
    "    \n",
    "dir(tt)"
   ]
  },
  {
   "cell_type": "code",
   "execution_count": null,
   "metadata": {},
   "outputs": [],
   "source": [
    "class C:pass\n",
    "def func():pass\n",
    "obj = C()\n",
    "\n",
    "sorted(set(dir(func)) - set(dir(obj)))"
   ]
  },
  {
   "cell_type": "code",
   "execution_count": null,
   "metadata": {},
   "outputs": [],
   "source": [
    "dir??\n"
   ]
  },
  {
   "cell_type": "code",
   "execution_count": null,
   "metadata": {},
   "outputs": [],
   "source": [
    "def tag(name, *content, cls=None, **attrs):\n",
    "    if cls is not None:\n",
    "        attrs['class'] = cls\n",
    "    if attrs:\n",
    "        attr_str = ''.join('%s = \"%s \"'%(attr, value)\n",
    "                            for attr, value in sorted(attrs.items()))\n",
    "    else:\n",
    "        attr_str = ''\n",
    "    if content:\n",
    "        return '\\n'.join('<%s %s> %s </%s>' %\n",
    "                        (name, attr_str, c, name) for c in content)\n",
    "    else:\n",
    "        return '<%s %s/>'%(name, attr_str)"
   ]
  },
  {
   "cell_type": "code",
   "execution_count": null,
   "metadata": {},
   "outputs": [],
   "source": [
    "# print(tag('pr','hello', 'world'))\n",
    "# tag(content='pr',name=\"www\")\n",
    "tag(\"hello\", cls='TTT', a='1',b='2')"
   ]
  },
  {
   "cell_type": "code",
   "execution_count": null,
   "metadata": {},
   "outputs": [],
   "source": [
    "from inspect import signature\n",
    "\n",
    "sig = signature(tag)"
   ]
  },
  {
   "cell_type": "code",
   "execution_count": null,
   "metadata": {},
   "outputs": [],
   "source": [
    "sig # doctest +ELLIPSIS\n",
    "str(sig)\n",
    "for name ,param in sig.parameters.items():\n",
    "    print(param.kind, ':', name, '=', param.default)"
   ]
  },
  {
   "cell_type": "code",
   "execution_count": null,
   "metadata": {},
   "outputs": [],
   "source": [
    "from operator import mul\n",
    "\n",
    "if True:\n",
    "    x = 1\n",
    "    print(id(x))\n",
    "else:\n",
    "    x = 2\n",
    "    print(id(x))\n",
    "    \n",
    "id(x)"
   ]
  },
  {
   "cell_type": "code",
   "execution_count": null,
   "metadata": {},
   "outputs": [],
   "source": [
    "class MySeq:\n",
    "    def __getitem__(self, index):\n",
    "        return index\n",
    "    \n",
    "s = MySeq()\n",
    "s[1:4]\n",
    "s[1:4:2,9]"
   ]
  },
  {
   "cell_type": "code",
   "execution_count": null,
   "metadata": {},
   "outputs": [],
   "source": [
    "dir(slice)\n",
    "slice"
   ]
  },
  {
   "cell_type": "code",
   "execution_count": null,
   "metadata": {},
   "outputs": [],
   "source": [
    "help(slice.indices)"
   ]
  },
  {
   "cell_type": "code",
   "execution_count": null,
   "metadata": {},
   "outputs": [],
   "source": [
    "t=zip(range(3),\"ABC\")\n",
    "list(t)"
   ]
  },
  {
   "cell_type": "code",
   "execution_count": null,
   "metadata": {},
   "outputs": [],
   "source": [
    "# help(range)\n",
    "\n",
    "t = range(4)\n",
    "t??"
   ]
  },
  {
   "cell_type": "code",
   "execution_count": null,
   "metadata": {},
   "outputs": [],
   "source": [
    "import re\n",
    "import reprlib\n",
    "\n",
    "RE_WORD = re.compile('\\w+')\n",
    "\n",
    "class Sentence:\n",
    "    def __init__(self, text):\n",
    "        self.text = text\n",
    "        self.words = RE_WORD.findall(text)\n",
    "    \n",
    "    def __getitem__(self, index):\n",
    "        return self.words[index]\n",
    "    \n",
    "    def __len__(self):\n",
    "        return len(self.words)\n",
    "    \n",
    "    def __repr__(self):\n",
    "        return 'Sentence (%s) '%reprlib.repr(self.text)\n",
    "    \n",
    "\n",
    "        "
   ]
  },
  {
   "cell_type": "code",
   "execution_count": null,
   "metadata": {},
   "outputs": [],
   "source": [
    "s = Sentence('\"The time has come,\" the Walrus said.')\n",
    "for word in s:\n",
    "    print(word)\n",
    "\n",
    "list(s)"
   ]
  },
  {
   "cell_type": "code",
   "execution_count": null,
   "metadata": {},
   "outputs": [],
   "source": [
    "class Foo:\n",
    "    def __iter__(self):\n",
    "        pass\n",
    "    \n",
    "from collections import abc\n",
    "issubclass(Foo, abc.Iterable)"
   ]
  },
  {
   "cell_type": "code",
   "execution_count": null,
   "metadata": {},
   "outputs": [],
   "source": [
    "f = Foo()\n",
    "# isinstance(f, abc.Iterable)\n",
    "isinstance(s, abc.Iterable)"
   ]
  },
  {
   "cell_type": "code",
   "execution_count": null,
   "metadata": {},
   "outputs": [],
   "source": [
    "def vowel(c):\n",
    "    return c.lower() in 'aeiou'\n",
    "\n",
    "vowel('d')"
   ]
  },
  {
   "cell_type": "code",
   "execution_count": null,
   "metadata": {},
   "outputs": [],
   "source": [
    "list(filter(vowel, 'Aardvark'))"
   ]
  },
  {
   "cell_type": "code",
   "execution_count": null,
   "metadata": {},
   "outputs": [],
   "source": [
    "import itertools\n",
    "list(itertools.filterfalse(vowel, 'Aardvark'))"
   ]
  },
  {
   "cell_type": "code",
   "execution_count": null,
   "metadata": {},
   "outputs": [],
   "source": [
    "list(itertools.dropwhile(vowel, 'Aardvark'))"
   ]
  },
  {
   "cell_type": "code",
   "execution_count": null,
   "metadata": {},
   "outputs": [],
   "source": [
    "list(itertools.takewhile(vowel,'Aardvark'))"
   ]
  },
  {
   "cell_type": "code",
   "execution_count": null,
   "metadata": {},
   "outputs": [],
   "source": [
    "list(itertools.compress('Aardvark', (1,)))"
   ]
  },
  {
   "cell_type": "code",
   "execution_count": null,
   "metadata": {},
   "outputs": [],
   "source": [
    "list(itertools.islice('Aardvark',4,7))"
   ]
  },
  {
   "cell_type": "code",
   "execution_count": null,
   "metadata": {},
   "outputs": [],
   "source": [
    "list(itertools.chain('ABC', range(2)))"
   ]
  },
  {
   "cell_type": "code",
   "execution_count": null,
   "metadata": {},
   "outputs": [],
   "source": [
    "list(itertools.chain(enumerate('ABC')))"
   ]
  },
  {
   "cell_type": "code",
   "execution_count": null,
   "metadata": {},
   "outputs": [],
   "source": [
    "list(itertools.chain.from_iterable(enumerate('ABC')))"
   ]
  },
  {
   "cell_type": "code",
   "execution_count": null,
   "metadata": {},
   "outputs": [],
   "source": [
    "list(zip('ABC', range(4)))"
   ]
  },
  {
   "cell_type": "code",
   "execution_count": null,
   "metadata": {},
   "outputs": [],
   "source": [
    "list(zip('ABC',range(5), [10,20,30,40]))"
   ]
  },
  {
   "cell_type": "code",
   "execution_count": null,
   "metadata": {},
   "outputs": [],
   "source": [
    "suits = 'spades hearts diamonds clubs'.split()\n",
    "list(itertools.product('AK', suits))"
   ]
  },
  {
   "cell_type": "code",
   "execution_count": null,
   "metadata": {},
   "outputs": [],
   "source": [
    "animals = ['rat','bat','duck','eagle','shark','bat','dolphin','lion']\n",
    "for length,group in itertools.groupby(animals, len):\n",
    "    print(length, '->', list(group))"
   ]
  },
  {
   "cell_type": "markdown",
   "metadata": {},
   "source": [
    "# 将生成器用作协程的基本行为"
   ]
  },
  {
   "cell_type": "code",
   "execution_count": null,
   "metadata": {},
   "outputs": [],
   "source": [
    "def simple_coroutine():\n",
    "    print('-> coroutine started')\n",
    "    x = yield\n",
    "    print('-> coroutine received:', x)\n",
    "\n",
    "def simple_coro2(a):\n",
    "    print('-> coroutine started',a)\n",
    "    b = yield a\n",
    "    print('-> coroutine received ',b)\n",
    "    c = yield a + b   \n",
    "    print('-> coroutine received', c)"
   ]
  },
  {
   "cell_type": "code",
   "execution_count": null,
   "metadata": {},
   "outputs": [],
   "source": [
    "my_coro2 = simple_coro2(2)\n",
    "my_coro2"
   ]
  },
  {
   "cell_type": "code",
   "execution_count": null,
   "metadata": {},
   "outputs": [],
   "source": [
    "inspect.getgeneratorstate(my_coro2)"
   ]
  },
  {
   "cell_type": "code",
   "execution_count": null,
   "metadata": {},
   "outputs": [],
   "source": [
    "next(my_coro2)"
   ]
  },
  {
   "cell_type": "code",
   "execution_count": null,
   "metadata": {},
   "outputs": [],
   "source": [
    "next(my_coro2)"
   ]
  },
  {
   "cell_type": "code",
   "execution_count": null,
   "metadata": {},
   "outputs": [],
   "source": [
    "inspect.getgeneratorstate(my_coro2)"
   ]
  },
  {
   "cell_type": "code",
   "execution_count": null,
   "metadata": {},
   "outputs": [],
   "source": [
    "my_coro2.send(None)"
   ]
  },
  {
   "cell_type": "code",
   "execution_count": null,
   "metadata": {},
   "outputs": [],
   "source": [
    "next(my_core)"
   ]
  },
  {
   "cell_type": "code",
   "execution_count": null,
   "metadata": {},
   "outputs": [],
   "source": [
    "my_core.send(42)"
   ]
  },
  {
   "cell_type": "code",
   "execution_count": null,
   "metadata": {},
   "outputs": [],
   "source": [
    "my_core = simple_coroutine()"
   ]
  },
  {
   "cell_type": "code",
   "execution_count": null,
   "metadata": {},
   "outputs": [],
   "source": [
    "import inspect\n",
    "inspect.getgeneratorstate(my_core)"
   ]
  },
  {
   "cell_type": "code",
   "execution_count": null,
   "metadata": {},
   "outputs": [],
   "source": [
    "my_core.send(None)"
   ]
  },
  {
   "cell_type": "code",
   "execution_count": null,
   "metadata": {},
   "outputs": [],
   "source": [
    "inspect.getgeneratorstate(my_core)\n"
   ]
  },
  {
   "cell_type": "code",
   "execution_count": null,
   "metadata": {},
   "outputs": [],
   "source": [
    "my_core.send(222)"
   ]
  },
  {
   "cell_type": "markdown",
   "metadata": {},
   "source": [
    "# 使用协程计算移动平均值"
   ]
  },
  {
   "cell_type": "code",
   "execution_count": null,
   "metadata": {},
   "outputs": [],
   "source": [
    "def averager():\n",
    "    total = 0.0\n",
    "    count = 0\n",
    "    average = None\n",
    "    while True:\n",
    "        term = yield average\n",
    "        total += term\n",
    "        count += 1\n",
    "        average = total / count\n",
    "        "
   ]
  },
  {
   "cell_type": "code",
   "execution_count": null,
   "metadata": {},
   "outputs": [],
   "source": [
    "coro_average = averager()\n",
    "coro_average\n",
    "next(coro_average)"
   ]
  },
  {
   "cell_type": "code",
   "execution_count": null,
   "metadata": {},
   "outputs": [],
   "source": [
    "inspect.getgeneratorstate(coro_average)\n",
    "coro_average.send(10)"
   ]
  },
  {
   "cell_type": "code",
   "execution_count": null,
   "metadata": {},
   "outputs": [],
   "source": [
    "inspect.getgeneratorstate(coro_average)\n",
    "coro_average.send(20)"
   ]
  },
  {
   "cell_type": "code",
   "execution_count": null,
   "metadata": {},
   "outputs": [],
   "source": [
    "inspect.getgeneratorstate(coro_average)"
   ]
  },
  {
   "cell_type": "code",
   "execution_count": null,
   "metadata": {},
   "outputs": [],
   "source": [
    "coro_average.send(5)"
   ]
  },
  {
   "cell_type": "markdown",
   "metadata": {},
   "source": [
    "# 协程的启动需要预先激活，通过装饰器方式进行封装"
   ]
  },
  {
   "cell_type": "code",
   "execution_count": null,
   "metadata": {},
   "outputs": [],
   "source": [
    "from functools import wraps\n",
    "def coroutine(func):\n",
    "    @wraps(func)\n",
    "    def primer(*args, **kwargs):\n",
    "        gen = func(*args, **kwargs)\n",
    "        next(gen)\n",
    "        return gen\n",
    "    return primer\n"
   ]
  },
  {
   "cell_type": "code",
   "execution_count": null,
   "metadata": {},
   "outputs": [],
   "source": [
    "from coroutil import coroutine"
   ]
  },
  {
   "cell_type": "markdown",
   "metadata": {},
   "source": [
    "# 让协程返回值"
   ]
  },
  {
   "cell_type": "code",
   "execution_count": null,
   "metadata": {},
   "outputs": [],
   "source": [
    "from collections import namedtuple\n",
    "\n",
    "Result = namedtuple('Result','count average')\n",
    "def average():\n",
    "    total = 0.0\n",
    "    count = 0\n",
    "    average = None\n",
    "    while True:\n",
    "        term  = yield\n",
    "        if term is None:\n",
    "            break\n",
    "        total += term\n",
    "        count += 1\n",
    "        average = total/count\n",
    "    return (count, average)\n"
   ]
  },
  {
   "cell_type": "code",
   "execution_count": null,
   "metadata": {},
   "outputs": [],
   "source": [
    "coro_avg = average()\n",
    "next(coro_avg)"
   ]
  },
  {
   "cell_type": "code",
   "execution_count": null,
   "metadata": {},
   "outputs": [],
   "source": [
    "coro_avg.send(19)"
   ]
  },
  {
   "cell_type": "code",
   "execution_count": null,
   "metadata": {},
   "outputs": [],
   "source": [
    "coro_avg.send(None)"
   ]
  },
  {
   "cell_type": "markdown",
   "metadata": {},
   "source": [
    "# yield from 和 for 循环会默认处理 StopIteration 异常"
   ]
  },
  {
   "cell_type": "code",
   "execution_count": null,
   "metadata": {},
   "outputs": [],
   "source": [
    "def gen():\n",
    "    for c in 'ABC':\n",
    "        yield c\n",
    "    for i in range(1,3):\n",
    "        yield i"
   ]
  },
  {
   "cell_type": "code",
   "execution_count": null,
   "metadata": {},
   "outputs": [],
   "source": [
    "def gen():\n",
    "    yield from 'ABC'\n",
    "    yield from range(1,3)"
   ]
  },
  {
   "cell_type": "code",
   "execution_count": null,
   "metadata": {},
   "outputs": [],
   "source": [
    "list(gen())"
   ]
  },
  {
   "cell_type": "code",
   "execution_count": null,
   "metadata": {},
   "outputs": [],
   "source": [
    "def chain(*iterables):\n",
    "    for it in iterables:\n",
    "        yield from it"
   ]
  },
  {
   "cell_type": "code",
   "execution_count": null,
   "metadata": {},
   "outputs": [],
   "source": [
    "s = 'ABC'\n",
    "t = tuple(range(4))\n",
    "list(chain(s,t))"
   ]
  },
  {
   "cell_type": "markdown",
   "metadata": {},
   "source": [
    "# 使用 yield from 计算平均值"
   ]
  },
  {
   "cell_type": "code",
   "execution_count": null,
   "metadata": {},
   "outputs": [],
   "source": [
    "from collections import namedtuple\n",
    "\n",
    "Result = namedtuple('Result','count average')\n",
    "\n",
    "def ave():\n",
    "    total = 0.0\n",
    "    count = 0\n",
    "    avg   = None\n",
    "    while True:\n",
    "        term = yield\n",
    "        if term is None:\n",
    "            break\n",
    "        total += term\n",
    "        count += 1\n",
    "        avg    = total/count\n",
    "    return Result(count, avg)\n",
    "\n",
    "def grouper(results, key):\n",
    "    while True:\n",
    "        results[key] = yield from ave()\n",
    "        \n",
    "def main(data):\n",
    "    results = {}\n",
    "    for key, values in data.items():\n",
    "        group = grouper(results, key)\n",
    "        next(group)\n",
    "        for value in values:\n",
    "            group.send(value)\n",
    "            \n",
    "        group.send(None)\n",
    "    print(results)\n",
    "\n",
    "data = {\n",
    "    'girls:kg':\n",
    "    [40.9,20.5,22.3,44.2,55.4],\n",
    "    'girls:m':\n",
    "    [1.6,1.3,1.4,1.5,1.2],\n",
    "    'boys:kg':\n",
    "    [40.9,20.5,44.3,45.2,55.4],\n",
    "    'boys:m':\n",
    "    [1.6,1.7,1.8,1.5,1.6],\n",
    "}"
   ]
  },
  {
   "cell_type": "code",
   "execution_count": null,
   "metadata": {},
   "outputs": [],
   "source": [
    "main(data)"
   ]
  },
  {
   "cell_type": "markdown",
   "metadata": {},
   "source": [
    "# 模拟离散事件仿真"
   ]
  },
  {
   "cell_type": "code",
   "execution_count": null,
   "metadata": {},
   "outputs": [],
   "source": [
    "from  collections import namedtuple\n",
    "\n",
    "Event = namedtuple('Event', 'time proc action')\n",
    "\n",
    "def taxi_process(ident, trips, start_time = 0):\n",
    "    time = yield Event(start_time, ident, 'leave garage')\n",
    "    for i in range(trips):\n",
    "        time = yield Event(time, ident, 'pick up passenger')\n",
    "        time = yield Event(time, ident, 'drop off passenger')\n",
    "    yield Event(time, ident, 'go home')\n",
    "    "
   ]
  },
  {
   "cell_type": "code",
   "execution_count": null,
   "metadata": {},
   "outputs": [],
   "source": [
    "taxi = taxi_process(555, 2, 0)"
   ]
  },
  {
   "cell_type": "code",
   "execution_count": null,
   "metadata": {},
   "outputs": [],
   "source": [
    "next(taxi)"
   ]
  },
  {
   "cell_type": "code",
   "execution_count": null,
   "metadata": {},
   "outputs": [],
   "source": [
    "taxi.send(_.time + 10)"
   ]
  },
  {
   "cell_type": "code",
   "execution_count": null,
   "metadata": {},
   "outputs": [],
   "source": [
    "taxi.send(_.time + 111)"
   ]
  },
  {
   "cell_type": "code",
   "execution_count": null,
   "metadata": {},
   "outputs": [],
   "source": [
    "taxi.send(_.time + 4)"
   ]
  },
  {
   "cell_type": "code",
   "execution_count": null,
   "metadata": {},
   "outputs": [],
   "source": [
    "taxi.send(_.time + 4)"
   ]
  },
  {
   "cell_type": "code",
   "execution_count": null,
   "metadata": {},
   "outputs": [],
   "source": [
    "taxi.send(_.time + 4)"
   ]
  },
  {
   "cell_type": "code",
   "execution_count": null,
   "metadata": {},
   "outputs": [],
   "source": [
    "taxi.send(_.time + 4)"
   ]
  },
  {
   "cell_type": "code",
   "execution_count": null,
   "metadata": {},
   "outputs": [],
   "source": [
    "import os\n",
    "\n",
    "os.cpu_count()"
   ]
  },
  {
   "cell_type": "markdown",
   "metadata": {},
   "source": [
    "# Future 期物的实验\n",
    "> Future 类实例表示已经可能已经完成或尚未完成的延迟计算"
   ]
  },
  {
   "cell_type": "code",
   "execution_count": null,
   "metadata": {},
   "outputs": [],
   "source": [
    "from time import sleep,strftime\n",
    "from concurrent import futures\n",
    "\n",
    "def display(*args):\n",
    "    print(strftime('[%H:%M:%S]'), end='')\n",
    "    print(*args)\n",
    "\n",
    "def loiter(n):\n",
    "    msg = '{} loiter ({}) :doing  nothing for {}s ...'\n",
    "    display(msg.format('\\t'*n,n,n))\n",
    "    sleep(n)\n",
    "    msg = '{} loiter ({}): done.'\n",
    "    display(msg.format('\\t'*n,n))\n",
    "    return n*10\n",
    "\n",
    "def main():\n",
    "    display('Script starting.')\n",
    "    executor = futures.ThreadPoolExecutor(max_workers = 3)\n",
    "    results  = executor.map(loiter, range(5))\n",
    "    display('results:',results)\n",
    "    display('Waiting fo individual results:')\n",
    "    for i, result in enumerate(results):\n",
    "        display('result {}: {}'.format(i, result))"
   ]
  },
  {
   "cell_type": "code",
   "execution_count": null,
   "metadata": {},
   "outputs": [],
   "source": [
    "main()"
   ]
  },
  {
   "cell_type": "code",
   "execution_count": null,
   "metadata": {},
   "outputs": [],
   "source": [
    "from tqdm import db\n",
    "import time\n",
    "\n",
    "for i in tqdm(range(100)):\n",
    "    time.sleep(0.1)"
   ]
  },
  {
   "cell_type": "markdown",
   "metadata": {},
   "source": [
    "# Python asyncio 协程与线程对比示例"
   ]
  },
  {
   "cell_type": "code",
   "execution_count": null,
   "metadata": {},
   "outputs": [],
   "source": [
    "import asyncio\n",
    "import itertools\n",
    "import sys\n",
    "\n",
    "@asyncio.coroutine\n",
    "def spin(msg):\n",
    "    write, flush = sys.stdout.write, sys.stdout.flush\n",
    "    for char in itertools.cycle('|/-\\\\'):\n",
    "        status = char + '' + msg\n",
    "        write(status)\n",
    "        flush()\n",
    "        try:\n",
    "            yield from asyncio.sleep(1)\n",
    "        except asyncio.CancelledError:\n",
    "            break\n",
    "    write('' * len(status) +'\\x08'*len(status))\n",
    "\n",
    "@asyncio.coroutine\n",
    "def slow_function():\n",
    "    yield from asyncio.sleep(3)\n",
    "    return 42\n",
    "\n",
    "@asyncio.coroutine\n",
    "def supervisor():\n",
    "    spinner = asyncio.async (spin('thinking'))\n",
    "    print(\"Spinner object:\",spinner)\n",
    "    result = yield from slow_function()\n",
    "    spinner.cancel()\n",
    "    return result\n",
    "\n",
    "def main():\n",
    "    loop = asyncio.get_event_loop()"
   ]
  },
  {
   "cell_type": "markdown",
   "metadata": {},
   "source": [
    "# Python 元编程\n",
    "* 动态属性转换数据 \\\n",
    "使用 pilot 桑基图的图例属性JSON数据"
   ]
  },
  {
   "cell_type": "code",
   "execution_count": 35,
   "metadata": {},
   "outputs": [],
   "source": [
    "from urllib.request import urlopen\n",
    "import warnings\n",
    "import os\n",
    "import json\n",
    "\n",
    "# 桑基图数据例子\n",
    "# URL = 'https://raw.githubusercontent.com/plotly/plotly.js/master/test/image/mocks/sankey_energy.json'\n",
    "# JSON = 'data/sankey_energy.json'\n",
    "\n",
    "# fluent python 中 oreilly 数据\n",
    "URL = 'https://www.oreilly.com/pub/sc/osconfeed'\n",
    "JSON = 'data/osconfeed.json'\n",
    "\n",
    "def load():\n",
    "    if not os.path.exists(JSON):\n",
    "        msg = 'downloading {} to {}'.format(URL, JSON)\n",
    "        warnings.warn('msg')\n",
    "        with urlopen(URL) as remote, open(JSON,'wb') as local:\n",
    "            local.write(remote.read())\n",
    "        \n",
    "    with open(JSON) as fp:\n",
    "        return json.load(fp)"
   ]
  },
  {
   "cell_type": "code",
   "execution_count": 37,
   "metadata": {},
   "outputs": [],
   "source": [
    "feed = load()"
   ]
  },
  {
   "cell_type": "code",
   "execution_count": 39,
   "metadata": {},
   "outputs": [
    {
     "data": {
      "text/plain": [
       "['conferences', 'events', 'speakers', 'venues']"
      ]
     },
     "execution_count": 39,
     "metadata": {},
     "output_type": "execute_result"
    }
   ],
   "source": [
    "sorted(feed['Schedule'].keys())"
   ]
  },
  {
   "cell_type": "markdown",
   "metadata": {},
   "source": [
    "## 动态属性访问JSON类数据\n",
    "> feed['Schedule']['venues']\n"
   ]
  },
  {
   "cell_type": "code",
   "execution_count": 58,
   "metadata": {},
   "outputs": [],
   "source": [
    "from collections import abc\n",
    "class FrozenJSON:\n",
    "    def __init__(self, mapping):\n",
    "        self.__data = dict(mapping)\n",
    "    def __getattr__(self, name):\n",
    "        if hasattr(self.__data, name):\n",
    "            return getattr(self.__data, name)\n",
    "        else:\n",
    "            return FrozenJSON.build(self.__data[name])\n",
    "        \n",
    "    @classmethod\n",
    "    def build(cls, obj):\n",
    "        if isinstance(obj, abc.Mapping):\n",
    "            return cls(obj)\n",
    "        elif isinstance(obj, abc.MutableSequence):\n",
    "            return [cls.build(item) for item in obj]\n",
    "        else:\n",
    "            return obj\n"
   ]
  },
  {
   "cell_type": "code",
   "execution_count": 52,
   "metadata": {},
   "outputs": [],
   "source": [
    "raw_feed = load()\n",
    "\n",
    "feed = FrozenJSON(raw_feed)\n",
    "\n",
    "len(feed.Schedule.speakers)\n"
   ]
  },
  {
   "cell_type": "markdown",
   "metadata": {},
   "source": [
    " *FrozenJSON 不支持Python中的关键字作属性，需要做特殊处理*"
   ]
  },
  {
   "cell_type": "code",
   "execution_count": 70,
   "metadata": {},
   "outputs": [
    {
     "data": {
      "text/plain": [
       "1982"
      ]
     },
     "execution_count": 70,
     "metadata": {},
     "output_type": "execute_result"
    }
   ],
   "source": [
    "grad = FrozenJSON({'name':'Json','class':1982})\n",
    "# grad.class # 不支持关键字属性\n",
    "\n",
    "getattr(grad,'class') # 能够通过调用 __getattr__函数使用"
   ]
  },
  {
   "cell_type": "markdown",
   "metadata": {},
   "source": [
    "### FrozenJSON 使用内置函数 __new__ 替换 build 类方法\n",
    "\n",
    "* \\_\\_new\\_\\_ 机制的伪代码\n",
    "\n",
    "\n",
    "```\n",
    "def obj_maker(the_class, some_arg):\n",
    "    new_obj = the_class.__new__(some_arg)\n",
    "    if isinstance(new_obj, the_class):\n",
    "        the_class.__init__(new_obj, some_arg)\n",
    "    return new_obj\n",
    "```\n",
    "\n"
   ]
  },
  {
   "cell_type": "code",
   "execution_count": 90,
   "metadata": {},
   "outputs": [],
   "source": [
    "from collections import abc\n",
    "import keyword\n",
    "\n",
    "class FrozenJSON:\n",
    "    \"\"\"\n",
    "    Version:2.0\n",
    "    FrozenJSON 实现__new__ 版本\n",
    "    \"\"\"\n",
    "    def __new__(cls, arg): \n",
    "        msg = 'call method:{}'\n",
    "#         print(msg.format('__new__',))\n",
    "        if isinstance(arg, abc.Mapping):\n",
    "            return super().__new__(cls)\n",
    "        elif isinstance(arg, abc.MutableSequence):\n",
    "            return [cls(item) for item in arg]\n",
    "        else: \n",
    "            return arg\n",
    "    def __init__(self, mapping):\n",
    "        msg = 'call method:{}'\n",
    "#         print(msg.format('__init__',))\n",
    "        self.__data = dict(mapping)\n",
    "        for key,value in mapping.items():\n",
    "            if keyword.iskeyword(key):\n",
    "                key += '_'\n",
    "            self.__data[key] = value\n",
    "    \n",
    "    def __getattr__(self, name):\n",
    "        if hasattr(self.__data, name):\n",
    "            return getattr(self.__data, name)\n",
    "        else:\n",
    "            return FrozenJSON(self.__data[name])"
   ]
  },
  {
   "cell_type": "code",
   "execution_count": 96,
   "metadata": {},
   "outputs": [
    {
     "data": {
      "text/plain": [
       "dict_keys(['conferences', 'events', 'speakers', 'venues'])"
      ]
     },
     "execution_count": 96,
     "metadata": {},
     "output_type": "execute_result"
    }
   ],
   "source": [
    "feed = FrozenJSON(raw_feed)\n",
    "# dir(feed)\n",
    "# feed.__dict__\n",
    "feed.Schedule.keys()"
   ]
  },
  {
   "cell_type": "code",
   "execution_count": 98,
   "metadata": {},
   "outputs": [
    {
     "data": {
      "text/plain": [
       "149868"
      ]
     },
     "execution_count": 98,
     "metadata": {},
     "output_type": "execute_result"
    }
   ],
   "source": [
    "feed.Schedule.speakers[0].serial"
   ]
  },
  {
   "cell_type": "markdown",
   "metadata": {},
   "source": [
    "### 增加数据源的索引，方便检索\n",
    "通过属性+编号创建索引，通过映射的方式检索数据"
   ]
  },
  {
   "cell_type": "code",
   "execution_count": 107,
   "metadata": {},
   "outputs": [
    {
     "data": {
      "text/plain": [
       "__main__.Record"
      ]
     },
     "execution_count": 107,
     "metadata": {},
     "output_type": "execute_result"
    }
   ],
   "source": [
    "speaker = db['speaker.3471']\n",
    "type(speaker)"
   ]
  },
  {
   "cell_type": "markdown",
   "metadata": {},
   "source": [
    "* 实现数据库类型\n"
   ]
  },
  {
   "cell_type": "code",
   "execution_count": 1,
   "metadata": {},
   "outputs": [],
   "source": [
    "import shelve\n",
    "\n",
    "\n",
    "DB_NAME = 'data/schedule1_db'\n",
    "CONFERENCE = 'conference.115'\n",
    "DB_NAME2 = 'data/schedule2_db'\n",
    "\n",
    "class Record:\n",
    "    def __init__(self, **kwargs):\n",
    "        self.__dict__.update(kwargs)\n",
    "    \n",
    "    def __eq__(self, other):\n",
    "        if isinstance(other, Record):\n",
    "            return self.__dict == other.__dict__\n",
    "        else:\n",
    "            return NotImplemented\n",
    "\n",
    "# db = shelve.open(DB_NAME)\n",
    "# if CONFERENCE not in db:\n",
    "#     load_db(db)\n",
    "\n",
    "class MissingDatabaseError(RuntimeError):\n",
    "    '''\n",
    "    ‘需要数据库但没有指定数据库是抛出异常\n",
    "    '''\n",
    "\n",
    "class DbRecord(Record):\n",
    "    __db = None\n",
    "    @staticmethod\n",
    "    def set_db(db):\n",
    "        DbRecord.__db = db\n",
    "        \n",
    "    @staticmethod\n",
    "    def get_db():\n",
    "        return DbRecord.__db\n",
    "    \n",
    "    @classmethod\n",
    "    def fetch(cls, ident):\n",
    "        db = cls.get_db()\n",
    "        try:\n",
    "            return db[ident]\n",
    "        except TypeError:\n",
    "            if db is None:\n",
    "                msg = \"database not set; call '{}.set_db (my_db)'\"\n",
    "                raise MissingDatabaseError(msg.format(cls.__name__))\n",
    "            else:\n",
    "                raise\n",
    "    def __repr__(self):\n",
    "        if hasattr(self, 'serial'):\n",
    "            cls_name = self.__class__.__name__\n",
    "            return '<{} serial={!r}>'.format(cls_name, self.serial)\n",
    "        else:\n",
    "            return super().__repr__()\n",
    "        \n",
    "\n",
    "\n",
    "class Event(DbRecord):\n",
    "    @property\n",
    "    def venue(self):\n",
    "        key = 'venue.{}'.format(self.venue_serial)\n",
    "        return self.__class__.fetch(key)\n",
    "    \n",
    "    @property\n",
    "    def speakers(self):\n",
    "        if not hasattr(self, '_speaker_objs'):\n",
    "            spkr_serials = self.__dict['speakers']\n",
    "            fetch = self.__class__.fetch\n",
    "            self._speaker_objs = [fetch('speaker.{}'.format(key) \n",
    "                                       for key in spkr_serials)]\n",
    "        return self._speaker_objs\n",
    "    \n",
    "    def __repr__(self):\n",
    "        if hasattr(self,'name'):\n",
    "            cls_name = self.__class__.__name__\n",
    "            return '<{}{!r}'.format(cls_name, self.name)\n",
    "        else:\n",
    "            return super().__repr__()"
   ]
  },
  {
   "cell_type": "code",
   "execution_count": 2,
   "metadata": {},
   "outputs": [
    {
     "name": "stdout",
     "output_type": "stream",
     "text": [
      "<DbRecord serial='event.33950'>\n"
     ]
    }
   ],
   "source": [
    "import inspect\n",
    "   \n",
    "def load_db(db):\n",
    "    \"\"\"\n",
    "    version:1.0\n",
    "    load_db 加载数据\n",
    "    \"\"\"\n",
    "    raw_data = load()\n",
    "    warnings.warn('loading ' + DB_NAME)\n",
    "    for collection, rec_list in raw_data['Schedule'].items():\n",
    "        record_type = collection[:-1]\n",
    "        for record in rec_list:\n",
    "            key = '{}.{}'.format(record_type, record['serial'])\n",
    "            record['serial'] = key\n",
    "            db[key] = Record(**record)\n",
    "\n",
    "            \n",
    "\n",
    "def load_db2(db):\n",
    "    \"\"\"\n",
    "    version:2.0\n",
    "    load_db 加载数据\n",
    "    \"\"\"\n",
    "    raw_data = load()\n",
    "    warnings.warn('loading ' + DB_NAME2)\n",
    "    for collection, rec_list in raw_data['Schedule'].items():\n",
    "        record_type = collection[:-1]\n",
    "        cls_name = record_type.capitalize()\n",
    "        cls = globals().get(cls_name, DbRecord)\n",
    "        if inspect.isclass(cls) :#and issubclass(cls, DbRecord):\n",
    "            factory = cls\n",
    "        else:\n",
    "            factory = DbRecord\n",
    "        for record in rec_list:\n",
    "            key = '{}.{}'.format(record_type, record['serial'])\n",
    "            record['serial'] = key\n",
    "            db[key] = factory(**record)\n",
    "db = shelve.open(DB_NAME2)\n",
    "if CONFERENCE not in db:\n",
    "    load_db2(db)\n",
    "\n",
    "DbRecord.set_db(db)\n",
    "event = DbRecord.fetch('event.33950')\n",
    "print(event)"
   ]
  },
  {
   "cell_type": "code",
   "execution_count": 161,
   "metadata": {},
   "outputs": [],
   "source": [
    "\n",
    "db = shelve.open(DB_NAME2)\n",
    "if CONFERENCE not in db:\n",
    "    load_db2(db)"
   ]
  },
  {
   "cell_type": "code",
   "execution_count": 167,
   "metadata": {},
   "outputs": [
    {
     "ename": "NameError",
     "evalue": "name 'self' is not defined",
     "output_type": "error",
     "traceback": [
      "\u001b[0;31m---------------------------------------------------------------------------\u001b[0m",
      "\u001b[0;31mNameError\u001b[0m                                 Traceback (most recent call last)",
      "\u001b[0;32m<ipython-input-167-54178551821b>\u001b[0m in \u001b[0;36m<module>\u001b[0;34m\u001b[0m\n\u001b[0;32m----> 1\u001b[0;31m \u001b[0mDbRecord\u001b[0m\u001b[0;34m.\u001b[0m\u001b[0m__repr__\u001b[0m\u001b[0;34m(\u001b[0m\u001b[0mself\u001b[0m\u001b[0;34m)\u001b[0m\u001b[0;34m\u001b[0m\u001b[0;34m\u001b[0m\u001b[0m\n\u001b[0m",
      "\u001b[0;31mNameError\u001b[0m: name 'self' is not defined"
     ]
    }
   ],
   "source": [
    "DbRecord.__repr__(self)"
   ]
  },
  {
   "cell_type": "code",
   "execution_count": 163,
   "metadata": {},
   "outputs": [],
   "source": [
    "db.close()\n",
    "# globals().get('Event', DbRecord)\n",
    "# inspect.isclass(cls) \n",
    "# issubclass(cls, DbRecord)"
   ]
  },
  {
   "cell_type": "code",
   "execution_count": 162,
   "metadata": {},
   "outputs": [
    {
     "data": {
      "text/plain": [
       "<DbRecord serial='event.33950'>"
      ]
     },
     "execution_count": 162,
     "metadata": {},
     "output_type": "execute_result"
    }
   ],
   "source": [
    "DbRecord.set_db(db)\n",
    "event = DbRecord.fetch('event.33950')\n",
    "event\n"
   ]
  },
  {
   "cell_type": "code",
   "execution_count": null,
   "metadata": {},
   "outputs": [],
   "source": [
    "import keyword\n",
    "keyword.iskeyword('def')"
   ]
  },
  {
   "cell_type": "code",
   "execution_count": null,
   "metadata": {},
   "outputs": [],
   "source": [
    "class Record:\n",
    "    def __init__(self, **kwargs):\n",
    "        self.__dict__.update(kwargs)\n",
    "record = {'a':1,'b':2,'c':3,'d':4}      \n",
    "# record['serial'] = '记录'\n",
    "\n",
    "re = Record(**record)"
   ]
  },
  {
   "cell_type": "code",
   "execution_count": null,
   "metadata": {},
   "outputs": [],
   "source": [
    "# re.serial = 10\n",
    "re.__dict__"
   ]
  },
  {
   "cell_type": "code",
   "execution_count": 172,
   "metadata": {},
   "outputs": [
    {
     "data": {
      "text/plain": [
       "<DbRecord serial='event.33950'>"
      ]
     },
     "execution_count": 172,
     "metadata": {},
     "output_type": "execute_result"
    }
   ],
   "source": [
    "DbRecord.set_db(db)\n",
    "event = DbRecord.fetch('event.33950')\n",
    "event"
   ]
  },
  {
   "cell_type": "code",
   "execution_count": 3,
   "metadata": {},
   "outputs": [
    {
     "data": {
      "text/plain": [
       "{'__name__': '__main__',\n",
       " '__doc__': 'Automatically created module for IPython interactive environment',\n",
       " '__package__': None,\n",
       " '__loader__': None,\n",
       " '__spec__': None,\n",
       " '__builtin__': <module 'builtins' (built-in)>,\n",
       " '__builtins__': <module 'builtins' (built-in)>,\n",
       " '_ih': ['',\n",
       "  'import shelve\\n\\n\\nDB_NAME = \\'data/schedule1_db\\'\\nCONFERENCE = \\'conference.115\\'\\nDB_NAME2 = \\'data/schedule2_db\\'\\n\\nclass Record:\\n    def __init__(self, **kwargs):\\n        self.__dict__.update(kwargs)\\n    \\n    def __eq__(self, other):\\n        if isinstance(other, Record):\\n            return self.__dict == other.__dict__\\n        else:\\n            return NotImplemented\\n\\n# db = shelve.open(DB_NAME)\\n# if CONFERENCE not in db:\\n#     load_db(db)\\n\\nclass MissingDatabaseError(RuntimeError):\\n    \\'\\'\\'\\n    ‘需要数据库但没有指定数据库是抛出异常\\n    \\'\\'\\'\\n\\nclass DbRecord(Record):\\n    __db = None\\n    @staticmethod\\n    def set_db(db):\\n        DbRecord.__db = db\\n        \\n    @staticmethod\\n    def get_db():\\n        return DbRecord.__db\\n    \\n    @classmethod\\n    def fetch(cls, ident):\\n        db = cls.get_db()\\n        try:\\n            return db[ident]\\n        except TypeError:\\n            if db is None:\\n                msg = \"database not set; call \\'{}.set_db (my_db)\\'\"\\n                raise MissingDatabaseError(msg.format(cls.__name__))\\n            else:\\n                raise\\n    def __repr__(self):\\n        if hasattr(self, \\'serial\\'):\\n            cls_name = self.__class__.__name__\\n            return \\'<{} serial={!r}>\\'.format(cls_name, self.serial)\\n        else:\\n            return super().__repr__()\\n        \\n\\n\\nclass Event(DbRecord):\\n    @property\\n    def venue(self):\\n        key = \\'venue.{}\\'.format(self.venue_serial)\\n        return self.__class__.fetch(key)\\n    \\n    @property\\n    def speakers(self):\\n        if not hasattr(self, \\'_speaker_objs\\'):\\n            spkr_serials = self.__dict[\\'speakers\\']\\n            fetch = self.__class__.fetch\\n            self._speaker_objs = [fetch(\\'speaker.{}\\'.format(key) \\n                                       for key in spkr_serials)]\\n        return self._speaker_objs\\n    \\n    def __repr__(self):\\n        if hasattr(self,\\'name\\'):\\n            cls_name = self.__class__.__name__\\n            return \\'<{}{!r}\\'.format(cls_name, self.name)\\n        else:\\n            return super().__repr__()',\n",
       "  'import inspect\\n   \\ndef load_db(db):\\n    \"\"\"\\n    version:1.0\\n    load_db 加载数据\\n    \"\"\"\\n    raw_data = load()\\n    warnings.warn(\\'loading \\' + DB_NAME)\\n    for collection, rec_list in raw_data[\\'Schedule\\'].items():\\n        record_type = collection[:-1]\\n        for record in rec_list:\\n            key = \\'{}.{}\\'.format(record_type, record[\\'serial\\'])\\n            record[\\'serial\\'] = key\\n            db[key] = Record(**record)\\n\\n            \\n\\ndef load_db2(db):\\n    \"\"\"\\n    version:2.0\\n    load_db 加载数据\\n    \"\"\"\\n    raw_data = load()\\n    warnings.warn(\\'loading \\' + DB_NAME2)\\n    for collection, rec_list in raw_data[\\'Schedule\\'].items():\\n        record_type = collection[:-1]\\n        cls_name = record_type.capitalize()\\n        cls = globals().get(cls_name, DbRecord)\\n        if inspect.isclass(cls) :#and issubclass(cls, DbRecord):\\n            factory = cls\\n        else:\\n            factory = DbRecord\\n        for record in rec_list:\\n            key = \\'{}.{}\\'.format(record_type, record[\\'serial\\'])\\n            record[\\'serial\\'] = key\\n            db[key] = factory(**record)\\ndb = shelve.open(DB_NAME2)\\nif CONFERENCE not in db:\\n    load_db2(db)\\n\\nDbRecord.set_db(db)\\nevent = DbRecord.fetch(\\'event.33950\\')\\nprint(event)',\n",
       "  'vars()'],\n",
       " '_oh': {},\n",
       " '_dh': ['/Users/dengjiaying/Project/Py/exercise'],\n",
       " 'In': ['',\n",
       "  'import shelve\\n\\n\\nDB_NAME = \\'data/schedule1_db\\'\\nCONFERENCE = \\'conference.115\\'\\nDB_NAME2 = \\'data/schedule2_db\\'\\n\\nclass Record:\\n    def __init__(self, **kwargs):\\n        self.__dict__.update(kwargs)\\n    \\n    def __eq__(self, other):\\n        if isinstance(other, Record):\\n            return self.__dict == other.__dict__\\n        else:\\n            return NotImplemented\\n\\n# db = shelve.open(DB_NAME)\\n# if CONFERENCE not in db:\\n#     load_db(db)\\n\\nclass MissingDatabaseError(RuntimeError):\\n    \\'\\'\\'\\n    ‘需要数据库但没有指定数据库是抛出异常\\n    \\'\\'\\'\\n\\nclass DbRecord(Record):\\n    __db = None\\n    @staticmethod\\n    def set_db(db):\\n        DbRecord.__db = db\\n        \\n    @staticmethod\\n    def get_db():\\n        return DbRecord.__db\\n    \\n    @classmethod\\n    def fetch(cls, ident):\\n        db = cls.get_db()\\n        try:\\n            return db[ident]\\n        except TypeError:\\n            if db is None:\\n                msg = \"database not set; call \\'{}.set_db (my_db)\\'\"\\n                raise MissingDatabaseError(msg.format(cls.__name__))\\n            else:\\n                raise\\n    def __repr__(self):\\n        if hasattr(self, \\'serial\\'):\\n            cls_name = self.__class__.__name__\\n            return \\'<{} serial={!r}>\\'.format(cls_name, self.serial)\\n        else:\\n            return super().__repr__()\\n        \\n\\n\\nclass Event(DbRecord):\\n    @property\\n    def venue(self):\\n        key = \\'venue.{}\\'.format(self.venue_serial)\\n        return self.__class__.fetch(key)\\n    \\n    @property\\n    def speakers(self):\\n        if not hasattr(self, \\'_speaker_objs\\'):\\n            spkr_serials = self.__dict[\\'speakers\\']\\n            fetch = self.__class__.fetch\\n            self._speaker_objs = [fetch(\\'speaker.{}\\'.format(key) \\n                                       for key in spkr_serials)]\\n        return self._speaker_objs\\n    \\n    def __repr__(self):\\n        if hasattr(self,\\'name\\'):\\n            cls_name = self.__class__.__name__\\n            return \\'<{}{!r}\\'.format(cls_name, self.name)\\n        else:\\n            return super().__repr__()',\n",
       "  'import inspect\\n   \\ndef load_db(db):\\n    \"\"\"\\n    version:1.0\\n    load_db 加载数据\\n    \"\"\"\\n    raw_data = load()\\n    warnings.warn(\\'loading \\' + DB_NAME)\\n    for collection, rec_list in raw_data[\\'Schedule\\'].items():\\n        record_type = collection[:-1]\\n        for record in rec_list:\\n            key = \\'{}.{}\\'.format(record_type, record[\\'serial\\'])\\n            record[\\'serial\\'] = key\\n            db[key] = Record(**record)\\n\\n            \\n\\ndef load_db2(db):\\n    \"\"\"\\n    version:2.0\\n    load_db 加载数据\\n    \"\"\"\\n    raw_data = load()\\n    warnings.warn(\\'loading \\' + DB_NAME2)\\n    for collection, rec_list in raw_data[\\'Schedule\\'].items():\\n        record_type = collection[:-1]\\n        cls_name = record_type.capitalize()\\n        cls = globals().get(cls_name, DbRecord)\\n        if inspect.isclass(cls) :#and issubclass(cls, DbRecord):\\n            factory = cls\\n        else:\\n            factory = DbRecord\\n        for record in rec_list:\\n            key = \\'{}.{}\\'.format(record_type, record[\\'serial\\'])\\n            record[\\'serial\\'] = key\\n            db[key] = factory(**record)\\ndb = shelve.open(DB_NAME2)\\nif CONFERENCE not in db:\\n    load_db2(db)\\n\\nDbRecord.set_db(db)\\nevent = DbRecord.fetch(\\'event.33950\\')\\nprint(event)',\n",
       "  'vars()'],\n",
       " 'Out': {},\n",
       " 'get_ipython': <bound method InteractiveShell.get_ipython of <ipykernel.zmqshell.ZMQInteractiveShell object at 0x7ff8bad734d0>>,\n",
       " 'exit': <IPython.core.autocall.ZMQExitAutocall at 0x7ff8b8737a50>,\n",
       " 'quit': <IPython.core.autocall.ZMQExitAutocall at 0x7ff8b8737a50>,\n",
       " '_': '',\n",
       " '__': '',\n",
       " '___': '',\n",
       " '_i': 'import inspect\\n   \\ndef load_db(db):\\n    \"\"\"\\n    version:1.0\\n    load_db 加载数据\\n    \"\"\"\\n    raw_data = load()\\n    warnings.warn(\\'loading \\' + DB_NAME)\\n    for collection, rec_list in raw_data[\\'Schedule\\'].items():\\n        record_type = collection[:-1]\\n        for record in rec_list:\\n            key = \\'{}.{}\\'.format(record_type, record[\\'serial\\'])\\n            record[\\'serial\\'] = key\\n            db[key] = Record(**record)\\n\\n            \\n\\ndef load_db2(db):\\n    \"\"\"\\n    version:2.0\\n    load_db 加载数据\\n    \"\"\"\\n    raw_data = load()\\n    warnings.warn(\\'loading \\' + DB_NAME2)\\n    for collection, rec_list in raw_data[\\'Schedule\\'].items():\\n        record_type = collection[:-1]\\n        cls_name = record_type.capitalize()\\n        cls = globals().get(cls_name, DbRecord)\\n        if inspect.isclass(cls) :#and issubclass(cls, DbRecord):\\n            factory = cls\\n        else:\\n            factory = DbRecord\\n        for record in rec_list:\\n            key = \\'{}.{}\\'.format(record_type, record[\\'serial\\'])\\n            record[\\'serial\\'] = key\\n            db[key] = factory(**record)\\ndb = shelve.open(DB_NAME2)\\nif CONFERENCE not in db:\\n    load_db2(db)\\n\\nDbRecord.set_db(db)\\nevent = DbRecord.fetch(\\'event.33950\\')\\nprint(event)',\n",
       " '_ii': 'import shelve\\n\\n\\nDB_NAME = \\'data/schedule1_db\\'\\nCONFERENCE = \\'conference.115\\'\\nDB_NAME2 = \\'data/schedule2_db\\'\\n\\nclass Record:\\n    def __init__(self, **kwargs):\\n        self.__dict__.update(kwargs)\\n    \\n    def __eq__(self, other):\\n        if isinstance(other, Record):\\n            return self.__dict == other.__dict__\\n        else:\\n            return NotImplemented\\n\\n# db = shelve.open(DB_NAME)\\n# if CONFERENCE not in db:\\n#     load_db(db)\\n\\nclass MissingDatabaseError(RuntimeError):\\n    \\'\\'\\'\\n    ‘需要数据库但没有指定数据库是抛出异常\\n    \\'\\'\\'\\n\\nclass DbRecord(Record):\\n    __db = None\\n    @staticmethod\\n    def set_db(db):\\n        DbRecord.__db = db\\n        \\n    @staticmethod\\n    def get_db():\\n        return DbRecord.__db\\n    \\n    @classmethod\\n    def fetch(cls, ident):\\n        db = cls.get_db()\\n        try:\\n            return db[ident]\\n        except TypeError:\\n            if db is None:\\n                msg = \"database not set; call \\'{}.set_db (my_db)\\'\"\\n                raise MissingDatabaseError(msg.format(cls.__name__))\\n            else:\\n                raise\\n    def __repr__(self):\\n        if hasattr(self, \\'serial\\'):\\n            cls_name = self.__class__.__name__\\n            return \\'<{} serial={!r}>\\'.format(cls_name, self.serial)\\n        else:\\n            return super().__repr__()\\n        \\n\\n\\nclass Event(DbRecord):\\n    @property\\n    def venue(self):\\n        key = \\'venue.{}\\'.format(self.venue_serial)\\n        return self.__class__.fetch(key)\\n    \\n    @property\\n    def speakers(self):\\n        if not hasattr(self, \\'_speaker_objs\\'):\\n            spkr_serials = self.__dict[\\'speakers\\']\\n            fetch = self.__class__.fetch\\n            self._speaker_objs = [fetch(\\'speaker.{}\\'.format(key) \\n                                       for key in spkr_serials)]\\n        return self._speaker_objs\\n    \\n    def __repr__(self):\\n        if hasattr(self,\\'name\\'):\\n            cls_name = self.__class__.__name__\\n            return \\'<{}{!r}\\'.format(cls_name, self.name)\\n        else:\\n            return super().__repr__()',\n",
       " '_iii': '',\n",
       " '_i1': 'import shelve\\n\\n\\nDB_NAME = \\'data/schedule1_db\\'\\nCONFERENCE = \\'conference.115\\'\\nDB_NAME2 = \\'data/schedule2_db\\'\\n\\nclass Record:\\n    def __init__(self, **kwargs):\\n        self.__dict__.update(kwargs)\\n    \\n    def __eq__(self, other):\\n        if isinstance(other, Record):\\n            return self.__dict == other.__dict__\\n        else:\\n            return NotImplemented\\n\\n# db = shelve.open(DB_NAME)\\n# if CONFERENCE not in db:\\n#     load_db(db)\\n\\nclass MissingDatabaseError(RuntimeError):\\n    \\'\\'\\'\\n    ‘需要数据库但没有指定数据库是抛出异常\\n    \\'\\'\\'\\n\\nclass DbRecord(Record):\\n    __db = None\\n    @staticmethod\\n    def set_db(db):\\n        DbRecord.__db = db\\n        \\n    @staticmethod\\n    def get_db():\\n        return DbRecord.__db\\n    \\n    @classmethod\\n    def fetch(cls, ident):\\n        db = cls.get_db()\\n        try:\\n            return db[ident]\\n        except TypeError:\\n            if db is None:\\n                msg = \"database not set; call \\'{}.set_db (my_db)\\'\"\\n                raise MissingDatabaseError(msg.format(cls.__name__))\\n            else:\\n                raise\\n    def __repr__(self):\\n        if hasattr(self, \\'serial\\'):\\n            cls_name = self.__class__.__name__\\n            return \\'<{} serial={!r}>\\'.format(cls_name, self.serial)\\n        else:\\n            return super().__repr__()\\n        \\n\\n\\nclass Event(DbRecord):\\n    @property\\n    def venue(self):\\n        key = \\'venue.{}\\'.format(self.venue_serial)\\n        return self.__class__.fetch(key)\\n    \\n    @property\\n    def speakers(self):\\n        if not hasattr(self, \\'_speaker_objs\\'):\\n            spkr_serials = self.__dict[\\'speakers\\']\\n            fetch = self.__class__.fetch\\n            self._speaker_objs = [fetch(\\'speaker.{}\\'.format(key) \\n                                       for key in spkr_serials)]\\n        return self._speaker_objs\\n    \\n    def __repr__(self):\\n        if hasattr(self,\\'name\\'):\\n            cls_name = self.__class__.__name__\\n            return \\'<{}{!r}\\'.format(cls_name, self.name)\\n        else:\\n            return super().__repr__()',\n",
       " 'shelve': <module 'shelve' from '/usr/local/anaconda3/lib/python3.7/shelve.py'>,\n",
       " 'DB_NAME': 'data/schedule1_db',\n",
       " 'CONFERENCE': 'conference.115',\n",
       " 'DB_NAME2': 'data/schedule2_db',\n",
       " 'Record': __main__.Record,\n",
       " 'MissingDatabaseError': __main__.MissingDatabaseError,\n",
       " 'DbRecord': __main__.DbRecord,\n",
       " 'Event': __main__.Event,\n",
       " '_i2': 'import inspect\\n   \\ndef load_db(db):\\n    \"\"\"\\n    version:1.0\\n    load_db 加载数据\\n    \"\"\"\\n    raw_data = load()\\n    warnings.warn(\\'loading \\' + DB_NAME)\\n    for collection, rec_list in raw_data[\\'Schedule\\'].items():\\n        record_type = collection[:-1]\\n        for record in rec_list:\\n            key = \\'{}.{}\\'.format(record_type, record[\\'serial\\'])\\n            record[\\'serial\\'] = key\\n            db[key] = Record(**record)\\n\\n            \\n\\ndef load_db2(db):\\n    \"\"\"\\n    version:2.0\\n    load_db 加载数据\\n    \"\"\"\\n    raw_data = load()\\n    warnings.warn(\\'loading \\' + DB_NAME2)\\n    for collection, rec_list in raw_data[\\'Schedule\\'].items():\\n        record_type = collection[:-1]\\n        cls_name = record_type.capitalize()\\n        cls = globals().get(cls_name, DbRecord)\\n        if inspect.isclass(cls) :#and issubclass(cls, DbRecord):\\n            factory = cls\\n        else:\\n            factory = DbRecord\\n        for record in rec_list:\\n            key = \\'{}.{}\\'.format(record_type, record[\\'serial\\'])\\n            record[\\'serial\\'] = key\\n            db[key] = factory(**record)\\ndb = shelve.open(DB_NAME2)\\nif CONFERENCE not in db:\\n    load_db2(db)\\n\\nDbRecord.set_db(db)\\nevent = DbRecord.fetch(\\'event.33950\\')\\nprint(event)',\n",
       " 'inspect': <module 'inspect' from '/usr/local/anaconda3/lib/python3.7/inspect.py'>,\n",
       " 'load_db': <function __main__.load_db(db)>,\n",
       " 'load_db2': <function __main__.load_db2(db)>,\n",
       " 'db': <shelve.DbfilenameShelf at 0x7ff8bae62bd0>,\n",
       " 'event': <DbRecord serial='event.33950'>,\n",
       " '_i3': 'vars()'}"
      ]
     },
     "execution_count": 3,
     "metadata": {},
     "output_type": "execute_result"
    }
   ],
   "source": [
    "vars()"
   ]
  }
 ],
 "metadata": {
  "kernelspec": {
   "display_name": "Python 3",
   "language": "python",
   "name": "python3"
  },
  "language_info": {
   "codemirror_mode": {
    "name": "ipython",
    "version": 3
   },
   "file_extension": ".py",
   "mimetype": "text/x-python",
   "name": "python",
   "nbconvert_exporter": "python",
   "pygments_lexer": "ipython3",
   "version": "3.7.7"
  }
 },
 "nbformat": 4,
 "nbformat_minor": 4
}
