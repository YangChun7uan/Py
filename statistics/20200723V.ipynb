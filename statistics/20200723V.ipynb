{
 "cells": [
  {
   "cell_type": "code",
   "execution_count": 135,
   "metadata": {},
   "outputs": [
    {
     "data": {
      "text/plain": [
       "['rgba(31, 119, 180, 0.8)',\n",
       " 'rgba(255, 127, 14, 0.8)',\n",
       " 'rgba(44, 160, 44, 0.8)',\n",
       " 'rgba(214, 39, 40, 0.8)',\n",
       " 'rgba(148, 103, 189, 0.8)',\n",
       " 'rgba(140, 86, 75, 0.8)',\n",
       " 'rgba(227, 119, 194, 0.8)',\n",
       " 'rgba(127, 127, 127, 0.8)',\n",
       " 'rgba(188, 189, 34, 0.8)',\n",
       " 'rgba(23, 190, 207, 0.8)',\n",
       " 'rgba(31, 119, 180, 0.8)',\n",
       " 'rgba(255, 127, 14, 0.8)',\n",
       " 'rgba(44, 160, 44, 0.8)',\n",
       " 'rgba(214, 39, 40, 0.8)',\n",
       " 'rgba(148, 103, 189, 0.8)',\n",
       " 'rgba(140, 86, 75, 0.8)',\n",
       " 'rgba(227, 119, 194, 0.8)',\n",
       " 'rgba(127, 127, 127, 0.8)',\n",
       " 'rgba(188, 189, 34, 0.8)',\n",
       " 'rgba(23, 190, 207, 0.8)',\n",
       " 'rgba(31, 119, 180, 0.8)',\n",
       " 'rgba(255, 127, 14, 0.8)',\n",
       " 'rgba(44, 160, 44, 0.8)',\n",
       " 'rgba(214, 39, 40, 0.8)',\n",
       " 'rgba(148, 103, 189, 0.8)',\n",
       " 'rgba(140, 86, 75, 0.8)',\n",
       " 'rgba(227, 119, 194, 0.8)',\n",
       " 'rgba(127, 127, 127, 0.8)',\n",
       " 'rgba(188, 189, 34, 0.8)',\n",
       " 'rgba(23, 190, 207, 0.8)',\n",
       " 'rgba(31, 119, 180, 0.8)',\n",
       " 'rgba(255, 127, 14, 0.8)',\n",
       " 'rgba(44, 160, 44, 0.8)',\n",
       " 'rgba(214, 39, 40, 0.8)',\n",
       " 'rgba(148, 103, 189, 0.8)',\n",
       " 'magenta',\n",
       " 'rgba(227, 119, 194, 0.8)',\n",
       " 'rgba(127, 127, 127, 0.8)',\n",
       " 'rgba(188, 189, 34, 0.8)',\n",
       " 'rgba(23, 190, 207, 0.8)',\n",
       " 'rgba(31, 119, 180, 0.8)',\n",
       " 'rgba(255, 127, 14, 0.8)',\n",
       " 'rgba(44, 160, 44, 0.8)',\n",
       " 'rgba(214, 39, 40, 0.8)',\n",
       " 'rgba(148, 103, 189, 0.8)',\n",
       " 'rgba(140, 86, 75, 0.8)',\n",
       " 'rgba(227, 119, 194, 0.8)',\n",
       " 'rgba(127, 127, 127, 0.8)']"
      ]
     },
     "execution_count": 135,
     "metadata": {},
     "output_type": "execute_result"
    }
   ],
   "source": [
    "import urllib, json\n",
    "\n",
    "\n",
    "url = 'https://raw.githubusercontent.com/plotly/plotly.js/master/test/image/mocks/sankey_energy.json'\n",
    "response = urllib.request.urlopen(url)\n",
    "data = json.loads(response.read())\n",
    "colors = data['data'][0]['node']['color'] \n",
    "colors"
   ]
  },
  {
   "cell_type": "code",
   "execution_count": 139,
   "metadata": {},
   "outputs": [
    {
     "data": {
      "application/vnd.plotly.v1+json": {
       "config": {
        "plotlyServerURL": "https://plot.ly"
       },
       "data": [
        {
         "arrangement": "snap",
         "link": {
          "color": [
           "rgba(31, 119, 180, 0.8)",
           "rgba(255, 127, 14, 0.8)",
           "rgba(44, 160, 44, 0.8)",
           "rgba(214, 39, 40, 0.8)",
           "rgba(148, 103, 189, 0.8)",
           "rgba(140, 86, 75, 0.8)",
           "rgba(227, 119, 194, 0.8)",
           "rgba(127, 127, 127, 0.8)",
           "rgba(188, 189, 34, 0.8)",
           "rgba(23, 190, 207, 0.8)",
           "rgba(31, 119, 180, 0.8)",
           "rgba(255, 127, 14, 0.8)",
           "rgba(44, 160, 44, 0.8)",
           "rgba(214, 39, 40, 0.8)",
           "rgba(148, 103, 189, 0.8)",
           "rgba(140, 86, 75, 0.8)",
           "rgba(227, 119, 194, 0.8)",
           "rgba(127, 127, 127, 0.8)",
           "rgba(188, 189, 34, 0.8)",
           "rgba(23, 190, 207, 0.8)",
           "rgba(31, 119, 180, 0.8)",
           "rgba(255, 127, 14, 0.8)",
           "rgba(44, 160, 44, 0.8)",
           "rgba(214, 39, 40, 0.8)",
           "rgba(148, 103, 189, 0.8)",
           "rgba(140, 86, 75, 0.8)",
           "rgba(227, 119, 194, 0.8)",
           "rgba(127, 127, 127, 0.8)",
           "rgba(188, 189, 34, 0.8)",
           "rgba(23, 190, 207, 0.8)",
           "rgba(31, 119, 180, 0.8)",
           "rgba(255, 127, 14, 0.8)",
           "rgba(44, 160, 44, 0.8)",
           "rgba(214, 39, 40, 0.8)",
           "rgba(148, 103, 189, 0.8)",
           "magenta",
           "rgba(227, 119, 194, 0.8)",
           "rgba(127, 127, 127, 0.8)",
           "rgba(188, 189, 34, 0.8)",
           "rgba(23, 190, 207, 0.8)",
           "rgba(31, 119, 180, 0.8)"
          ],
          "source": [
           0,
           2,
           2,
           5,
           5,
           5,
           9,
           9,
           9,
           11,
           13,
           14,
           16,
           16,
           16,
           17,
           17,
           17,
           17,
           17,
           17,
           17,
           17,
           17,
           19,
           19,
           19,
           19,
           20,
           18,
           18,
           3,
           3,
           12,
           12,
           7,
           15,
           15,
           8,
           1,
           1
          ],
          "target": [
           1,
           3,
           4,
           6,
           7,
           8,
           6,
           4,
           10,
           12,
           4,
           15,
           6,
           12,
           1,
           6,
           18,
           3,
           12,
           15,
           8,
           4,
           1,
           10,
           3,
           12,
           8,
           1,
           18,
           21,
           22,
           21,
           22,
           23,
           22,
           22,
           21,
           22,
           22,
           21,
           22
          ],
          "value": [
           1,
           1,
           1,
           2,
           1,
           1,
           1,
           1,
           1,
           1,
           2,
           1,
           1,
           1,
           3,
           3,
           7,
           5,
           3,
           8,
           5,
           2,
           7,
           1,
           3,
           1,
           2,
           2,
           2,
           1,
           6,
           1,
           1,
           1,
           3,
           1,
           2,
           7,
           5,
           1,
           5
          ]
         },
         "node": {
          "label": [
           612,
           "谭作伍",
           707,
           "叶计成",
           "莫南",
           708,
           "余广琪",
           "徐青云",
           "王创彬",
           709,
           "黄宇鹏",
           728,
           "吴嘉佳",
           751,
           760,
           "林梓杰",
           765,
           799,
           "刘连子",
           800,
           802,
           "一般",
           "最重要",
           "不紧急"
          ],
          "line": {
           "color": "black",
           "width": 0.5
          },
          "pad": 15,
          "thickness": 15,
          "x": [
           0.1,
           0.4,
           0.1,
           0.4,
           0.4,
           0.1,
           0.4,
           0.4,
           0.4,
           0.1,
           0.4,
           0.1,
           0.4,
           0.1,
           0.1,
           0.4,
           0.1,
           0.1,
           0.4,
           0.1,
           0.1,
           0.8,
           0.8,
           0.8
          ],
          "y": [
           0.1,
           0.4,
           0.1,
           0.4,
           0.4,
           0.1,
           0.4,
           0.4,
           0.4,
           0.1,
           0.4,
           0.1,
           0.4,
           0.1,
           0.1,
           0.4,
           0.1,
           0.1,
           0.4,
           0.1,
           0.1,
           0.8,
           0.8,
           0.8
          ]
         },
         "type": "sankey",
         "valueformat": ".0f",
         "valuesuffix": " 【开发任务数】"
        }
       ],
       "layout": {
        "autosize": true,
        "template": {
         "data": {
          "bar": [
           {
            "error_x": {
             "color": "#2a3f5f"
            },
            "error_y": {
             "color": "#2a3f5f"
            },
            "marker": {
             "line": {
              "color": "#E5ECF6",
              "width": 0.5
             }
            },
            "type": "bar"
           }
          ],
          "barpolar": [
           {
            "marker": {
             "line": {
              "color": "#E5ECF6",
              "width": 0.5
             }
            },
            "type": "barpolar"
           }
          ],
          "carpet": [
           {
            "aaxis": {
             "endlinecolor": "#2a3f5f",
             "gridcolor": "white",
             "linecolor": "white",
             "minorgridcolor": "white",
             "startlinecolor": "#2a3f5f"
            },
            "baxis": {
             "endlinecolor": "#2a3f5f",
             "gridcolor": "white",
             "linecolor": "white",
             "minorgridcolor": "white",
             "startlinecolor": "#2a3f5f"
            },
            "type": "carpet"
           }
          ],
          "choropleth": [
           {
            "colorbar": {
             "outlinewidth": 0,
             "ticks": ""
            },
            "type": "choropleth"
           }
          ],
          "contour": [
           {
            "colorbar": {
             "outlinewidth": 0,
             "ticks": ""
            },
            "colorscale": [
             [
              0,
              "#0d0887"
             ],
             [
              0.1111111111111111,
              "#46039f"
             ],
             [
              0.2222222222222222,
              "#7201a8"
             ],
             [
              0.3333333333333333,
              "#9c179e"
             ],
             [
              0.4444444444444444,
              "#bd3786"
             ],
             [
              0.5555555555555556,
              "#d8576b"
             ],
             [
              0.6666666666666666,
              "#ed7953"
             ],
             [
              0.7777777777777778,
              "#fb9f3a"
             ],
             [
              0.8888888888888888,
              "#fdca26"
             ],
             [
              1,
              "#f0f921"
             ]
            ],
            "type": "contour"
           }
          ],
          "contourcarpet": [
           {
            "colorbar": {
             "outlinewidth": 0,
             "ticks": ""
            },
            "type": "contourcarpet"
           }
          ],
          "heatmap": [
           {
            "colorbar": {
             "outlinewidth": 0,
             "ticks": ""
            },
            "colorscale": [
             [
              0,
              "#0d0887"
             ],
             [
              0.1111111111111111,
              "#46039f"
             ],
             [
              0.2222222222222222,
              "#7201a8"
             ],
             [
              0.3333333333333333,
              "#9c179e"
             ],
             [
              0.4444444444444444,
              "#bd3786"
             ],
             [
              0.5555555555555556,
              "#d8576b"
             ],
             [
              0.6666666666666666,
              "#ed7953"
             ],
             [
              0.7777777777777778,
              "#fb9f3a"
             ],
             [
              0.8888888888888888,
              "#fdca26"
             ],
             [
              1,
              "#f0f921"
             ]
            ],
            "type": "heatmap"
           }
          ],
          "heatmapgl": [
           {
            "colorbar": {
             "outlinewidth": 0,
             "ticks": ""
            },
            "colorscale": [
             [
              0,
              "#0d0887"
             ],
             [
              0.1111111111111111,
              "#46039f"
             ],
             [
              0.2222222222222222,
              "#7201a8"
             ],
             [
              0.3333333333333333,
              "#9c179e"
             ],
             [
              0.4444444444444444,
              "#bd3786"
             ],
             [
              0.5555555555555556,
              "#d8576b"
             ],
             [
              0.6666666666666666,
              "#ed7953"
             ],
             [
              0.7777777777777778,
              "#fb9f3a"
             ],
             [
              0.8888888888888888,
              "#fdca26"
             ],
             [
              1,
              "#f0f921"
             ]
            ],
            "type": "heatmapgl"
           }
          ],
          "histogram": [
           {
            "marker": {
             "colorbar": {
              "outlinewidth": 0,
              "ticks": ""
             }
            },
            "type": "histogram"
           }
          ],
          "histogram2d": [
           {
            "colorbar": {
             "outlinewidth": 0,
             "ticks": ""
            },
            "colorscale": [
             [
              0,
              "#0d0887"
             ],
             [
              0.1111111111111111,
              "#46039f"
             ],
             [
              0.2222222222222222,
              "#7201a8"
             ],
             [
              0.3333333333333333,
              "#9c179e"
             ],
             [
              0.4444444444444444,
              "#bd3786"
             ],
             [
              0.5555555555555556,
              "#d8576b"
             ],
             [
              0.6666666666666666,
              "#ed7953"
             ],
             [
              0.7777777777777778,
              "#fb9f3a"
             ],
             [
              0.8888888888888888,
              "#fdca26"
             ],
             [
              1,
              "#f0f921"
             ]
            ],
            "type": "histogram2d"
           }
          ],
          "histogram2dcontour": [
           {
            "colorbar": {
             "outlinewidth": 0,
             "ticks": ""
            },
            "colorscale": [
             [
              0,
              "#0d0887"
             ],
             [
              0.1111111111111111,
              "#46039f"
             ],
             [
              0.2222222222222222,
              "#7201a8"
             ],
             [
              0.3333333333333333,
              "#9c179e"
             ],
             [
              0.4444444444444444,
              "#bd3786"
             ],
             [
              0.5555555555555556,
              "#d8576b"
             ],
             [
              0.6666666666666666,
              "#ed7953"
             ],
             [
              0.7777777777777778,
              "#fb9f3a"
             ],
             [
              0.8888888888888888,
              "#fdca26"
             ],
             [
              1,
              "#f0f921"
             ]
            ],
            "type": "histogram2dcontour"
           }
          ],
          "mesh3d": [
           {
            "colorbar": {
             "outlinewidth": 0,
             "ticks": ""
            },
            "type": "mesh3d"
           }
          ],
          "parcoords": [
           {
            "line": {
             "colorbar": {
              "outlinewidth": 0,
              "ticks": ""
             }
            },
            "type": "parcoords"
           }
          ],
          "pie": [
           {
            "automargin": true,
            "type": "pie"
           }
          ],
          "scatter": [
           {
            "marker": {
             "colorbar": {
              "outlinewidth": 0,
              "ticks": ""
             }
            },
            "type": "scatter"
           }
          ],
          "scatter3d": [
           {
            "line": {
             "colorbar": {
              "outlinewidth": 0,
              "ticks": ""
             }
            },
            "marker": {
             "colorbar": {
              "outlinewidth": 0,
              "ticks": ""
             }
            },
            "type": "scatter3d"
           }
          ],
          "scattercarpet": [
           {
            "marker": {
             "colorbar": {
              "outlinewidth": 0,
              "ticks": ""
             }
            },
            "type": "scattercarpet"
           }
          ],
          "scattergeo": [
           {
            "marker": {
             "colorbar": {
              "outlinewidth": 0,
              "ticks": ""
             }
            },
            "type": "scattergeo"
           }
          ],
          "scattergl": [
           {
            "marker": {
             "colorbar": {
              "outlinewidth": 0,
              "ticks": ""
             }
            },
            "type": "scattergl"
           }
          ],
          "scattermapbox": [
           {
            "marker": {
             "colorbar": {
              "outlinewidth": 0,
              "ticks": ""
             }
            },
            "type": "scattermapbox"
           }
          ],
          "scatterpolar": [
           {
            "marker": {
             "colorbar": {
              "outlinewidth": 0,
              "ticks": ""
             }
            },
            "type": "scatterpolar"
           }
          ],
          "scatterpolargl": [
           {
            "marker": {
             "colorbar": {
              "outlinewidth": 0,
              "ticks": ""
             }
            },
            "type": "scatterpolargl"
           }
          ],
          "scatterternary": [
           {
            "marker": {
             "colorbar": {
              "outlinewidth": 0,
              "ticks": ""
             }
            },
            "type": "scatterternary"
           }
          ],
          "surface": [
           {
            "colorbar": {
             "outlinewidth": 0,
             "ticks": ""
            },
            "colorscale": [
             [
              0,
              "#0d0887"
             ],
             [
              0.1111111111111111,
              "#46039f"
             ],
             [
              0.2222222222222222,
              "#7201a8"
             ],
             [
              0.3333333333333333,
              "#9c179e"
             ],
             [
              0.4444444444444444,
              "#bd3786"
             ],
             [
              0.5555555555555556,
              "#d8576b"
             ],
             [
              0.6666666666666666,
              "#ed7953"
             ],
             [
              0.7777777777777778,
              "#fb9f3a"
             ],
             [
              0.8888888888888888,
              "#fdca26"
             ],
             [
              1,
              "#f0f921"
             ]
            ],
            "type": "surface"
           }
          ],
          "table": [
           {
            "cells": {
             "fill": {
              "color": "#EBF0F8"
             },
             "line": {
              "color": "white"
             }
            },
            "header": {
             "fill": {
              "color": "#C8D4E3"
             },
             "line": {
              "color": "white"
             }
            },
            "type": "table"
           }
          ]
         },
         "layout": {
          "annotationdefaults": {
           "arrowcolor": "#2a3f5f",
           "arrowhead": 0,
           "arrowwidth": 1
          },
          "coloraxis": {
           "colorbar": {
            "outlinewidth": 0,
            "ticks": ""
           }
          },
          "colorscale": {
           "diverging": [
            [
             0,
             "#8e0152"
            ],
            [
             0.1,
             "#c51b7d"
            ],
            [
             0.2,
             "#de77ae"
            ],
            [
             0.3,
             "#f1b6da"
            ],
            [
             0.4,
             "#fde0ef"
            ],
            [
             0.5,
             "#f7f7f7"
            ],
            [
             0.6,
             "#e6f5d0"
            ],
            [
             0.7,
             "#b8e186"
            ],
            [
             0.8,
             "#7fbc41"
            ],
            [
             0.9,
             "#4d9221"
            ],
            [
             1,
             "#276419"
            ]
           ],
           "sequential": [
            [
             0,
             "#0d0887"
            ],
            [
             0.1111111111111111,
             "#46039f"
            ],
            [
             0.2222222222222222,
             "#7201a8"
            ],
            [
             0.3333333333333333,
             "#9c179e"
            ],
            [
             0.4444444444444444,
             "#bd3786"
            ],
            [
             0.5555555555555556,
             "#d8576b"
            ],
            [
             0.6666666666666666,
             "#ed7953"
            ],
            [
             0.7777777777777778,
             "#fb9f3a"
            ],
            [
             0.8888888888888888,
             "#fdca26"
            ],
            [
             1,
             "#f0f921"
            ]
           ],
           "sequentialminus": [
            [
             0,
             "#0d0887"
            ],
            [
             0.1111111111111111,
             "#46039f"
            ],
            [
             0.2222222222222222,
             "#7201a8"
            ],
            [
             0.3333333333333333,
             "#9c179e"
            ],
            [
             0.4444444444444444,
             "#bd3786"
            ],
            [
             0.5555555555555556,
             "#d8576b"
            ],
            [
             0.6666666666666666,
             "#ed7953"
            ],
            [
             0.7777777777777778,
             "#fb9f3a"
            ],
            [
             0.8888888888888888,
             "#fdca26"
            ],
            [
             1,
             "#f0f921"
            ]
           ]
          },
          "colorway": [
           "#636efa",
           "#EF553B",
           "#00cc96",
           "#ab63fa",
           "#FFA15A",
           "#19d3f3",
           "#FF6692",
           "#B6E880",
           "#FF97FF",
           "#FECB52"
          ],
          "font": {
           "color": "#2a3f5f"
          },
          "geo": {
           "bgcolor": "white",
           "lakecolor": "white",
           "landcolor": "#E5ECF6",
           "showlakes": true,
           "showland": true,
           "subunitcolor": "white"
          },
          "hoverlabel": {
           "align": "left"
          },
          "hovermode": "closest",
          "mapbox": {
           "style": "light"
          },
          "paper_bgcolor": "white",
          "plot_bgcolor": "#E5ECF6",
          "polar": {
           "angularaxis": {
            "gridcolor": "white",
            "linecolor": "white",
            "ticks": ""
           },
           "bgcolor": "#E5ECF6",
           "radialaxis": {
            "gridcolor": "white",
            "linecolor": "white",
            "ticks": ""
           }
          },
          "scene": {
           "xaxis": {
            "backgroundcolor": "#E5ECF6",
            "gridcolor": "white",
            "gridwidth": 2,
            "linecolor": "white",
            "showbackground": true,
            "ticks": "",
            "zerolinecolor": "white"
           },
           "yaxis": {
            "backgroundcolor": "#E5ECF6",
            "gridcolor": "white",
            "gridwidth": 2,
            "linecolor": "white",
            "showbackground": true,
            "ticks": "",
            "zerolinecolor": "white"
           },
           "zaxis": {
            "backgroundcolor": "#E5ECF6",
            "gridcolor": "white",
            "gridwidth": 2,
            "linecolor": "white",
            "showbackground": true,
            "ticks": "",
            "zerolinecolor": "white"
           }
          },
          "shapedefaults": {
           "line": {
            "color": "#2a3f5f"
           }
          },
          "ternary": {
           "aaxis": {
            "gridcolor": "white",
            "linecolor": "white",
            "ticks": ""
           },
           "baxis": {
            "gridcolor": "white",
            "linecolor": "white",
            "ticks": ""
           },
           "bgcolor": "#E5ECF6",
           "caxis": {
            "gridcolor": "white",
            "linecolor": "white",
            "ticks": ""
           }
          },
          "title": {
           "x": 0.05
          },
          "xaxis": {
           "automargin": true,
           "gridcolor": "white",
           "linecolor": "white",
           "ticks": "",
           "title": {
            "standoff": 15
           },
           "zerolinecolor": "white",
           "zerolinewidth": 2
          },
          "yaxis": {
           "automargin": true,
           "gridcolor": "white",
           "linecolor": "white",
           "ticks": "",
           "title": {
            "standoff": 15
           },
           "zerolinecolor": "white",
           "zerolinewidth": 2
          }
         }
        }
       }
      },
      "image/png": "[encoded data removed]",
      "text/html": [
       "<div>\n",
       "        \n",
       "        \n",
       "            <div id=\"dbdf39cc-75bc-4f5e-9421-0f7f1a03354a\" class=\"plotly-graph-div\" style=\"height:525px; width:100%;\"></div>\n",
       "            <script type=\"text/javascript\">\n",
       "                require([\"plotly\"], function(Plotly) {\n",
       "                    window.PLOTLYENV=window.PLOTLYENV || {};\n",
       "                    \n",
       "                if (document.getElementById(\"dbdf39cc-75bc-4f5e-9421-0f7f1a03354a\")) {\n",
       "                    Plotly.newPlot(\n",
       "                        'dbdf39cc-75bc-4f5e-9421-0f7f1a03354a',\n",
       "                        [{\"arrangement\": \"snap\", \"link\": {\"color\": [\"rgba(31, 119, 180, 0.8)\", \"rgba(255, 127, 14, 0.8)\", \"rgba(44, 160, 44, 0.8)\", \"rgba(214, 39, 40, 0.8)\", \"rgba(148, 103, 189, 0.8)\", \"rgba(140, 86, 75, 0.8)\", \"rgba(227, 119, 194, 0.8)\", \"rgba(127, 127, 127, 0.8)\", \"rgba(188, 189, 34, 0.8)\", \"rgba(23, 190, 207, 0.8)\", \"rgba(31, 119, 180, 0.8)\", \"rgba(255, 127, 14, 0.8)\", \"rgba(44, 160, 44, 0.8)\", \"rgba(214, 39, 40, 0.8)\", \"rgba(148, 103, 189, 0.8)\", \"rgba(140, 86, 75, 0.8)\", \"rgba(227, 119, 194, 0.8)\", \"rgba(127, 127, 127, 0.8)\", \"rgba(188, 189, 34, 0.8)\", \"rgba(23, 190, 207, 0.8)\", \"rgba(31, 119, 180, 0.8)\", \"rgba(255, 127, 14, 0.8)\", \"rgba(44, 160, 44, 0.8)\", \"rgba(214, 39, 40, 0.8)\", \"rgba(148, 103, 189, 0.8)\", \"rgba(140, 86, 75, 0.8)\", \"rgba(227, 119, 194, 0.8)\", \"rgba(127, 127, 127, 0.8)\", \"rgba(188, 189, 34, 0.8)\", \"rgba(23, 190, 207, 0.8)\", \"rgba(31, 119, 180, 0.8)\", \"rgba(255, 127, 14, 0.8)\", \"rgba(44, 160, 44, 0.8)\", \"rgba(214, 39, 40, 0.8)\", \"rgba(148, 103, 189, 0.8)\", \"magenta\", \"rgba(227, 119, 194, 0.8)\", \"rgba(127, 127, 127, 0.8)\", \"rgba(188, 189, 34, 0.8)\", \"rgba(23, 190, 207, 0.8)\", \"rgba(31, 119, 180, 0.8)\"], \"source\": [0, 2, 2, 5, 5, 5, 9, 9, 9, 11, 13, 14, 16, 16, 16, 17, 17, 17, 17, 17, 17, 17, 17, 17, 19, 19, 19, 19, 20, 18, 18, 3, 3, 12, 12, 7, 15, 15, 8, 1, 1], \"target\": [1, 3, 4, 6, 7, 8, 6, 4, 10, 12, 4, 15, 6, 12, 1, 6, 18, 3, 12, 15, 8, 4, 1, 10, 3, 12, 8, 1, 18, 21, 22, 21, 22, 23, 22, 22, 21, 22, 22, 21, 22], \"value\": [1, 1, 1, 2, 1, 1, 1, 1, 1, 1, 2, 1, 1, 1, 3, 3, 7, 5, 3, 8, 5, 2, 7, 1, 3, 1, 2, 2, 2, 1, 6, 1, 1, 1, 3, 1, 2, 7, 5, 1, 5]}, \"node\": {\"label\": [612, \"\\u8c2d\\u4f5c\\u4f0d\", 707, \"\\u53f6\\u8ba1\\u6210\", \"\\u83ab\\u5357\", 708, \"\\u4f59\\u5e7f\\u742a\", \"\\u5f90\\u9752\\u4e91\", \"\\u738b\\u521b\\u5f6c\", 709, \"\\u9ec4\\u5b87\\u9e4f\", 728, \"\\u5434\\u5609\\u4f73\", 751, 760, \"\\u6797\\u6893\\u6770\", 765, 799, \"\\u5218\\u8fde\\u5b50\", 800, 802, \"\\u4e00\\u822c\", \"\\u6700\\u91cd\\u8981\", \"\\u4e0d\\u7d27\\u6025\"], \"line\": {\"color\": \"black\", \"width\": 0.5}, \"pad\": 15, \"thickness\": 15, \"x\": [0.1, 0.4, 0.1, 0.4, 0.4, 0.1, 0.4, 0.4, 0.4, 0.1, 0.4, 0.1, 0.4, 0.1, 0.1, 0.4, 0.1, 0.1, 0.4, 0.1, 0.1, 0.8, 0.8, 0.8], \"y\": [0.1, 0.4, 0.1, 0.4, 0.4, 0.1, 0.4, 0.4, 0.4, 0.1, 0.4, 0.1, 0.4, 0.1, 0.1, 0.4, 0.1, 0.1, 0.4, 0.1, 0.1, 0.8, 0.8, 0.8]}, \"type\": \"sankey\", \"valueformat\": \".0f\", \"valuesuffix\": \" \\u3010\\u5f00\\u53d1\\u4efb\\u52a1\\u6570\\u3011\"}],\n",
       "                        {\"template\": {\"data\": {\"bar\": [{\"error_x\": {\"color\": \"#2a3f5f\"}, \"error_y\": {\"color\": \"#2a3f5f\"}, \"marker\": {\"line\": {\"color\": \"#E5ECF6\", \"width\": 0.5}}, \"type\": \"bar\"}], \"barpolar\": [{\"marker\": {\"line\": {\"color\": \"#E5ECF6\", \"width\": 0.5}}, \"type\": \"barpolar\"}], \"carpet\": [{\"aaxis\": {\"endlinecolor\": \"#2a3f5f\", \"gridcolor\": \"white\", \"linecolor\": \"white\", \"minorgridcolor\": \"white\", \"startlinecolor\": \"#2a3f5f\"}, \"baxis\": {\"endlinecolor\": \"#2a3f5f\", \"gridcolor\": \"white\", \"linecolor\": \"white\", \"minorgridcolor\": \"white\", \"startlinecolor\": \"#2a3f5f\"}, \"type\": \"carpet\"}], \"choropleth\": [{\"colorbar\": {\"outlinewidth\": 0, \"ticks\": \"\"}, \"type\": \"choropleth\"}], \"contour\": [{\"colorbar\": {\"outlinewidth\": 0, \"ticks\": \"\"}, \"colorscale\": [[0.0, \"#0d0887\"], [0.1111111111111111, \"#46039f\"], [0.2222222222222222, \"#7201a8\"], [0.3333333333333333, \"#9c179e\"], [0.4444444444444444, \"#bd3786\"], [0.5555555555555556, \"#d8576b\"], [0.6666666666666666, \"#ed7953\"], [0.7777777777777778, \"#fb9f3a\"], [0.8888888888888888, \"#fdca26\"], [1.0, \"#f0f921\"]], \"type\": \"contour\"}], \"contourcarpet\": [{\"colorbar\": {\"outlinewidth\": 0, \"ticks\": \"\"}, \"type\": \"contourcarpet\"}], \"heatmap\": [{\"colorbar\": {\"outlinewidth\": 0, \"ticks\": \"\"}, \"colorscale\": [[0.0, \"#0d0887\"], [0.1111111111111111, \"#46039f\"], [0.2222222222222222, \"#7201a8\"], [0.3333333333333333, \"#9c179e\"], [0.4444444444444444, \"#bd3786\"], [0.5555555555555556, \"#d8576b\"], [0.6666666666666666, \"#ed7953\"], [0.7777777777777778, \"#fb9f3a\"], [0.8888888888888888, \"#fdca26\"], [1.0, \"#f0f921\"]], \"type\": \"heatmap\"}], \"heatmapgl\": [{\"colorbar\": {\"outlinewidth\": 0, \"ticks\": \"\"}, \"colorscale\": [[0.0, \"#0d0887\"], [0.1111111111111111, \"#46039f\"], [0.2222222222222222, \"#7201a8\"], [0.3333333333333333, \"#9c179e\"], [0.4444444444444444, \"#bd3786\"], [0.5555555555555556, \"#d8576b\"], [0.6666666666666666, \"#ed7953\"], [0.7777777777777778, \"#fb9f3a\"], [0.8888888888888888, \"#fdca26\"], [1.0, \"#f0f921\"]], \"type\": \"heatmapgl\"}], \"histogram\": [{\"marker\": {\"colorbar\": {\"outlinewidth\": 0, \"ticks\": \"\"}}, \"type\": \"histogram\"}], \"histogram2d\": [{\"colorbar\": {\"outlinewidth\": 0, \"ticks\": \"\"}, \"colorscale\": [[0.0, \"#0d0887\"], [0.1111111111111111, \"#46039f\"], [0.2222222222222222, \"#7201a8\"], [0.3333333333333333, \"#9c179e\"], [0.4444444444444444, \"#bd3786\"], [0.5555555555555556, \"#d8576b\"], [0.6666666666666666, \"#ed7953\"], [0.7777777777777778, \"#fb9f3a\"], [0.8888888888888888, \"#fdca26\"], [1.0, \"#f0f921\"]], \"type\": \"histogram2d\"}], \"histogram2dcontour\": [{\"colorbar\": {\"outlinewidth\": 0, \"ticks\": \"\"}, \"colorscale\": [[0.0, \"#0d0887\"], [0.1111111111111111, \"#46039f\"], [0.2222222222222222, \"#7201a8\"], [0.3333333333333333, \"#9c179e\"], [0.4444444444444444, \"#bd3786\"], [0.5555555555555556, \"#d8576b\"], [0.6666666666666666, \"#ed7953\"], [0.7777777777777778, \"#fb9f3a\"], [0.8888888888888888, \"#fdca26\"], [1.0, \"#f0f921\"]], \"type\": \"histogram2dcontour\"}], \"mesh3d\": [{\"colorbar\": {\"outlinewidth\": 0, \"ticks\": \"\"}, \"type\": \"mesh3d\"}], \"parcoords\": [{\"line\": {\"colorbar\": {\"outlinewidth\": 0, \"ticks\": \"\"}}, \"type\": \"parcoords\"}], \"pie\": [{\"automargin\": true, \"type\": \"pie\"}], \"scatter\": [{\"marker\": {\"colorbar\": {\"outlinewidth\": 0, \"ticks\": \"\"}}, \"type\": \"scatter\"}], \"scatter3d\": [{\"line\": {\"colorbar\": {\"outlinewidth\": 0, \"ticks\": \"\"}}, \"marker\": {\"colorbar\": {\"outlinewidth\": 0, \"ticks\": \"\"}}, \"type\": \"scatter3d\"}], \"scattercarpet\": [{\"marker\": {\"colorbar\": {\"outlinewidth\": 0, \"ticks\": \"\"}}, \"type\": \"scattercarpet\"}], \"scattergeo\": [{\"marker\": {\"colorbar\": {\"outlinewidth\": 0, \"ticks\": \"\"}}, \"type\": \"scattergeo\"}], \"scattergl\": [{\"marker\": {\"colorbar\": {\"outlinewidth\": 0, \"ticks\": \"\"}}, \"type\": \"scattergl\"}], \"scattermapbox\": [{\"marker\": {\"colorbar\": {\"outlinewidth\": 0, \"ticks\": \"\"}}, \"type\": \"scattermapbox\"}], \"scatterpolar\": [{\"marker\": {\"colorbar\": {\"outlinewidth\": 0, \"ticks\": \"\"}}, \"type\": \"scatterpolar\"}], \"scatterpolargl\": [{\"marker\": {\"colorbar\": {\"outlinewidth\": 0, \"ticks\": \"\"}}, \"type\": \"scatterpolargl\"}], \"scatterternary\": [{\"marker\": {\"colorbar\": {\"outlinewidth\": 0, \"ticks\": \"\"}}, \"type\": \"scatterternary\"}], \"surface\": [{\"colorbar\": {\"outlinewidth\": 0, \"ticks\": \"\"}, \"colorscale\": [[0.0, \"#0d0887\"], [0.1111111111111111, \"#46039f\"], [0.2222222222222222, \"#7201a8\"], [0.3333333333333333, \"#9c179e\"], [0.4444444444444444, \"#bd3786\"], [0.5555555555555556, \"#d8576b\"], [0.6666666666666666, \"#ed7953\"], [0.7777777777777778, \"#fb9f3a\"], [0.8888888888888888, \"#fdca26\"], [1.0, \"#f0f921\"]], \"type\": \"surface\"}], \"table\": [{\"cells\": {\"fill\": {\"color\": \"#EBF0F8\"}, \"line\": {\"color\": \"white\"}}, \"header\": {\"fill\": {\"color\": \"#C8D4E3\"}, \"line\": {\"color\": \"white\"}}, \"type\": \"table\"}]}, \"layout\": {\"annotationdefaults\": {\"arrowcolor\": \"#2a3f5f\", \"arrowhead\": 0, \"arrowwidth\": 1}, \"coloraxis\": {\"colorbar\": {\"outlinewidth\": 0, \"ticks\": \"\"}}, \"colorscale\": {\"diverging\": [[0, \"#8e0152\"], [0.1, \"#c51b7d\"], [0.2, \"#de77ae\"], [0.3, \"#f1b6da\"], [0.4, \"#fde0ef\"], [0.5, \"#f7f7f7\"], [0.6, \"#e6f5d0\"], [0.7, \"#b8e186\"], [0.8, \"#7fbc41\"], [0.9, \"#4d9221\"], [1, \"#276419\"]], \"sequential\": [[0.0, \"#0d0887\"], [0.1111111111111111, \"#46039f\"], [0.2222222222222222, \"#7201a8\"], [0.3333333333333333, \"#9c179e\"], [0.4444444444444444, \"#bd3786\"], [0.5555555555555556, \"#d8576b\"], [0.6666666666666666, \"#ed7953\"], [0.7777777777777778, \"#fb9f3a\"], [0.8888888888888888, \"#fdca26\"], [1.0, \"#f0f921\"]], \"sequentialminus\": [[0.0, \"#0d0887\"], [0.1111111111111111, \"#46039f\"], [0.2222222222222222, \"#7201a8\"], [0.3333333333333333, \"#9c179e\"], [0.4444444444444444, \"#bd3786\"], [0.5555555555555556, \"#d8576b\"], [0.6666666666666666, \"#ed7953\"], [0.7777777777777778, \"#fb9f3a\"], [0.8888888888888888, \"#fdca26\"], [1.0, \"#f0f921\"]]}, \"colorway\": [\"#636efa\", \"#EF553B\", \"#00cc96\", \"#ab63fa\", \"#FFA15A\", \"#19d3f3\", \"#FF6692\", \"#B6E880\", \"#FF97FF\", \"#FECB52\"], \"font\": {\"color\": \"#2a3f5f\"}, \"geo\": {\"bgcolor\": \"white\", \"lakecolor\": \"white\", \"landcolor\": \"#E5ECF6\", \"showlakes\": true, \"showland\": true, \"subunitcolor\": \"white\"}, \"hoverlabel\": {\"align\": \"left\"}, \"hovermode\": \"closest\", \"mapbox\": {\"style\": \"light\"}, \"paper_bgcolor\": \"white\", \"plot_bgcolor\": \"#E5ECF6\", \"polar\": {\"angularaxis\": {\"gridcolor\": \"white\", \"linecolor\": \"white\", \"ticks\": \"\"}, \"bgcolor\": \"#E5ECF6\", \"radialaxis\": {\"gridcolor\": \"white\", \"linecolor\": \"white\", \"ticks\": \"\"}}, \"scene\": {\"xaxis\": {\"backgroundcolor\": \"#E5ECF6\", \"gridcolor\": \"white\", \"gridwidth\": 2, \"linecolor\": \"white\", \"showbackground\": true, \"ticks\": \"\", \"zerolinecolor\": \"white\"}, \"yaxis\": {\"backgroundcolor\": \"#E5ECF6\", \"gridcolor\": \"white\", \"gridwidth\": 2, \"linecolor\": \"white\", \"showbackground\": true, \"ticks\": \"\", \"zerolinecolor\": \"white\"}, \"zaxis\": {\"backgroundcolor\": \"#E5ECF6\", \"gridcolor\": \"white\", \"gridwidth\": 2, \"linecolor\": \"white\", \"showbackground\": true, \"ticks\": \"\", \"zerolinecolor\": \"white\"}}, \"shapedefaults\": {\"line\": {\"color\": \"#2a3f5f\"}}, \"ternary\": {\"aaxis\": {\"gridcolor\": \"white\", \"linecolor\": \"white\", \"ticks\": \"\"}, \"baxis\": {\"gridcolor\": \"white\", \"linecolor\": \"white\", \"ticks\": \"\"}, \"bgcolor\": \"#E5ECF6\", \"caxis\": {\"gridcolor\": \"white\", \"linecolor\": \"white\", \"ticks\": \"\"}}, \"title\": {\"x\": 0.05}, \"xaxis\": {\"automargin\": true, \"gridcolor\": \"white\", \"linecolor\": \"white\", \"ticks\": \"\", \"title\": {\"standoff\": 15}, \"zerolinecolor\": \"white\", \"zerolinewidth\": 2}, \"yaxis\": {\"automargin\": true, \"gridcolor\": \"white\", \"linecolor\": \"white\", \"ticks\": \"\", \"title\": {\"standoff\": 15}, \"zerolinecolor\": \"white\", \"zerolinewidth\": 2}}}},\n",
       "                        {\"responsive\": true}\n",
       "                    ).then(function(){\n",
       "                            \n",
       "var gd = document.getElementById('dbdf39cc-75bc-4f5e-9421-0f7f1a03354a');\n",
       "var x = new MutationObserver(function (mutations, observer) {{\n",
       "        var display = window.getComputedStyle(gd).display;\n",
       "        if (!display || display === 'none') {{\n",
       "            console.log([gd, 'removed!']);\n",
       "            Plotly.purge(gd);\n",
       "            observer.disconnect();\n",
       "        }}\n",
       "}});\n",
       "\n",
       "// Listen for the removal of the full notebook cells\n",
       "var notebookContainer = gd.closest('#notebook-container');\n",
       "if (notebookContainer) {{\n",
       "    x.observe(notebookContainer, {childList: true});\n",
       "}}\n",
       "\n",
       "// Listen for the clearing of the current output cell\n",
       "var outputEl = gd.closest('.output');\n",
       "if (outputEl) {{\n",
       "    x.observe(outputEl, {childList: true});\n",
       "}}\n",
       "\n",
       "                        })\n",
       "                };\n",
       "                });\n",
       "            </script>\n",
       "        </div>"
      ]
     },
     "metadata": {},
     "output_type": "display_data"
    }
   ],
   "source": [
    "import pandas as pd\n",
    "import numpy  as np\n",
    "import urllib, json\n",
    "import plotly.graph_objects as go\n",
    "\n",
    "\n",
    "# 数据映射方式将名字缩写变更为名字全称\n",
    "full_name = {'创彬':'王创彬','王创彬':'王创彬',\n",
    "            '嘉佳':'吴嘉佳','吴嘉佳':'吴嘉佳',\n",
    "            '计成':'叶计成','叶计成':'叶计成',\n",
    "            '连子':'刘连子','刘连子':'刘连子',\n",
    "            '作伍':'谭作伍','谭作伍':'谭作伍',\n",
    "            '梓杰':'林梓杰','林梓杰':'林梓杰',\n",
    "            '青云':'徐青云','徐青云':'林梓杰',\n",
    "            '宇鹏':'黄宇鹏','黄宇鹏':'林梓杰',\n",
    "            '广琪':'余广琪','余广琪':'林梓杰',\n",
    "            '晓泉':'龙晓泉','龙晓泉':'林梓杰'\n",
    "            }\n",
    "\n",
    "# url = 'https://raw.githubusercontent.com/plotly/plotly.js/master/test/image/mocks/sankey_energy.json'\n",
    "# response = urllib.request.urlopen(url)\n",
    "# data = json.loads(response.read())\n",
    "\n",
    "# colors = ['rgba(31, 119, 180, 0.8)',\n",
    "#  'rgba(255, 127, 14, 0.8)',\n",
    "#  'rgba(44, 160, 44, 0.8)',\n",
    "#  'rgba(214, 39, 40, 0.8)',\n",
    "#  'rgba(148, 103, 189, 0.8)',\n",
    "#  'rgba(140, 86, 75, 0.8)',\n",
    "#  'rgba(227, 119, 194, 0.8)',\n",
    "#  'rgba(127, 127, 127, 0.8)',\n",
    "#  'rgba(188, 189, 34, 0.8)',\n",
    "#  'rgba(23, 190, 207, 0.8)',\n",
    "#  'rgba(31, 119, 180, 0.8)',\n",
    "#  'rgba(255, 127, 14, 0.8)',\n",
    "#  'rgba(44, 160, 44, 0.8)',\n",
    "#  'rgba(214, 39, 40, 0.8)',\n",
    "#  'rgba(148, 103, 189, 0.8)',\n",
    "#  'rgba(140, 86, 75, 0.8)',\n",
    "#  'rgba(227, 119, 194, 0.8)',\n",
    "#  'rgba(127, 127, 127, 0.8)',\n",
    "#  'rgba(188, 189, 34, 0.8)',\n",
    "#  'rgba(23, 190, 207, 0.8)',\n",
    "#  'rgba(31, 119, 180, 0.8)',\n",
    "#  'rgba(255, 127, 14, 0.8)',\n",
    "#  'rgba(44, 160, 44, 0.8)',\n",
    "#  'rgba(214, 39, 40, 0.8)',\n",
    "#  'rgba(148, 103, 189, 0.8)',\n",
    "#  'rgba(140, 86, 75, 0.8)',\n",
    "#  'rgba(227, 119, 194, 0.8)',\n",
    "#  'rgba(127, 127, 127, 0.8)',\n",
    "#  'rgba(188, 189, 34, 0.8)'] \n",
    "\n",
    "\n",
    "pd.set_option('display.max_rows', None)\n",
    "\n",
    "# \n",
    "# 流水线任务分配信息\n",
    "# \n",
    "works=pd.read_html(\"../missions\", encoding='utf8')\n",
    "works[1].drop('Unnamed: 0', axis=1).set_index(['需求ID'])\n",
    "dd=works[1].drop('Unnamed: 0',axis=1)\n",
    "# 按需求ID聚合\n",
    "missions=dd.sort_values(by='需求ID')[['需求ID','需求名称','开发人员']]\n",
    "missions['NUM'] = 1\n",
    "\n",
    "label = missions[['需求ID','开发人员','NUM','需求名称']]\n",
    "grouped = label['NUM'].groupby([label['需求ID'],label['开发人员']])\n",
    "statics = dict(grouped.size())\n",
    "\n",
    "data = [(key1,key2, statics[(key1,key2)]) for (key1,key2) in statics.keys() ]\n",
    "\n",
    "# lable = []\n",
    "# for (key1, key2) in statics.keys():\n",
    "#     if key1 not in lable:\n",
    "#         lable.append(key1)\n",
    "#     if key2 not in lable:\n",
    "#         lable.append(key2)\n",
    "\n",
    "#         \n",
    "# BUG 列表信息\n",
    "# \n",
    "\n",
    "bug_list = pd.read_csv('../simappbugs/3rdVersion.csv')\n",
    "bug_list[bug_list['编号'].isnull()]\n",
    "tmp_bug = bug_list[~bug_list['维修人员'].isnull()][['维修人员','优先级']]\n",
    "# tmp['研发人员'] = tmp['维修人员']=='创彬'\n",
    "\n",
    "tmp_bug['维修人员'] = tmp_bug['维修人员'].map(full_name)\n",
    "tmp_bug.replace(np.nan, '一般', inplace=True)\n",
    "tmp_bug.replace(' ','一般',inplace=True)\n",
    "tmp_bug = tmp_bug.drop(38)\n",
    "\n",
    "\n",
    "\n",
    "stat_bug = dict(tmp_bug['优先级'].groupby([tmp_bug['维修人员'],tmp_bug['优先级']]).size())\n",
    "data_bug = [(i,j,stat_bug[(i,j)]) for (i,j) in stat_bug.keys()]        \n",
    "\n",
    "lable = []\n",
    "x = []\n",
    "y = list(np.arange(24)/100)\n",
    "\n",
    "position = (0.1,0.4,0.8)\n",
    "\n",
    "for (key1, key2) in statics.keys():\n",
    "    if key1 not in lable:\n",
    "        lable.append(key1)\n",
    "        x.append(position[0])\n",
    "    if key2 not in lable:\n",
    "        lable.append(key2)\n",
    "        x.append(position[1])\n",
    "\n",
    "for (_,key2) in stat_bug:\n",
    "    if key2 not in lable:\n",
    "        lable.append(key2)\n",
    "        x.append(position[2])\n",
    "\n",
    "lable = tuple(lable)\n",
    "# pilot    \n",
    "# 映射对应关系列表\n",
    "# \n",
    "\n",
    "sources = []\n",
    "targets = []\n",
    "values  = []\n",
    "\n",
    "for (i,j,k) in data:\n",
    "    sources.append(lable.index(i))\n",
    "    targets.append(lable.index(j))\n",
    "    values.append(k)\n",
    "\n",
    "for (i,j,k) in data_bug:\n",
    "    sources.append(lable.index(i))\n",
    "    targets.append(lable.index(j))\n",
    "    values.append(k)\n",
    "\n",
    "\n",
    "# t = len(sources)\n",
    "\n",
    "color = colors[0:41]\n",
    "\n",
    "fig = go.Figure(data=[go.Sankey(\n",
    "    valueformat = \".0f\",\n",
    "    arrangement = \"snap\",\n",
    "    valuesuffix = \" 【开发任务数】\",\n",
    "    node = dict(\n",
    "      pad = 15,\n",
    "      thickness = 15,\n",
    "     \n",
    "      line = dict(color = 'black', width = 0.5),\n",
    "      label =  lable,\n",
    "         x=x,\n",
    "        y=x\n",
    "#       color =  colors\n",
    "    ),\n",
    "    link = dict(\n",
    "      source =  sources,\n",
    "      target =  targets,\n",
    "      value =  values,\n",
    "      color = color                                                                                                                                                                                                                                                                                                                                                                                                                                      \n",
    "#       label =  data['data'][0]['link']['label']\n",
    "  ))])\n",
    "\n",
    "# fig.update_layout(\n",
    "#     hovermode = 'x',\n",
    "#     title=\"Energy forecast for 2050<br>Source: Department of Energy & Climate Change, Tom Counsell via <a href='https://bost.ocks.org/mike/sankey/'>Mike Bostock</a>\",\n",
    "#     font=dict(size = 10, color = 'white'),\n",
    "#     plot_bgcolor='black',\n",
    "#     paper_bgcolor='black'\n",
    "# )\n",
    "\n",
    "fig.show()\n",
    "fig.write_html('/Users/dengjiaying/Project/Py/local.html')"
   ]
  },
  {
   "cell_type": "code",
   "execution_count": 118,
   "metadata": {},
   "outputs": [
    {
     "data": {
      "text/plain": [
       "['rgba(31, 119, 180, 0.8)',\n",
       " 'rgba(255, 127, 14, 0.8)',\n",
       " 'rgba(44, 160, 44, 0.8)',\n",
       " 'rgba(214, 39, 40, 0.8)',\n",
       " 'rgba(148, 103, 189, 0.8)',\n",
       " 'rgba(140, 86, 75, 0.8)',\n",
       " 'rgba(227, 119, 194, 0.8)',\n",
       " 'rgba(127, 127, 127, 0.8)',\n",
       " 'rgba(188, 189, 34, 0.8)',\n",
       " 'rgba(23, 190, 207, 0.8)',\n",
       " 'rgba(31, 119, 180, 0.8)',\n",
       " 'rgba(255, 127, 14, 0.8)',\n",
       " 'rgba(44, 160, 44, 0.8)',\n",
       " 'rgba(214, 39, 40, 0.8)',\n",
       " 'rgba(148, 103, 189, 0.8)',\n",
       " 'rgba(140, 86, 75, 0.8)',\n",
       " 'rgba(227, 119, 194, 0.8)',\n",
       " 'rgba(127, 127, 127, 0.8)',\n",
       " 'rgba(188, 189, 34, 0.8)',\n",
       " 'rgba(23, 190, 207, 0.8)',\n",
       " 'rgba(31, 119, 180, 0.8)',\n",
       " 'rgba(255, 127, 14, 0.8)',\n",
       " 'rgba(44, 160, 44, 0.8)',\n",
       " 'rgba(214, 39, 40, 0.8)',\n",
       " 'rgba(148, 103, 189, 0.8)',\n",
       " 'rgba(140, 86, 75, 0.8)',\n",
       " 'rgba(227, 119, 194, 0.8)',\n",
       " 'rgba(127, 127, 127, 0.8)',\n",
       " 'rgba(188, 189, 34, 0.8)',\n",
       " 'rgba(23, 190, 207, 0.8)',\n",
       " 'rgba(31, 119, 180, 0.8)',\n",
       " 'rgba(255, 127, 14, 0.8)',\n",
       " 'rgba(44, 160, 44, 0.8)',\n",
       " 'rgba(214, 39, 40, 0.8)',\n",
       " 'rgba(148, 103, 189, 0.8)',\n",
       " 'magenta',\n",
       " 'rgba(227, 119, 194, 0.8)',\n",
       " 'rgba(127, 127, 127, 0.8)',\n",
       " 'rgba(188, 189, 34, 0.8)',\n",
       " 'rgba(23, 190, 207, 0.8)',\n",
       " 'rgba(31, 119, 180, 0.8)',\n",
       " 'rgba(255, 127, 14, 0.8)',\n",
       " 'rgba(44, 160, 44, 0.8)',\n",
       " 'rgba(214, 39, 40, 0.8)',\n",
       " 'rgba(148, 103, 189, 0.8)',\n",
       " 'rgba(140, 86, 75, 0.8)',\n",
       " 'rgba(227, 119, 194, 0.8)',\n",
       " 'rgba(127, 127, 127, 0.8)']"
      ]
     },
     "execution_count": 118,
     "metadata": {},
     "output_type": "execute_result"
    }
   ],
   "source": [
    "url = 'https://raw.githubusercontent.com/plotly/plotly.js/master/test/image/mocks/sankey_energy.json'\n",
    "response = urllib.request.urlopen(url)\n",
    "data = json.loads(response.read())\n",
    "colors = data['data'][0]['node']['color']\n",
    "colors"
   ]
  },
  {
   "cell_type": "code",
   "execution_count": 127,
   "metadata": {},
   "outputs": [
    {
     "data": {
      "text/plain": [
       "['rgba(31, 119, 180, 0.8)',\n",
       " 'rgba(255, 127, 14, 0.8)',\n",
       " 'rgba(44, 160, 44, 0.8)',\n",
       " 'rgba(214, 39, 40, 0.8)',\n",
       " 'rgba(148, 103, 189, 0.8)',\n",
       " 'rgba(140, 86, 75, 0.8)',\n",
       " 'rgba(227, 119, 194, 0.8)',\n",
       " 'rgba(127, 127, 127, 0.8)',\n",
       " 'rgba(188, 189, 34, 0.8)',\n",
       " 'rgba(23, 190, 207, 0.8)',\n",
       " 'rgba(31, 119, 180, 0.8)',\n",
       " 'rgba(255, 127, 14, 0.8)',\n",
       " 'rgba(44, 160, 44, 0.8)',\n",
       " 'rgba(214, 39, 40, 0.8)',\n",
       " 'rgba(148, 103, 189, 0.8)',\n",
       " 'rgba(140, 86, 75, 0.8)',\n",
       " 'rgba(227, 119, 194, 0.8)',\n",
       " 'rgba(127, 127, 127, 0.8)',\n",
       " 'rgba(188, 189, 34, 0.8)',\n",
       " 'rgba(23, 190, 207, 0.8)',\n",
       " 'rgba(31, 119, 180, 0.8)',\n",
       " 'rgba(255, 127, 14, 0.8)',\n",
       " 'rgba(44, 160, 44, 0.8)',\n",
       " 'rgba(214, 39, 40, 0.8)',\n",
       " 'rgba(148, 103, 189, 0.8)',\n",
       " 'rgba(140, 86, 75, 0.8)',\n",
       " 'rgba(227, 119, 194, 0.8)',\n",
       " 'rgba(127, 127, 127, 0.8)',\n",
       " 'rgba(188, 189, 34, 0.8)',\n",
       " 'rgba(23, 190, 207, 0.8)',\n",
       " 'rgba(31, 119, 180, 0.8)',\n",
       " 'rgba(255, 127, 14, 0.8)',\n",
       " 'rgba(44, 160, 44, 0.8)',\n",
       " 'rgba(214, 39, 40, 0.8)',\n",
       " 'rgba(148, 103, 189, 0.8)',\n",
       " 'magenta',\n",
       " 'rgba(227, 119, 194, 0.8)',\n",
       " 'rgba(127, 127, 127, 0.8)',\n",
       " 'rgba(188, 189, 34, 0.8)',\n",
       " 'rgba(23, 190, 207, 0.8)',\n",
       " 'rgba(31, 119, 180, 0.8)']"
      ]
     },
     "execution_count": 127,
     "metadata": {},
     "output_type": "execute_result"
    }
   ],
   "source": [
    "colors = data['data'][0]['node']['color'] * 2\n",
    "len=41\n",
    "colors[0:len]"
   ]
  },
  {
   "cell_type": "code",
   "execution_count": 112,
   "metadata": {},
   "outputs": [
    {
     "data": {
      "text/plain": [
       "['rgba(31, 119, 180, 0.8)',\n",
       " 'rgba(255, 127, 14, 0.8)',\n",
       " 'rgba(44, 160, 44, 0.8)',\n",
       " 'rgba(214, 39, 40, 0.8)',\n",
       " 'rgba(148, 103, 189, 0.8)',\n",
       " 'rgba(140, 86, 75, 0.8)',\n",
       " 'rgba(227, 119, 194, 0.8)',\n",
       " 'rgba(127, 127, 127, 0.8)',\n",
       " 'rgba(188, 189, 34, 0.8)',\n",
       " 'rgba(23, 190, 207, 0.8)',\n",
       " 'rgba(31, 119, 180, 0.8)',\n",
       " 'rgba(255, 127, 14, 0.8)',\n",
       " 'rgba(44, 160, 44, 0.8)',\n",
       " 'rgba(214, 39, 40, 0.8)',\n",
       " 'rgba(148, 103, 189, 0.8)',\n",
       " 'rgba(140, 86, 75, 0.8)',\n",
       " 'rgba(227, 119, 194, 0.8)',\n",
       " 'rgba(127, 127, 127, 0.8)',\n",
       " 'rgba(188, 189, 34, 0.8)',\n",
       " 'rgba(23, 190, 207, 0.8)',\n",
       " 'rgba(31, 119, 180, 0.8)',\n",
       " 'rgba(255, 127, 14, 0.8)',\n",
       " 'rgba(44, 160, 44, 0.8)',\n",
       " 'rgba(214, 39, 40, 0.8)',\n",
       " 'rgba(148, 103, 189, 0.8)',\n",
       " 'rgba(140, 86, 75, 0.8)',\n",
       " 'rgba(227, 119, 194, 0.8)',\n",
       " 'rgba(127, 127, 127, 0.8)',\n",
       " 'rgba(188, 189, 34, 0.8)',\n",
       " 'rgba(31, 119, 180, 0.8)',\n",
       " 'rgba(255, 127, 14, 0.8)',\n",
       " 'rgba(44, 160, 44, 0.8)',\n",
       " 'rgba(214, 39, 40, 0.8)',\n",
       " 'rgba(148, 103, 189, 0.8)',\n",
       " 'rgba(140, 86, 75, 0.8)',\n",
       " 'rgba(227, 119, 194, 0.8)',\n",
       " 'rgba(127, 127, 127, 0.8)',\n",
       " 'rgba(188, 189, 34, 0.8)',\n",
       " 'rgba(23, 190, 207, 0.8)',\n",
       " 'rgba(31, 119, 180, 0.8)',\n",
       " 'rgba(255, 127, 14, 0.8)',\n",
       " 'rgba(44, 160, 44, 0.8)',\n",
       " 'rgba(214, 39, 40, 0.8)',\n",
       " 'rgba(148, 103, 189, 0.8)',\n",
       " 'rgba(140, 86, 75, 0.8)',\n",
       " 'rgba(227, 119, 194, 0.8)',\n",
       " 'rgba(127, 127, 127, 0.8)',\n",
       " 'rgba(188, 189, 34, 0.8)',\n",
       " 'rgba(23, 190, 207, 0.8)',\n",
       " 'rgba(31, 119, 180, 0.8)',\n",
       " 'rgba(255, 127, 14, 0.8)',\n",
       " 'rgba(44, 160, 44, 0.8)',\n",
       " 'rgba(214, 39, 40, 0.8)',\n",
       " 'rgba(148, 103, 189, 0.8)',\n",
       " 'rgba(140, 86, 75, 0.8)',\n",
       " 'rgba(227, 119, 194, 0.8)',\n",
       " 'rgba(127, 127, 127, 0.8)',\n",
       " 'rgba(188, 189, 34, 0.8)']"
      ]
     },
     "execution_count": 112,
     "metadata": {},
     "output_type": "execute_result"
    }
   ],
   "source": [
    "colors * 2"
   ]
  },
  {
   "cell_type": "code",
   "execution_count": null,
   "metadata": {},
   "outputs": [],
   "source": []
  },
  {
   "cell_type": "code",
   "execution_count": null,
   "metadata": {},
   "outputs": [],
   "source": []
  },
  {
   "cell_type": "code",
   "execution_count": null,
   "metadata": {},
   "outputs": [],
   "source": []
  },
  {
   "cell_type": "code",
   "execution_count": 109,
   "metadata": {},
   "outputs": [
    {
     "data": {
      "text/plain": [
       "41"
      ]
     },
     "execution_count": 109,
     "metadata": {},
     "output_type": "execute_result"
    }
   ],
   "source": [
    "len(sources)"
   ]
  },
  {
   "cell_type": "code",
   "execution_count": 65,
   "metadata": {},
   "outputs": [
    {
     "data": {
      "text/plain": [
       "[612,\n",
       " '谭作伍',\n",
       " 707,\n",
       " '叶计成',\n",
       " '莫南',\n",
       " 708,\n",
       " '余广琪',\n",
       " '徐青云',\n",
       " '王创彬',\n",
       " 709,\n",
       " '黄宇鹏',\n",
       " 728,\n",
       " '吴嘉佳',\n",
       " 751,\n",
       " 760,\n",
       " '林梓杰',\n",
       " 765,\n",
       " 799,\n",
       " '刘连子',\n",
       " 800,\n",
       " 802,\n",
       " '一般',\n",
       " '最重要',\n",
       " '不紧急']"
      ]
     },
     "execution_count": 65,
     "metadata": {},
     "output_type": "execute_result"
    }
   ],
   "source": [
    "# news_ids=list(set(source))\n",
    "# news_ids=news_ids.sort(key=source.index)\n",
    "lable"
   ]
  },
  {
   "cell_type": "code",
   "execution_count": 23,
   "metadata": {},
   "outputs": [
    {
     "data": {
      "text/plain": [
       "29"
      ]
     },
     "execution_count": 23,
     "metadata": {},
     "output_type": "execute_result"
    }
   ],
   "source": [
    "len(source_id)"
   ]
  },
  {
   "cell_type": "code",
   "execution_count": 20,
   "metadata": {},
   "outputs": [
    {
     "data": {
      "text/plain": [
       "[18,\n",
       " 11,\n",
       " 14,\n",
       " 15,\n",
       " 20,\n",
       " 16,\n",
       " 15,\n",
       " 14,\n",
       " 19,\n",
       " 17,\n",
       " 14,\n",
       " 13,\n",
       " 15,\n",
       " 17,\n",
       " 18,\n",
       " 15,\n",
       " 12,\n",
       " 11,\n",
       " 17,\n",
       " 13,\n",
       " 16,\n",
       " 14,\n",
       " 18,\n",
       " 19,\n",
       " 11,\n",
       " 17,\n",
       " 16,\n",
       " 18,\n",
       " 12]"
      ]
     },
     "execution_count": 20,
     "metadata": {},
     "output_type": "execute_result"
    }
   ],
   "source": [
    "target"
   ]
  }
 ],
 "metadata": {
  "kernelspec": {
   "display_name": "Python 3",
   "language": "python",
   "name": "python3"
  },
  "language_info": {
   "codemirror_mode": {
    "name": "ipython",
    "version": 3
   },
   "file_extension": ".py",
   "mimetype": "text/x-python",
   "name": "python",
   "nbconvert_exporter": "python",
   "pygments_lexer": "ipython3",
   "version": "3.7.6"
  }
 },
 "nbformat": 4,
 "nbformat_minor": 4
}
