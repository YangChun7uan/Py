{
 "cells": [
  {
   "cell_type": "code",
   "execution_count": 183,
   "metadata": {},
   "outputs": [],
   "source": [
    "import urllib, json\n",
    "\n",
    "\n",
    "url = 'https://raw.githubusercontent.com/plotly/plotly.js/master/test/image/mocks/sankey_energy.json'\n",
    "response = urllib.request.urlopen(url)\n",
    "data = json.loads(response.read())\n",
    "opacity = 0.4\n",
    "# colors = data['data'][0]['node']['color'] \n",
    "node_colors = ['rgba(255,0,255, 0.8)' if color == \"magenta\" else color for color in data['data'][0]['node']['color']]\n",
    "link_colors = [data['data'][0]['node']['color'][src].replace(\"0.8\", str(opacity))\n",
    "                                    for src in data['data'][0]['link']['source']]\n",
    "\n",
    "link_colors = link_colors * 2"
   ]
  },
  {
   "cell_type": "code",
   "execution_count": 219,
   "metadata": {},
   "outputs": [
    {
     "data": {
      "application/vnd.plotly.v1+json": {
       "config": {
        "plotlyServerURL": "https://plot.ly"
       },
       "data": [
        {
         "arrangement": "snap",
         "link": {
          "color": [
           "rgba(31, 119, 180, 0.4)",
           "rgba(255, 127, 14, 0.4)",
           "rgba(255, 127, 14, 0.4)",
           "rgba(255, 127, 14, 0.4)",
           "rgba(255, 127, 14, 0.4)",
           "rgba(227, 119, 194, 0.4)",
           "rgba(127, 127, 127, 0.4)",
           "rgba(188, 189, 34, 0.4)",
           "rgba(31, 119, 180, 0.4)",
           "rgba(23, 190, 207, 0.4)",
           "rgba(255, 127, 14, 0.4)",
           "rgba(255, 127, 14, 0.4)",
           "rgba(255, 127, 14, 0.4)",
           "rgba(140, 86, 75, 0.4)",
           "rgba(140, 86, 75, 0.4)",
           "rgba(140, 86, 75, 0.4)",
           "rgba(140, 86, 75, 0.4)",
           "rgba(140, 86, 75, 0.4)",
           "rgba(140, 86, 75, 0.4)",
           "rgba(140, 86, 75, 0.4)",
           "rgba(140, 86, 75, 0.4)",
           "rgba(140, 86, 75, 0.4)",
           "rgba(140, 86, 75, 0.4)",
           "rgba(140, 86, 75, 0.4)",
           "rgba(214, 39, 40, 0.4)",
           "rgba(140, 86, 75, 0.4)",
           "rgba(140, 86, 75, 0.4)",
           "rgba(140, 86, 75, 0.4)",
           "rgba(140, 86, 75, 0.4)",
           "rgba(140, 86, 75, 0.4)",
           "rgba(140, 86, 75, 0.4)",
           "rgba(127, 127, 127, 0.4)",
           "rgba(127, 127, 127, 0.4)",
           "rgba(127, 127, 127, 0.4)",
           "rgba(188, 189, 34, 0.4)",
           "rgba(23, 190, 207, 0.4)",
           "rgba(44, 160, 44, 0.4)",
           "rgba(44, 160, 44, 0.4)",
           "rgba(44, 160, 44, 0.4)",
           "rgba(44, 160, 44, 0.4)",
           "rgba(44, 160, 44, 0.4)",
           "rgba(44, 160, 44, 0.4)",
           "rgba(44, 160, 44, 0.4)",
           "rgba(44, 160, 44, 0.4)",
           "rgba(148, 103, 189, 0.4)",
           "rgba(148, 103, 189, 0.4)",
           "magenta",
           "magenta",
           "rgba(227, 119, 194, 0.4)",
           "rgba(188, 189, 34, 0.4)",
           "rgba(127, 127, 127, 0.4)",
           "rgba(23, 190, 207, 0.4)",
           "rgba(23, 190, 207, 0.4)",
           "rgba(31, 119, 180, 0.4)",
           "rgba(31, 119, 180, 0.4)",
           "rgba(255, 127, 14, 0.4)",
           "rgba(44, 160, 44, 0.4)",
           "rgba(214, 39, 40, 0.4)",
           "rgba(214, 39, 40, 0.4)",
           "rgba(148, 103, 189, 0.4)",
           "rgba(148, 103, 189, 0.4)",
           "rgba(148, 103, 189, 0.4)",
           "rgba(227, 119, 194, 0.4)",
           "rgba(227, 119, 194, 0.4)",
           "rgba(227, 119, 194, 0.4)",
           "rgba(148, 103, 189, 0.4)",
           "rgba(140, 86, 75, 0.4)",
           "rgba(227, 119, 194, 0.4)",
           "rgba(127, 127, 127, 0.4)",
           "magenta",
           "magenta",
           "rgba(31, 119, 180, 0.4)",
           "rgba(255, 127, 14, 0.4)",
           "rgba(255, 127, 14, 0.4)",
           "rgba(255, 127, 14, 0.4)",
           "rgba(255, 127, 14, 0.4)",
           "rgba(227, 119, 194, 0.4)",
           "rgba(127, 127, 127, 0.4)",
           "rgba(188, 189, 34, 0.4)",
           "rgba(31, 119, 180, 0.4)",
           "rgba(23, 190, 207, 0.4)",
           "rgba(255, 127, 14, 0.4)",
           "rgba(255, 127, 14, 0.4)",
           "rgba(255, 127, 14, 0.4)",
           "rgba(140, 86, 75, 0.4)",
           "rgba(140, 86, 75, 0.4)",
           "rgba(140, 86, 75, 0.4)",
           "rgba(140, 86, 75, 0.4)",
           "rgba(140, 86, 75, 0.4)",
           "rgba(140, 86, 75, 0.4)",
           "rgba(140, 86, 75, 0.4)",
           "rgba(140, 86, 75, 0.4)",
           "rgba(140, 86, 75, 0.4)",
           "rgba(140, 86, 75, 0.4)",
           "rgba(140, 86, 75, 0.4)",
           "rgba(214, 39, 40, 0.4)",
           "rgba(140, 86, 75, 0.4)",
           "rgba(140, 86, 75, 0.4)",
           "rgba(140, 86, 75, 0.4)",
           "rgba(140, 86, 75, 0.4)",
           "rgba(140, 86, 75, 0.4)",
           "rgba(140, 86, 75, 0.4)",
           "rgba(127, 127, 127, 0.4)",
           "rgba(127, 127, 127, 0.4)",
           "rgba(127, 127, 127, 0.4)",
           "rgba(188, 189, 34, 0.4)",
           "rgba(23, 190, 207, 0.4)",
           "rgba(44, 160, 44, 0.4)",
           "rgba(44, 160, 44, 0.4)",
           "rgba(44, 160, 44, 0.4)",
           "rgba(44, 160, 44, 0.4)",
           "rgba(44, 160, 44, 0.4)",
           "rgba(44, 160, 44, 0.4)",
           "rgba(44, 160, 44, 0.4)",
           "rgba(44, 160, 44, 0.4)",
           "rgba(148, 103, 189, 0.4)",
           "rgba(148, 103, 189, 0.4)",
           "magenta",
           "magenta",
           "rgba(227, 119, 194, 0.4)",
           "rgba(188, 189, 34, 0.4)",
           "rgba(127, 127, 127, 0.4)",
           "rgba(23, 190, 207, 0.4)",
           "rgba(23, 190, 207, 0.4)",
           "rgba(31, 119, 180, 0.4)",
           "rgba(31, 119, 180, 0.4)",
           "rgba(255, 127, 14, 0.4)",
           "rgba(44, 160, 44, 0.4)",
           "rgba(214, 39, 40, 0.4)",
           "rgba(214, 39, 40, 0.4)",
           "rgba(148, 103, 189, 0.4)",
           "rgba(148, 103, 189, 0.4)",
           "rgba(148, 103, 189, 0.4)",
           "rgba(227, 119, 194, 0.4)",
           "rgba(227, 119, 194, 0.4)",
           "rgba(227, 119, 194, 0.4)",
           "rgba(148, 103, 189, 0.4)",
           "rgba(140, 86, 75, 0.4)",
           "rgba(227, 119, 194, 0.4)",
           "rgba(127, 127, 127, 0.4)",
           "magenta",
           "magenta"
          ],
          "source": [
           0,
           2,
           2,
           5,
           5,
           5,
           9,
           9,
           9,
           11,
           13,
           14,
           16,
           16,
           16,
           17,
           17,
           17,
           17,
           17,
           17,
           17,
           17,
           17,
           19,
           19,
           19,
           19,
           20,
           3,
           7,
           15,
           15,
           10
          ],
          "target": [
           1,
           3,
           4,
           6,
           7,
           8,
           6,
           4,
           10,
           12,
           4,
           15,
           6,
           12,
           1,
           6,
           18,
           3,
           12,
           15,
           8,
           4,
           1,
           10,
           3,
           12,
           8,
           1,
           18,
           21,
           21,
           23,
           24,
           23
          ],
          "value": [
           1,
           1,
           1,
           2,
           1,
           1,
           1,
           1,
           1,
           1,
           2,
           1,
           1,
           1,
           3,
           3,
           7,
           5,
           3,
           8,
           5,
           2,
           7,
           1,
           3,
           1,
           2,
           2,
           2,
           1,
           1,
           3,
           1,
           1
          ]
         },
         "node": {
          "color": [
           "rgba(31, 119, 180, 0.8)",
           "rgba(255, 127, 14, 0.8)",
           "rgba(44, 160, 44, 0.8)",
           "rgba(214, 39, 40, 0.8)",
           "rgba(148, 103, 189, 0.8)",
           "rgba(140, 86, 75, 0.8)",
           "rgba(227, 119, 194, 0.8)",
           "rgba(127, 127, 127, 0.8)",
           "rgba(188, 189, 34, 0.8)",
           "rgba(23, 190, 207, 0.8)",
           "rgba(31, 119, 180, 0.8)",
           "rgba(255, 127, 14, 0.8)",
           "rgba(44, 160, 44, 0.8)",
           "rgba(214, 39, 40, 0.8)",
           "rgba(148, 103, 189, 0.8)",
           "rgba(140, 86, 75, 0.8)",
           "rgba(227, 119, 194, 0.8)",
           "rgba(127, 127, 127, 0.8)",
           "rgba(188, 189, 34, 0.8)",
           "rgba(23, 190, 207, 0.8)",
           "rgba(31, 119, 180, 0.8)",
           "rgba(255, 127, 14, 0.8)",
           "rgba(44, 160, 44, 0.8)",
           "rgba(214, 39, 40, 0.8)",
           "rgba(148, 103, 189, 0.8)",
           "rgba(140, 86, 75, 0.8)",
           "rgba(227, 119, 194, 0.8)",
           "rgba(127, 127, 127, 0.8)",
           "rgba(188, 189, 34, 0.8)",
           "rgba(23, 190, 207, 0.8)",
           "rgba(31, 119, 180, 0.8)",
           "rgba(255, 127, 14, 0.8)",
           "rgba(44, 160, 44, 0.8)",
           "rgba(214, 39, 40, 0.8)",
           "rgba(148, 103, 189, 0.8)",
           "magenta",
           "rgba(227, 119, 194, 0.8)",
           "rgba(127, 127, 127, 0.8)",
           "rgba(188, 189, 34, 0.8)",
           "rgba(23, 190, 207, 0.8)",
           "rgba(31, 119, 180, 0.8)",
           "rgba(255, 127, 14, 0.8)",
           "rgba(44, 160, 44, 0.8)",
           "rgba(214, 39, 40, 0.8)",
           "rgba(148, 103, 189, 0.8)",
           "rgba(140, 86, 75, 0.8)",
           "rgba(227, 119, 194, 0.8)",
           "rgba(127, 127, 127, 0.8)"
          ],
          "label": [
           "通信安全防护需求...",
           "谭作伍",
           "热更新及版本更新检查需求...",
           "叶计成",
           "莫南",
           "消息中心需求（前后端）...",
           "余广琪",
           "徐青云",
           "王创彬",
           "运营管理后台操作日志管理需求...",
           "黄宇鹏",
           "功能优化需求46-54...",
           "吴嘉佳",
           "后端接口日志接入ELK需求...",
           "消息管理交互优化...",
           "林梓杰",
           "20200701超级号APP渗透测试风险...",
           "功能优化需求...",
           "刘连子",
           "性能优化需求29、34、36 33、37、35...",
           "UI优化需求31、32、33、34、35、36、37、38、39、40、11、22...",
           "【BUG等级】一般",
           "【BUG等级】一般",
           "【BUG等级】微小",
           "【BUG等级】提示",
           "【BUG等级】微小"
          ],
          "line": {
           "color": "gray",
           "width": 0.5
          },
          "pad": 15,
          "thickness": 15,
          "x": [
           0,
           0.5,
           0,
           0.5,
           0.5,
           0,
           0.5,
           0.5,
           0.5,
           0,
           0.5,
           0,
           0.5,
           0,
           0,
           0.5,
           0,
           0,
           0.5,
           0,
           0,
           0.9,
           0.9,
           0.9,
           0.9,
           0.9
          ],
          "y": [
           0,
           0.01,
           0.02,
           0.03,
           0.04,
           0.05,
           0.06,
           0.07,
           0.08,
           0.09,
           0.1,
           0.11,
           0.12,
           0.13,
           0.14,
           0.15,
           0.16,
           0.17,
           0.18,
           0.19,
           0.2,
           0.21,
           0.22,
           0.23
          ]
         },
         "type": "sankey",
         "valueformat": "",
         "valuesuffix": "【开发任务数】"
        }
       ],
       "layout": {
        "autosize": true,
        "font": {
         "color": "white",
         "size": 10
        },
        "hovermode": "x",
        "paper_bgcolor": "black",
        "plot_bgcolor": "black",
        "template": {
         "data": {
          "bar": [
           {
            "error_x": {
             "color": "#2a3f5f"
            },
            "error_y": {
             "color": "#2a3f5f"
            },
            "marker": {
             "line": {
              "color": "#E5ECF6",
              "width": 0.5
             }
            },
            "type": "bar"
           }
          ],
          "barpolar": [
           {
            "marker": {
             "line": {
              "color": "#E5ECF6",
              "width": 0.5
             }
            },
            "type": "barpolar"
           }
          ],
          "carpet": [
           {
            "aaxis": {
             "endlinecolor": "#2a3f5f",
             "gridcolor": "white",
             "linecolor": "white",
             "minorgridcolor": "white",
             "startlinecolor": "#2a3f5f"
            },
            "baxis": {
             "endlinecolor": "#2a3f5f",
             "gridcolor": "white",
             "linecolor": "white",
             "minorgridcolor": "white",
             "startlinecolor": "#2a3f5f"
            },
            "type": "carpet"
           }
          ],
          "choropleth": [
           {
            "colorbar": {
             "outlinewidth": 0,
             "ticks": ""
            },
            "type": "choropleth"
           }
          ],
          "contour": [
           {
            "colorbar": {
             "outlinewidth": 0,
             "ticks": ""
            },
            "colorscale": [
             [
              0,
              "#0d0887"
             ],
             [
              0.1111111111111111,
              "#46039f"
             ],
             [
              0.2222222222222222,
              "#7201a8"
             ],
             [
              0.3333333333333333,
              "#9c179e"
             ],
             [
              0.4444444444444444,
              "#bd3786"
             ],
             [
              0.5555555555555556,
              "#d8576b"
             ],
             [
              0.6666666666666666,
              "#ed7953"
             ],
             [
              0.7777777777777778,
              "#fb9f3a"
             ],
             [
              0.8888888888888888,
              "#fdca26"
             ],
             [
              1,
              "#f0f921"
             ]
            ],
            "type": "contour"
           }
          ],
          "contourcarpet": [
           {
            "colorbar": {
             "outlinewidth": 0,
             "ticks": ""
            },
            "type": "contourcarpet"
           }
          ],
          "heatmap": [
           {
            "colorbar": {
             "outlinewidth": 0,
             "ticks": ""
            },
            "colorscale": [
             [
              0,
              "#0d0887"
             ],
             [
              0.1111111111111111,
              "#46039f"
             ],
             [
              0.2222222222222222,
              "#7201a8"
             ],
             [
              0.3333333333333333,
              "#9c179e"
             ],
             [
              0.4444444444444444,
              "#bd3786"
             ],
             [
              0.5555555555555556,
              "#d8576b"
             ],
             [
              0.6666666666666666,
              "#ed7953"
             ],
             [
              0.7777777777777778,
              "#fb9f3a"
             ],
             [
              0.8888888888888888,
              "#fdca26"
             ],
             [
              1,
              "#f0f921"
             ]
            ],
            "type": "heatmap"
           }
          ],
          "heatmapgl": [
           {
            "colorbar": {
             "outlinewidth": 0,
             "ticks": ""
            },
            "colorscale": [
             [
              0,
              "#0d0887"
             ],
             [
              0.1111111111111111,
              "#46039f"
             ],
             [
              0.2222222222222222,
              "#7201a8"
             ],
             [
              0.3333333333333333,
              "#9c179e"
             ],
             [
              0.4444444444444444,
              "#bd3786"
             ],
             [
              0.5555555555555556,
              "#d8576b"
             ],
             [
              0.6666666666666666,
              "#ed7953"
             ],
             [
              0.7777777777777778,
              "#fb9f3a"
             ],
             [
              0.8888888888888888,
              "#fdca26"
             ],
             [
              1,
              "#f0f921"
             ]
            ],
            "type": "heatmapgl"
           }
          ],
          "histogram": [
           {
            "marker": {
             "colorbar": {
              "outlinewidth": 0,
              "ticks": ""
             }
            },
            "type": "histogram"
           }
          ],
          "histogram2d": [
           {
            "colorbar": {
             "outlinewidth": 0,
             "ticks": ""
            },
            "colorscale": [
             [
              0,
              "#0d0887"
             ],
             [
              0.1111111111111111,
              "#46039f"
             ],
             [
              0.2222222222222222,
              "#7201a8"
             ],
             [
              0.3333333333333333,
              "#9c179e"
             ],
             [
              0.4444444444444444,
              "#bd3786"
             ],
             [
              0.5555555555555556,
              "#d8576b"
             ],
             [
              0.6666666666666666,
              "#ed7953"
             ],
             [
              0.7777777777777778,
              "#fb9f3a"
             ],
             [
              0.8888888888888888,
              "#fdca26"
             ],
             [
              1,
              "#f0f921"
             ]
            ],
            "type": "histogram2d"
           }
          ],
          "histogram2dcontour": [
           {
            "colorbar": {
             "outlinewidth": 0,
             "ticks": ""
            },
            "colorscale": [
             [
              0,
              "#0d0887"
             ],
             [
              0.1111111111111111,
              "#46039f"
             ],
             [
              0.2222222222222222,
              "#7201a8"
             ],
             [
              0.3333333333333333,
              "#9c179e"
             ],
             [
              0.4444444444444444,
              "#bd3786"
             ],
             [
              0.5555555555555556,
              "#d8576b"
             ],
             [
              0.6666666666666666,
              "#ed7953"
             ],
             [
              0.7777777777777778,
              "#fb9f3a"
             ],
             [
              0.8888888888888888,
              "#fdca26"
             ],
             [
              1,
              "#f0f921"
             ]
            ],
            "type": "histogram2dcontour"
           }
          ],
          "mesh3d": [
           {
            "colorbar": {
             "outlinewidth": 0,
             "ticks": ""
            },
            "type": "mesh3d"
           }
          ],
          "parcoords": [
           {
            "line": {
             "colorbar": {
              "outlinewidth": 0,
              "ticks": ""
             }
            },
            "type": "parcoords"
           }
          ],
          "pie": [
           {
            "automargin": true,
            "type": "pie"
           }
          ],
          "scatter": [
           {
            "marker": {
             "colorbar": {
              "outlinewidth": 0,
              "ticks": ""
             }
            },
            "type": "scatter"
           }
          ],
          "scatter3d": [
           {
            "line": {
             "colorbar": {
              "outlinewidth": 0,
              "ticks": ""
             }
            },
            "marker": {
             "colorbar": {
              "outlinewidth": 0,
              "ticks": ""
             }
            },
            "type": "scatter3d"
           }
          ],
          "scattercarpet": [
           {
            "marker": {
             "colorbar": {
              "outlinewidth": 0,
              "ticks": ""
             }
            },
            "type": "scattercarpet"
           }
          ],
          "scattergeo": [
           {
            "marker": {
             "colorbar": {
              "outlinewidth": 0,
              "ticks": ""
             }
            },
            "type": "scattergeo"
           }
          ],
          "scattergl": [
           {
            "marker": {
             "colorbar": {
              "outlinewidth": 0,
              "ticks": ""
             }
            },
            "type": "scattergl"
           }
          ],
          "scattermapbox": [
           {
            "marker": {
             "colorbar": {
              "outlinewidth": 0,
              "ticks": ""
             }
            },
            "type": "scattermapbox"
           }
          ],
          "scatterpolar": [
           {
            "marker": {
             "colorbar": {
              "outlinewidth": 0,
              "ticks": ""
             }
            },
            "type": "scatterpolar"
           }
          ],
          "scatterpolargl": [
           {
            "marker": {
             "colorbar": {
              "outlinewidth": 0,
              "ticks": ""
             }
            },
            "type": "scatterpolargl"
           }
          ],
          "scatterternary": [
           {
            "marker": {
             "colorbar": {
              "outlinewidth": 0,
              "ticks": ""
             }
            },
            "type": "scatterternary"
           }
          ],
          "surface": [
           {
            "colorbar": {
             "outlinewidth": 0,
             "ticks": ""
            },
            "colorscale": [
             [
              0,
              "#0d0887"
             ],
             [
              0.1111111111111111,
              "#46039f"
             ],
             [
              0.2222222222222222,
              "#7201a8"
             ],
             [
              0.3333333333333333,
              "#9c179e"
             ],
             [
              0.4444444444444444,
              "#bd3786"
             ],
             [
              0.5555555555555556,
              "#d8576b"
             ],
             [
              0.6666666666666666,
              "#ed7953"
             ],
             [
              0.7777777777777778,
              "#fb9f3a"
             ],
             [
              0.8888888888888888,
              "#fdca26"
             ],
             [
              1,
              "#f0f921"
             ]
            ],
            "type": "surface"
           }
          ],
          "table": [
           {
            "cells": {
             "fill": {
              "color": "#EBF0F8"
             },
             "line": {
              "color": "white"
             }
            },
            "header": {
             "fill": {
              "color": "#C8D4E3"
             },
             "line": {
              "color": "white"
             }
            },
            "type": "table"
           }
          ]
         },
         "layout": {
          "annotationdefaults": {
           "arrowcolor": "#2a3f5f",
           "arrowhead": 0,
           "arrowwidth": 1
          },
          "coloraxis": {
           "colorbar": {
            "outlinewidth": 0,
            "ticks": ""
           }
          },
          "colorscale": {
           "diverging": [
            [
             0,
             "#8e0152"
            ],
            [
             0.1,
             "#c51b7d"
            ],
            [
             0.2,
             "#de77ae"
            ],
            [
             0.3,
             "#f1b6da"
            ],
            [
             0.4,
             "#fde0ef"
            ],
            [
             0.5,
             "#f7f7f7"
            ],
            [
             0.6,
             "#e6f5d0"
            ],
            [
             0.7,
             "#b8e186"
            ],
            [
             0.8,
             "#7fbc41"
            ],
            [
             0.9,
             "#4d9221"
            ],
            [
             1,
             "#276419"
            ]
           ],
           "sequential": [
            [
             0,
             "#0d0887"
            ],
            [
             0.1111111111111111,
             "#46039f"
            ],
            [
             0.2222222222222222,
             "#7201a8"
            ],
            [
             0.3333333333333333,
             "#9c179e"
            ],
            [
             0.4444444444444444,
             "#bd3786"
            ],
            [
             0.5555555555555556,
             "#d8576b"
            ],
            [
             0.6666666666666666,
             "#ed7953"
            ],
            [
             0.7777777777777778,
             "#fb9f3a"
            ],
            [
             0.8888888888888888,
             "#fdca26"
            ],
            [
             1,
             "#f0f921"
            ]
           ],
           "sequentialminus": [
            [
             0,
             "#0d0887"
            ],
            [
             0.1111111111111111,
             "#46039f"
            ],
            [
             0.2222222222222222,
             "#7201a8"
            ],
            [
             0.3333333333333333,
             "#9c179e"
            ],
            [
             0.4444444444444444,
             "#bd3786"
            ],
            [
             0.5555555555555556,
             "#d8576b"
            ],
            [
             0.6666666666666666,
             "#ed7953"
            ],
            [
             0.7777777777777778,
             "#fb9f3a"
            ],
            [
             0.8888888888888888,
             "#fdca26"
            ],
            [
             1,
             "#f0f921"
            ]
           ]
          },
          "colorway": [
           "#636efa",
           "#EF553B",
           "#00cc96",
           "#ab63fa",
           "#FFA15A",
           "#19d3f3",
           "#FF6692",
           "#B6E880",
           "#FF97FF",
           "#FECB52"
          ],
          "font": {
           "color": "#2a3f5f"
          },
          "geo": {
           "bgcolor": "white",
           "lakecolor": "white",
           "landcolor": "#E5ECF6",
           "showlakes": true,
           "showland": true,
           "subunitcolor": "white"
          },
          "hoverlabel": {
           "align": "left"
          },
          "hovermode": "closest",
          "mapbox": {
           "style": "light"
          },
          "paper_bgcolor": "white",
          "plot_bgcolor": "#E5ECF6",
          "polar": {
           "angularaxis": {
            "gridcolor": "white",
            "linecolor": "white",
            "ticks": ""
           },
           "bgcolor": "#E5ECF6",
           "radialaxis": {
            "gridcolor": "white",
            "linecolor": "white",
            "ticks": ""
           }
          },
          "scene": {
           "xaxis": {
            "backgroundcolor": "#E5ECF6",
            "gridcolor": "white",
            "gridwidth": 2,
            "linecolor": "white",
            "showbackground": true,
            "ticks": "",
            "zerolinecolor": "white"
           },
           "yaxis": {
            "backgroundcolor": "#E5ECF6",
            "gridcolor": "white",
            "gridwidth": 2,
            "linecolor": "white",
            "showbackground": true,
            "ticks": "",
            "zerolinecolor": "white"
           },
           "zaxis": {
            "backgroundcolor": "#E5ECF6",
            "gridcolor": "white",
            "gridwidth": 2,
            "linecolor": "white",
            "showbackground": true,
            "ticks": "",
            "zerolinecolor": "white"
           }
          },
          "shapedefaults": {
           "line": {
            "color": "#2a3f5f"
           }
          },
          "ternary": {
           "aaxis": {
            "gridcolor": "white",
            "linecolor": "white",
            "ticks": ""
           },
           "baxis": {
            "gridcolor": "white",
            "linecolor": "white",
            "ticks": ""
           },
           "bgcolor": "#E5ECF6",
           "caxis": {
            "gridcolor": "white",
            "linecolor": "white",
            "ticks": ""
           }
          },
          "title": {
           "x": 0.05
          },
          "xaxis": {
           "automargin": true,
           "gridcolor": "white",
           "linecolor": "white",
           "ticks": "",
           "title": {
            "standoff": 15
           },
           "zerolinecolor": "white",
           "zerolinewidth": 2
          },
          "yaxis": {
           "automargin": true,
           "gridcolor": "white",
           "linecolor": "white",
           "ticks": "",
           "title": {
            "standoff": 15
           },
           "zerolinecolor": "white",
           "zerolinewidth": 2
          }
         }
        },
        "title": {
         "text": "超级号-研发质量分析<br>版本: 20200723版本【APP 1.0.5】<br>BUG等级分类（1）致命：（2）严重：（3）一般：微小：（5）提示："
        }
       }
      },
      "image/png": "[encoded data removed]",
      "text/html": [
       "<div>\n",
       "        \n",
       "        \n",
       "            <div id=\"bf93e4c7-4d9e-4da0-b461-b69e2362f564\" class=\"plotly-graph-div\" style=\"height:525px; width:100%;\"></div>\n",
       "            <script type=\"text/javascript\">\n",
       "                require([\"plotly\"], function(Plotly) {\n",
       "                    window.PLOTLYENV=window.PLOTLYENV || {};\n",
       "                    \n",
       "                if (document.getElementById(\"bf93e4c7-4d9e-4da0-b461-b69e2362f564\")) {\n",
       "                    Plotly.newPlot(\n",
       "                        'bf93e4c7-4d9e-4da0-b461-b69e2362f564',\n",
       "                        [{\"arrangement\": \"snap\", \"link\": {\"color\": [\"rgba(31, 119, 180, 0.4)\", \"rgba(255, 127, 14, 0.4)\", \"rgba(255, 127, 14, 0.4)\", \"rgba(255, 127, 14, 0.4)\", \"rgba(255, 127, 14, 0.4)\", \"rgba(227, 119, 194, 0.4)\", \"rgba(127, 127, 127, 0.4)\", \"rgba(188, 189, 34, 0.4)\", \"rgba(31, 119, 180, 0.4)\", \"rgba(23, 190, 207, 0.4)\", \"rgba(255, 127, 14, 0.4)\", \"rgba(255, 127, 14, 0.4)\", \"rgba(255, 127, 14, 0.4)\", \"rgba(140, 86, 75, 0.4)\", \"rgba(140, 86, 75, 0.4)\", \"rgba(140, 86, 75, 0.4)\", \"rgba(140, 86, 75, 0.4)\", \"rgba(140, 86, 75, 0.4)\", \"rgba(140, 86, 75, 0.4)\", \"rgba(140, 86, 75, 0.4)\", \"rgba(140, 86, 75, 0.4)\", \"rgba(140, 86, 75, 0.4)\", \"rgba(140, 86, 75, 0.4)\", \"rgba(140, 86, 75, 0.4)\", \"rgba(214, 39, 40, 0.4)\", \"rgba(140, 86, 75, 0.4)\", \"rgba(140, 86, 75, 0.4)\", \"rgba(140, 86, 75, 0.4)\", \"rgba(140, 86, 75, 0.4)\", \"rgba(140, 86, 75, 0.4)\", \"rgba(140, 86, 75, 0.4)\", \"rgba(127, 127, 127, 0.4)\", \"rgba(127, 127, 127, 0.4)\", \"rgba(127, 127, 127, 0.4)\", \"rgba(188, 189, 34, 0.4)\", \"rgba(23, 190, 207, 0.4)\", \"rgba(44, 160, 44, 0.4)\", \"rgba(44, 160, 44, 0.4)\", \"rgba(44, 160, 44, 0.4)\", \"rgba(44, 160, 44, 0.4)\", \"rgba(44, 160, 44, 0.4)\", \"rgba(44, 160, 44, 0.4)\", \"rgba(44, 160, 44, 0.4)\", \"rgba(44, 160, 44, 0.4)\", \"rgba(148, 103, 189, 0.4)\", \"rgba(148, 103, 189, 0.4)\", \"magenta\", \"magenta\", \"rgba(227, 119, 194, 0.4)\", \"rgba(188, 189, 34, 0.4)\", \"rgba(127, 127, 127, 0.4)\", \"rgba(23, 190, 207, 0.4)\", \"rgba(23, 190, 207, 0.4)\", \"rgba(31, 119, 180, 0.4)\", \"rgba(31, 119, 180, 0.4)\", \"rgba(255, 127, 14, 0.4)\", \"rgba(44, 160, 44, 0.4)\", \"rgba(214, 39, 40, 0.4)\", \"rgba(214, 39, 40, 0.4)\", \"rgba(148, 103, 189, 0.4)\", \"rgba(148, 103, 189, 0.4)\", \"rgba(148, 103, 189, 0.4)\", \"rgba(227, 119, 194, 0.4)\", \"rgba(227, 119, 194, 0.4)\", \"rgba(227, 119, 194, 0.4)\", \"rgba(148, 103, 189, 0.4)\", \"rgba(140, 86, 75, 0.4)\", \"rgba(227, 119, 194, 0.4)\", \"rgba(127, 127, 127, 0.4)\", \"magenta\", \"magenta\", \"rgba(31, 119, 180, 0.4)\", \"rgba(255, 127, 14, 0.4)\", \"rgba(255, 127, 14, 0.4)\", \"rgba(255, 127, 14, 0.4)\", \"rgba(255, 127, 14, 0.4)\", \"rgba(227, 119, 194, 0.4)\", \"rgba(127, 127, 127, 0.4)\", \"rgba(188, 189, 34, 0.4)\", \"rgba(31, 119, 180, 0.4)\", \"rgba(23, 190, 207, 0.4)\", \"rgba(255, 127, 14, 0.4)\", \"rgba(255, 127, 14, 0.4)\", \"rgba(255, 127, 14, 0.4)\", \"rgba(140, 86, 75, 0.4)\", \"rgba(140, 86, 75, 0.4)\", \"rgba(140, 86, 75, 0.4)\", \"rgba(140, 86, 75, 0.4)\", \"rgba(140, 86, 75, 0.4)\", \"rgba(140, 86, 75, 0.4)\", \"rgba(140, 86, 75, 0.4)\", \"rgba(140, 86, 75, 0.4)\", \"rgba(140, 86, 75, 0.4)\", \"rgba(140, 86, 75, 0.4)\", \"rgba(140, 86, 75, 0.4)\", \"rgba(214, 39, 40, 0.4)\", \"rgba(140, 86, 75, 0.4)\", \"rgba(140, 86, 75, 0.4)\", \"rgba(140, 86, 75, 0.4)\", \"rgba(140, 86, 75, 0.4)\", \"rgba(140, 86, 75, 0.4)\", \"rgba(140, 86, 75, 0.4)\", \"rgba(127, 127, 127, 0.4)\", \"rgba(127, 127, 127, 0.4)\", \"rgba(127, 127, 127, 0.4)\", \"rgba(188, 189, 34, 0.4)\", \"rgba(23, 190, 207, 0.4)\", \"rgba(44, 160, 44, 0.4)\", \"rgba(44, 160, 44, 0.4)\", \"rgba(44, 160, 44, 0.4)\", \"rgba(44, 160, 44, 0.4)\", \"rgba(44, 160, 44, 0.4)\", \"rgba(44, 160, 44, 0.4)\", \"rgba(44, 160, 44, 0.4)\", \"rgba(44, 160, 44, 0.4)\", \"rgba(148, 103, 189, 0.4)\", \"rgba(148, 103, 189, 0.4)\", \"magenta\", \"magenta\", \"rgba(227, 119, 194, 0.4)\", \"rgba(188, 189, 34, 0.4)\", \"rgba(127, 127, 127, 0.4)\", \"rgba(23, 190, 207, 0.4)\", \"rgba(23, 190, 207, 0.4)\", \"rgba(31, 119, 180, 0.4)\", \"rgba(31, 119, 180, 0.4)\", \"rgba(255, 127, 14, 0.4)\", \"rgba(44, 160, 44, 0.4)\", \"rgba(214, 39, 40, 0.4)\", \"rgba(214, 39, 40, 0.4)\", \"rgba(148, 103, 189, 0.4)\", \"rgba(148, 103, 189, 0.4)\", \"rgba(148, 103, 189, 0.4)\", \"rgba(227, 119, 194, 0.4)\", \"rgba(227, 119, 194, 0.4)\", \"rgba(227, 119, 194, 0.4)\", \"rgba(148, 103, 189, 0.4)\", \"rgba(140, 86, 75, 0.4)\", \"rgba(227, 119, 194, 0.4)\", \"rgba(127, 127, 127, 0.4)\", \"magenta\", \"magenta\"], \"source\": [0, 2, 2, 5, 5, 5, 9, 9, 9, 11, 13, 14, 16, 16, 16, 17, 17, 17, 17, 17, 17, 17, 17, 17, 19, 19, 19, 19, 20, 3, 7, 15, 15, 10], \"target\": [1, 3, 4, 6, 7, 8, 6, 4, 10, 12, 4, 15, 6, 12, 1, 6, 18, 3, 12, 15, 8, 4, 1, 10, 3, 12, 8, 1, 18, 21, 21, 23, 24, 23], \"value\": [1, 1, 1, 2, 1, 1, 1, 1, 1, 1, 2, 1, 1, 1, 3, 3, 7, 5, 3, 8, 5, 2, 7, 1, 3, 1, 2, 2, 2, 1, 1, 3, 1, 1]}, \"node\": {\"color\": [\"rgba(31, 119, 180, 0.8)\", \"rgba(255, 127, 14, 0.8)\", \"rgba(44, 160, 44, 0.8)\", \"rgba(214, 39, 40, 0.8)\", \"rgba(148, 103, 189, 0.8)\", \"rgba(140, 86, 75, 0.8)\", \"rgba(227, 119, 194, 0.8)\", \"rgba(127, 127, 127, 0.8)\", \"rgba(188, 189, 34, 0.8)\", \"rgba(23, 190, 207, 0.8)\", \"rgba(31, 119, 180, 0.8)\", \"rgba(255, 127, 14, 0.8)\", \"rgba(44, 160, 44, 0.8)\", \"rgba(214, 39, 40, 0.8)\", \"rgba(148, 103, 189, 0.8)\", \"rgba(140, 86, 75, 0.8)\", \"rgba(227, 119, 194, 0.8)\", \"rgba(127, 127, 127, 0.8)\", \"rgba(188, 189, 34, 0.8)\", \"rgba(23, 190, 207, 0.8)\", \"rgba(31, 119, 180, 0.8)\", \"rgba(255, 127, 14, 0.8)\", \"rgba(44, 160, 44, 0.8)\", \"rgba(214, 39, 40, 0.8)\", \"rgba(148, 103, 189, 0.8)\", \"rgba(140, 86, 75, 0.8)\", \"rgba(227, 119, 194, 0.8)\", \"rgba(127, 127, 127, 0.8)\", \"rgba(188, 189, 34, 0.8)\", \"rgba(23, 190, 207, 0.8)\", \"rgba(31, 119, 180, 0.8)\", \"rgba(255, 127, 14, 0.8)\", \"rgba(44, 160, 44, 0.8)\", \"rgba(214, 39, 40, 0.8)\", \"rgba(148, 103, 189, 0.8)\", \"magenta\", \"rgba(227, 119, 194, 0.8)\", \"rgba(127, 127, 127, 0.8)\", \"rgba(188, 189, 34, 0.8)\", \"rgba(23, 190, 207, 0.8)\", \"rgba(31, 119, 180, 0.8)\", \"rgba(255, 127, 14, 0.8)\", \"rgba(44, 160, 44, 0.8)\", \"rgba(214, 39, 40, 0.8)\", \"rgba(148, 103, 189, 0.8)\", \"rgba(140, 86, 75, 0.8)\", \"rgba(227, 119, 194, 0.8)\", \"rgba(127, 127, 127, 0.8)\"], \"label\": [\"\\u901a\\u4fe1\\u5b89\\u5168\\u9632\\u62a4\\u9700\\u6c42...\", \"\\u8c2d\\u4f5c\\u4f0d\", \"\\u70ed\\u66f4\\u65b0\\u53ca\\u7248\\u672c\\u66f4\\u65b0\\u68c0\\u67e5\\u9700\\u6c42...\", \"\\u53f6\\u8ba1\\u6210\", \"\\u83ab\\u5357\", \"\\u6d88\\u606f\\u4e2d\\u5fc3\\u9700\\u6c42\\uff08\\u524d\\u540e\\u7aef\\uff09...\", \"\\u4f59\\u5e7f\\u742a\", \"\\u5f90\\u9752\\u4e91\", \"\\u738b\\u521b\\u5f6c\", \"\\u8fd0\\u8425\\u7ba1\\u7406\\u540e\\u53f0\\u64cd\\u4f5c\\u65e5\\u5fd7\\u7ba1\\u7406\\u9700\\u6c42...\", \"\\u9ec4\\u5b87\\u9e4f\", \"\\u529f\\u80fd\\u4f18\\u5316\\u9700\\u6c4246-54...\", \"\\u5434\\u5609\\u4f73\", \"\\u540e\\u7aef\\u63a5\\u53e3\\u65e5\\u5fd7\\u63a5\\u5165ELK\\u9700\\u6c42...\", \"\\u6d88\\u606f\\u7ba1\\u7406\\u4ea4\\u4e92\\u4f18\\u5316...\", \"\\u6797\\u6893\\u6770\", \"20200701\\u8d85\\u7ea7\\u53f7APP\\u6e17\\u900f\\u6d4b\\u8bd5\\u98ce\\u9669...\", \"\\u529f\\u80fd\\u4f18\\u5316\\u9700\\u6c42...\", \"\\u5218\\u8fde\\u5b50\", \"\\u6027\\u80fd\\u4f18\\u5316\\u9700\\u6c4229\\u300134\\u300136 33\\u300137\\u300135...\", \"UI\\u4f18\\u5316\\u9700\\u6c4231\\u300132\\u300133\\u300134\\u300135\\u300136\\u300137\\u300138\\u300139\\u300140\\u300111\\u300122...\", \"\\u3010BUG\\u7b49\\u7ea7\\u3011\\u4e00\\u822c\", \"\\u3010BUG\\u7b49\\u7ea7\\u3011\\u4e00\\u822c\", \"\\u3010BUG\\u7b49\\u7ea7\\u3011\\u5fae\\u5c0f\", \"\\u3010BUG\\u7b49\\u7ea7\\u3011\\u63d0\\u793a\", \"\\u3010BUG\\u7b49\\u7ea7\\u3011\\u5fae\\u5c0f\"], \"line\": {\"color\": \"gray\", \"width\": 0.5}, \"pad\": 15, \"thickness\": 15, \"x\": [0, 0.5, 0, 0.5, 0.5, 0, 0.5, 0.5, 0.5, 0, 0.5, 0, 0.5, 0, 0, 0.5, 0, 0, 0.5, 0, 0, 0.9, 0.9, 0.9, 0.9, 0.9], \"y\": [0.0, 0.01, 0.02, 0.03, 0.04, 0.05, 0.06, 0.07, 0.08, 0.09, 0.1, 0.11, 0.12, 0.13, 0.14, 0.15, 0.16, 0.17, 0.18, 0.19, 0.2, 0.21, 0.22, 0.23]}, \"type\": \"sankey\", \"valueformat\": \"\", \"valuesuffix\": \"\\u3010\\u5f00\\u53d1\\u4efb\\u52a1\\u6570\\u3011\"}],\n",
       "                        {\"font\": {\"color\": \"white\", \"size\": 10}, \"hovermode\": \"x\", \"paper_bgcolor\": \"black\", \"plot_bgcolor\": \"black\", \"template\": {\"data\": {\"bar\": [{\"error_x\": {\"color\": \"#2a3f5f\"}, \"error_y\": {\"color\": \"#2a3f5f\"}, \"marker\": {\"line\": {\"color\": \"#E5ECF6\", \"width\": 0.5}}, \"type\": \"bar\"}], \"barpolar\": [{\"marker\": {\"line\": {\"color\": \"#E5ECF6\", \"width\": 0.5}}, \"type\": \"barpolar\"}], \"carpet\": [{\"aaxis\": {\"endlinecolor\": \"#2a3f5f\", \"gridcolor\": \"white\", \"linecolor\": \"white\", \"minorgridcolor\": \"white\", \"startlinecolor\": \"#2a3f5f\"}, \"baxis\": {\"endlinecolor\": \"#2a3f5f\", \"gridcolor\": \"white\", \"linecolor\": \"white\", \"minorgridcolor\": \"white\", \"startlinecolor\": \"#2a3f5f\"}, \"type\": \"carpet\"}], \"choropleth\": [{\"colorbar\": {\"outlinewidth\": 0, \"ticks\": \"\"}, \"type\": \"choropleth\"}], \"contour\": [{\"colorbar\": {\"outlinewidth\": 0, \"ticks\": \"\"}, \"colorscale\": [[0.0, \"#0d0887\"], [0.1111111111111111, \"#46039f\"], [0.2222222222222222, \"#7201a8\"], [0.3333333333333333, \"#9c179e\"], [0.4444444444444444, \"#bd3786\"], [0.5555555555555556, \"#d8576b\"], [0.6666666666666666, \"#ed7953\"], [0.7777777777777778, \"#fb9f3a\"], [0.8888888888888888, \"#fdca26\"], [1.0, \"#f0f921\"]], \"type\": \"contour\"}], \"contourcarpet\": [{\"colorbar\": {\"outlinewidth\": 0, \"ticks\": \"\"}, \"type\": \"contourcarpet\"}], \"heatmap\": [{\"colorbar\": {\"outlinewidth\": 0, \"ticks\": \"\"}, \"colorscale\": [[0.0, \"#0d0887\"], [0.1111111111111111, \"#46039f\"], [0.2222222222222222, \"#7201a8\"], [0.3333333333333333, \"#9c179e\"], [0.4444444444444444, \"#bd3786\"], [0.5555555555555556, \"#d8576b\"], [0.6666666666666666, \"#ed7953\"], [0.7777777777777778, \"#fb9f3a\"], [0.8888888888888888, \"#fdca26\"], [1.0, \"#f0f921\"]], \"type\": \"heatmap\"}], \"heatmapgl\": [{\"colorbar\": {\"outlinewidth\": 0, \"ticks\": \"\"}, \"colorscale\": [[0.0, \"#0d0887\"], [0.1111111111111111, \"#46039f\"], [0.2222222222222222, \"#7201a8\"], [0.3333333333333333, \"#9c179e\"], [0.4444444444444444, \"#bd3786\"], [0.5555555555555556, \"#d8576b\"], [0.6666666666666666, \"#ed7953\"], [0.7777777777777778, \"#fb9f3a\"], [0.8888888888888888, \"#fdca26\"], [1.0, \"#f0f921\"]], \"type\": \"heatmapgl\"}], \"histogram\": [{\"marker\": {\"colorbar\": {\"outlinewidth\": 0, \"ticks\": \"\"}}, \"type\": \"histogram\"}], \"histogram2d\": [{\"colorbar\": {\"outlinewidth\": 0, \"ticks\": \"\"}, \"colorscale\": [[0.0, \"#0d0887\"], [0.1111111111111111, \"#46039f\"], [0.2222222222222222, \"#7201a8\"], [0.3333333333333333, \"#9c179e\"], [0.4444444444444444, \"#bd3786\"], [0.5555555555555556, \"#d8576b\"], [0.6666666666666666, \"#ed7953\"], [0.7777777777777778, \"#fb9f3a\"], [0.8888888888888888, \"#fdca26\"], [1.0, \"#f0f921\"]], \"type\": \"histogram2d\"}], \"histogram2dcontour\": [{\"colorbar\": {\"outlinewidth\": 0, \"ticks\": \"\"}, \"colorscale\": [[0.0, \"#0d0887\"], [0.1111111111111111, \"#46039f\"], [0.2222222222222222, \"#7201a8\"], [0.3333333333333333, \"#9c179e\"], [0.4444444444444444, \"#bd3786\"], [0.5555555555555556, \"#d8576b\"], [0.6666666666666666, \"#ed7953\"], [0.7777777777777778, \"#fb9f3a\"], [0.8888888888888888, \"#fdca26\"], [1.0, \"#f0f921\"]], \"type\": \"histogram2dcontour\"}], \"mesh3d\": [{\"colorbar\": {\"outlinewidth\": 0, \"ticks\": \"\"}, \"type\": \"mesh3d\"}], \"parcoords\": [{\"line\": {\"colorbar\": {\"outlinewidth\": 0, \"ticks\": \"\"}}, \"type\": \"parcoords\"}], \"pie\": [{\"automargin\": true, \"type\": \"pie\"}], \"scatter\": [{\"marker\": {\"colorbar\": {\"outlinewidth\": 0, \"ticks\": \"\"}}, \"type\": \"scatter\"}], \"scatter3d\": [{\"line\": {\"colorbar\": {\"outlinewidth\": 0, \"ticks\": \"\"}}, \"marker\": {\"colorbar\": {\"outlinewidth\": 0, \"ticks\": \"\"}}, \"type\": \"scatter3d\"}], \"scattercarpet\": [{\"marker\": {\"colorbar\": {\"outlinewidth\": 0, \"ticks\": \"\"}}, \"type\": \"scattercarpet\"}], \"scattergeo\": [{\"marker\": {\"colorbar\": {\"outlinewidth\": 0, \"ticks\": \"\"}}, \"type\": \"scattergeo\"}], \"scattergl\": [{\"marker\": {\"colorbar\": {\"outlinewidth\": 0, \"ticks\": \"\"}}, \"type\": \"scattergl\"}], \"scattermapbox\": [{\"marker\": {\"colorbar\": {\"outlinewidth\": 0, \"ticks\": \"\"}}, \"type\": \"scattermapbox\"}], \"scatterpolar\": [{\"marker\": {\"colorbar\": {\"outlinewidth\": 0, \"ticks\": \"\"}}, \"type\": \"scatterpolar\"}], \"scatterpolargl\": [{\"marker\": {\"colorbar\": {\"outlinewidth\": 0, \"ticks\": \"\"}}, \"type\": \"scatterpolargl\"}], \"scatterternary\": [{\"marker\": {\"colorbar\": {\"outlinewidth\": 0, \"ticks\": \"\"}}, \"type\": \"scatterternary\"}], \"surface\": [{\"colorbar\": {\"outlinewidth\": 0, \"ticks\": \"\"}, \"colorscale\": [[0.0, \"#0d0887\"], [0.1111111111111111, \"#46039f\"], [0.2222222222222222, \"#7201a8\"], [0.3333333333333333, \"#9c179e\"], [0.4444444444444444, \"#bd3786\"], [0.5555555555555556, \"#d8576b\"], [0.6666666666666666, \"#ed7953\"], [0.7777777777777778, \"#fb9f3a\"], [0.8888888888888888, \"#fdca26\"], [1.0, \"#f0f921\"]], \"type\": \"surface\"}], \"table\": [{\"cells\": {\"fill\": {\"color\": \"#EBF0F8\"}, \"line\": {\"color\": \"white\"}}, \"header\": {\"fill\": {\"color\": \"#C8D4E3\"}, \"line\": {\"color\": \"white\"}}, \"type\": \"table\"}]}, \"layout\": {\"annotationdefaults\": {\"arrowcolor\": \"#2a3f5f\", \"arrowhead\": 0, \"arrowwidth\": 1}, \"coloraxis\": {\"colorbar\": {\"outlinewidth\": 0, \"ticks\": \"\"}}, \"colorscale\": {\"diverging\": [[0, \"#8e0152\"], [0.1, \"#c51b7d\"], [0.2, \"#de77ae\"], [0.3, \"#f1b6da\"], [0.4, \"#fde0ef\"], [0.5, \"#f7f7f7\"], [0.6, \"#e6f5d0\"], [0.7, \"#b8e186\"], [0.8, \"#7fbc41\"], [0.9, \"#4d9221\"], [1, \"#276419\"]], \"sequential\": [[0.0, \"#0d0887\"], [0.1111111111111111, \"#46039f\"], [0.2222222222222222, \"#7201a8\"], [0.3333333333333333, \"#9c179e\"], [0.4444444444444444, \"#bd3786\"], [0.5555555555555556, \"#d8576b\"], [0.6666666666666666, \"#ed7953\"], [0.7777777777777778, \"#fb9f3a\"], [0.8888888888888888, \"#fdca26\"], [1.0, \"#f0f921\"]], \"sequentialminus\": [[0.0, \"#0d0887\"], [0.1111111111111111, \"#46039f\"], [0.2222222222222222, \"#7201a8\"], [0.3333333333333333, \"#9c179e\"], [0.4444444444444444, \"#bd3786\"], [0.5555555555555556, \"#d8576b\"], [0.6666666666666666, \"#ed7953\"], [0.7777777777777778, \"#fb9f3a\"], [0.8888888888888888, \"#fdca26\"], [1.0, \"#f0f921\"]]}, \"colorway\": [\"#636efa\", \"#EF553B\", \"#00cc96\", \"#ab63fa\", \"#FFA15A\", \"#19d3f3\", \"#FF6692\", \"#B6E880\", \"#FF97FF\", \"#FECB52\"], \"font\": {\"color\": \"#2a3f5f\"}, \"geo\": {\"bgcolor\": \"white\", \"lakecolor\": \"white\", \"landcolor\": \"#E5ECF6\", \"showlakes\": true, \"showland\": true, \"subunitcolor\": \"white\"}, \"hoverlabel\": {\"align\": \"left\"}, \"hovermode\": \"closest\", \"mapbox\": {\"style\": \"light\"}, \"paper_bgcolor\": \"white\", \"plot_bgcolor\": \"#E5ECF6\", \"polar\": {\"angularaxis\": {\"gridcolor\": \"white\", \"linecolor\": \"white\", \"ticks\": \"\"}, \"bgcolor\": \"#E5ECF6\", \"radialaxis\": {\"gridcolor\": \"white\", \"linecolor\": \"white\", \"ticks\": \"\"}}, \"scene\": {\"xaxis\": {\"backgroundcolor\": \"#E5ECF6\", \"gridcolor\": \"white\", \"gridwidth\": 2, \"linecolor\": \"white\", \"showbackground\": true, \"ticks\": \"\", \"zerolinecolor\": \"white\"}, \"yaxis\": {\"backgroundcolor\": \"#E5ECF6\", \"gridcolor\": \"white\", \"gridwidth\": 2, \"linecolor\": \"white\", \"showbackground\": true, \"ticks\": \"\", \"zerolinecolor\": \"white\"}, \"zaxis\": {\"backgroundcolor\": \"#E5ECF6\", \"gridcolor\": \"white\", \"gridwidth\": 2, \"linecolor\": \"white\", \"showbackground\": true, \"ticks\": \"\", \"zerolinecolor\": \"white\"}}, \"shapedefaults\": {\"line\": {\"color\": \"#2a3f5f\"}}, \"ternary\": {\"aaxis\": {\"gridcolor\": \"white\", \"linecolor\": \"white\", \"ticks\": \"\"}, \"baxis\": {\"gridcolor\": \"white\", \"linecolor\": \"white\", \"ticks\": \"\"}, \"bgcolor\": \"#E5ECF6\", \"caxis\": {\"gridcolor\": \"white\", \"linecolor\": \"white\", \"ticks\": \"\"}}, \"title\": {\"x\": 0.05}, \"xaxis\": {\"automargin\": true, \"gridcolor\": \"white\", \"linecolor\": \"white\", \"ticks\": \"\", \"title\": {\"standoff\": 15}, \"zerolinecolor\": \"white\", \"zerolinewidth\": 2}, \"yaxis\": {\"automargin\": true, \"gridcolor\": \"white\", \"linecolor\": \"white\", \"ticks\": \"\", \"title\": {\"standoff\": 15}, \"zerolinecolor\": \"white\", \"zerolinewidth\": 2}}}, \"title\": {\"text\": \"\\u8d85\\u7ea7\\u53f7-\\u7814\\u53d1\\u8d28\\u91cf\\u5206\\u6790<br>\\u7248\\u672c: 20200723\\u7248\\u672c\\u3010APP 1.0.5\\u3011<br>BUG\\u7b49\\u7ea7\\u5206\\u7c7b\\uff081\\uff09\\u81f4\\u547d\\uff1a\\uff082\\uff09\\u4e25\\u91cd\\uff1a\\uff083\\uff09\\u4e00\\u822c\\uff1a\\u5fae\\u5c0f\\uff1a\\uff085\\uff09\\u63d0\\u793a\\uff1a\"}},\n",
       "                        {\"responsive\": true}\n",
       "                    ).then(function(){\n",
       "                            \n",
       "var gd = document.getElementById('bf93e4c7-4d9e-4da0-b461-b69e2362f564');\n",
       "var x = new MutationObserver(function (mutations, observer) {{\n",
       "        var display = window.getComputedStyle(gd).display;\n",
       "        if (!display || display === 'none') {{\n",
       "            console.log([gd, 'removed!']);\n",
       "            Plotly.purge(gd);\n",
       "            observer.disconnect();\n",
       "        }}\n",
       "}});\n",
       "\n",
       "// Listen for the removal of the full notebook cells\n",
       "var notebookContainer = gd.closest('#notebook-container');\n",
       "if (notebookContainer) {{\n",
       "    x.observe(notebookContainer, {childList: true});\n",
       "}}\n",
       "\n",
       "// Listen for the clearing of the current output cell\n",
       "var outputEl = gd.closest('.output');\n",
       "if (outputEl) {{\n",
       "    x.observe(outputEl, {childList: true});\n",
       "}}\n",
       "\n",
       "                        })\n",
       "                };\n",
       "                });\n",
       "            </script>\n",
       "        </div>"
      ]
     },
     "metadata": {},
     "output_type": "display_data"
    }
   ],
   "source": [
    "import pandas as pd\n",
    "import numpy  as np\n",
    "import urllib, json\n",
    "import plotly.graph_objects as go\n",
    "\n",
    "\n",
    "# 数据映射方式将名字缩写变更为名字全称\n",
    "full_name = {'创彬':'王创彬','王创彬':'王创彬',\n",
    "            '嘉佳':'吴嘉佳','吴嘉佳':'吴嘉佳',\n",
    "            '计成':'叶计成','叶计成':'叶计成',\n",
    "            '连子':'刘连子','刘连子':'刘连子',\n",
    "            '作伍':'谭作伍','谭作伍':'谭作伍',\n",
    "            '梓杰':'林梓杰','林梓杰':'林梓杰',\n",
    "            '青云':'徐青云','徐青云':'林梓杰',\n",
    "            '宇鹏':'黄宇鹏','黄宇鹏':'林梓杰',\n",
    "            '广琪':'余广琪','余广琪':'林梓杰',\n",
    "            '晓泉':'龙晓泉','龙晓泉':'林梓杰'\n",
    "            }\n",
    "\n",
    "# url = 'https://raw.githubusercontent.com/plotly/plotly.js/master/test/image/mocks/sankey_energy.json'\n",
    "# response = urllib.request.urlopen(url)\n",
    "# data = json.loads(response.read())\n",
    "\n",
    "\n",
    "label_colors = ['rgba(31, 119, 180, 0.8)',\n",
    " 'rgba(255, 127, 14, 0.8)',\n",
    " 'rgba(148, 103, 189, 0.8)',\n",
    " 'rgba(140, 86, 75, 0.8)',\n",
    " 'rgba(227, 119, 194, 0.8)',\n",
    " 'rgba(127, 127, 127, 0.8)',\n",
    " 'rgba(188, 189, 34, 0.8)',\n",
    " 'rgba(23, 190, 207, 0.8)',\n",
    " 'rgba(31, 119, 180, 0.8)',\n",
    " 'rgba(255, 127, 14, 0.8)',\n",
    " 'rgba(148, 103, 189, 0.8)',\n",
    " 'rgba(140, 86, 75, 0.8)',\n",
    " 'rgba(227, 119, 194, 0.8)',\n",
    " 'rgba(127, 127, 127, 0.8)',\n",
    " 'rgba(188, 189, 34, 0.8)',\n",
    " 'rgba(23, 190, 207, 0.8)',\n",
    " 'rgba(31, 119, 180, 0.8)',\n",
    " 'rgba(255, 127, 14, 0.8)',\n",
    " 'rgba(44, 160, 44, 0.8)',\n",
    " 'rgba(140, 86, 75, 0.8)',\n",
    " 'rgba(227, 119, 194, 0.8)',\n",
    " 'rgba(127, 127, 127, 0.8)',\n",
    " 'rgba(188, 189, 34, 0.8)'] \n",
    "\n",
    "# label_colors = ['rgba(31, 119, 180, 0.8)',\n",
    "#  'rgba(255, 127, 14, 0.8)',\n",
    "#  'rgba(214, 39, 40, 0.8)',\n",
    "#  'rgba(44, 160, 44, 0.8)',\n",
    "#  'rgba(148, 103, 189, 0.8)',\n",
    "#  'rgba(140, 86, 75, 0.8)',\n",
    "#  'rgba(227, 119, 194, 0.8)',\n",
    "#  'rgba(127, 127, 127, 0.8)',\n",
    "#  'rgba(188, 189, 34, 0.8)',\n",
    "#  'rgba(23, 190, 207, 0.8)',\n",
    "#  'rgba(31, 119, 180, 0.8)',\n",
    "#  'rgba(255, 127, 14, 0.8)',\n",
    "#  'rgba(214, 39, 40, 0.8)',\n",
    "#  'rgba(44, 160, 44, 0.8)',\n",
    "#  'rgba(148, 103, 189, 0.8)',\n",
    "#  'rgba(140, 86, 75, 0.8)',\n",
    "#  'rgba(227, 119, 194, 0.8)',\n",
    "#  'rgba(127, 127, 127, 0.8)',\n",
    "#  'rgba(188, 189, 34, 0.8)',\n",
    "#  'rgba(23, 190, 207, 0.8)',\n",
    "#  'rgba(31, 119, 180, 0.8)',\n",
    "#  'rgba(255, 127, 14, 0.8)',\n",
    "#  'rgba(44, 160, 44, 0.8)',\n",
    "#  'rgba(140, 86, 75, 0.8)',\n",
    "#  'rgba(214, 39, 40, 0.8)',\n",
    "#  'rgba(148, 103, 189, 0.8)',\n",
    "#  'rgba(227, 119, 194, 0.8)',\n",
    "#  'rgba(127, 127, 127, 0.8)',\n",
    "#  'rgba(188, 189, 34, 0.8)'] \n",
    "\n",
    "bug_level_map = {'1级':'【BUG等级】致命','2级':'【BUG等级】严重','3级':'【BUG等级】一般','4级':'【BUG等级】微小','5级':'【BUG等级】提示'}\n",
    "\n",
    "pd.set_option('display.max_rows', None)\n",
    "\n",
    "# \n",
    "# 流水线任务分配信息\n",
    "# \n",
    "works=pd.read_html(\"../missions\", encoding='utf8')\n",
    "works[1].drop('Unnamed: 0', axis=1).set_index(['需求ID'])\n",
    "dd=works[1].drop('Unnamed: 0',axis=1)\n",
    "# 按需求ID聚合\n",
    "missions=dd.sort_values(by='需求ID')[['需求ID','需求名称','开发人员']]\n",
    "missions['NUM'] = 1\n",
    "\n",
    "label = missions[['需求ID','开发人员','NUM','需求名称']]\n",
    "grouped = label['NUM'].groupby([label['需求ID'],label['开发人员']])\n",
    "statics = dict(grouped.size())\n",
    "\n",
    "data = [(key1,key2, statics[(key1,key2)]) for (key1,key2) in statics.keys() ]\n",
    "\n",
    "tm = missions[['需求ID','需求名称']]\n",
    "req_map = {}\n",
    "for i in tm.index:\n",
    "    req_map[tm.iloc[i,0]] = tm.iloc[i,1].split(\"\\\"\")[0] + '...'\n",
    "\n",
    "    \n",
    "#         \n",
    "# BUG 列表信息\n",
    "# \n",
    "\n",
    "bug_list = pd.read_csv('../超级号APP问题收集列表.csv')\n",
    "bug_list[bug_list['需求池ID'].isnull()]\n",
    "tmp_bug = bug_list[~bug_list['维修人员'].isnull()][['维修人员','BUG等级']]\n",
    "\n",
    "\n",
    "\n",
    "stat_bug = dict(tmp_bug['BUG等级'].groupby([tmp_bug['维修人员'],tmp_bug['BUG等级']]).size())\n",
    "data_bug = [(i,j,stat_bug[(i,j)]) for (i,j) in stat_bug.keys()]        \n",
    "\n",
    "lable = []\n",
    "x = []\n",
    "y = list(np.arange(24)/100)\n",
    "\n",
    "position = (0,0.5,0.9)\n",
    "\n",
    "for (key1, key2) in statics.keys():\n",
    "    if key1 not in lable:\n",
    "        lable.append(key1)\n",
    "        x.append(position[0])\n",
    "    if key2 not in lable:\n",
    "        lable.append(key2)\n",
    "        x.append(position[1])\n",
    "\n",
    "for (_,key2) in stat_bug:\n",
    "    if key2 not in lable:\n",
    "        lable.append(bug_level_map[key2])\n",
    "        x.append(position[2])\n",
    "\n",
    "# lable = tuple(lable)\n",
    "# pilot    \n",
    "# 映射对应关系列表\n",
    "# \n",
    "\n",
    "sources = []\n",
    "targets = []\n",
    "values  = []\n",
    "\n",
    "for (i,j,k) in data:\n",
    "    sources.append(lable.index(i))\n",
    "    targets.append(lable.index(j))\n",
    "    values.append(k)\n",
    "\n",
    "for (i,j,k) in data_bug:\n",
    "    sources.append(lable.index(i))\n",
    "    idx = bug_level_map[j]\n",
    "    targets.append(lable.index(idx))\n",
    "#     targets.append(lable.index(j))\n",
    "    values.append(k)\n",
    "\n",
    "\n",
    "# t = len(sources)\n",
    "for i in lable:\n",
    "    if type(i) == int:\n",
    "        lable[lable.index(i)] = req_map[i]\n",
    "\n",
    "color = link_colors[0:41] \n",
    "# colors[0:41]\n",
    "\n",
    "fig = go.Figure(data=[go.Sankey(\n",
    "    valueformat = \"\",\n",
    "    arrangement = \"snap\",\n",
    "    valuesuffix = \"【开发任务数】\",\n",
    "    node = dict(\n",
    "      pad = 15,\n",
    "      thickness = 15,    \n",
    "      line = dict(color = 'gray', width = 0.5),\n",
    "      label =  lable,\n",
    "      x=x,\n",
    "      y=y,\n",
    "      color =  colors\n",
    "    ),\n",
    "    link = dict(\n",
    "      source =  sources,\n",
    "      target =  targets,\n",
    "      value =  values,\n",
    "      color = link_colors\n",
    "#       label =  data['data'][0]['link']['label']\n",
    "  ))])\n",
    "\n",
    "fig.update_layout(\n",
    "    hovermode = 'x',\n",
    "    title=\"超级号-研发质量分析<br>版本: 20200723版本【APP 1.0.5】<br>BUG等级分类（1）致命：（2）严重：（3）一般：微小：（5）提示：\",\n",
    "    font=dict(size =10, color = 'white'),\n",
    "    plot_bgcolor='black',\n",
    "    paper_bgcolor='black'\n",
    ")\n",
    "\n",
    "fig.show()\n",
    "fig.write_html('/Users/dengjiaying/Project/gitee/Statics/SIMAPP/SIM20200723版本.html')"
   ]
  }
 ],
 "metadata": {
  "kernelspec": {
   "display_name": "Python 3",
   "language": "python",
   "name": "python3"
  },
  "language_info": {
   "codemirror_mode": {
    "name": "ipython",
    "version": 3
   },
   "file_extension": ".py",
   "mimetype": "text/x-python",
   "name": "python",
   "nbconvert_exporter": "python",
   "pygments_lexer": "ipython3",
   "version": "3.7.6"
  }
 },
 "nbformat": 4,
 "nbformat_minor": 4
}
