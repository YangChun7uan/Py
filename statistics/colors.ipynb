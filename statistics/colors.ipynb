{
 "cells": [
  {
   "cell_type": "markdown",
   "metadata": {},
   "source": [
    "# Manage Colors in tuple\n",
    "> * 使用 matplotlib 显示 RGB 颜色效果\n",
    "> * 使用具名元祖存储RGB值"
   ]
  },
  {
   "cell_type": "code",
   "execution_count": 261,
   "metadata": {},
   "outputs": [],
   "source": [
    "import pandas as pd\n",
    "import matplotlib.pyplot as pt\n",
    "import collections\n",
    "import shelve\n",
    "from functools import singledispatch\n",
    "\n",
    "pd.set_option('display.max_rows', None)\n",
    "\n",
    "\n",
    "DB_NAME     = 'data/rgb_db'\n",
    "LOCAL_ARGB  = 'data/argb.html'\n",
    "# def myshow(color, alpha=None):                       \n",
    "#     pt.imshow([[color]],alpha=alpha)\n",
    "\n",
    "rgbfmt = lambda x: tuple([int(i) for i in x.split(',')])\n",
    "\n",
    "MYCOLOR = collections.namedtuple(\"MYCOLOR\", 'en,zh,dex,rgb')\n",
    "\n",
    "result = pd.read_html(LOCAL_ARGB, header=0, thousands=None, encoding='utf8',converters={'RGB':str})[0]\n",
    "\n",
    "result['RGB'] = result['RGB'].map(rgbfmt)\n",
    "\n",
    "col_gen = (MYCOLOR(en,zh,dex,rgb) for en,zh,dex,rgb in result[['英文代码','形象描述','十六进制','RGB']].iloc)\n",
    "\n",
    "db = shelve.open(DB_NAME)\n",
    "\n",
    "if 'Red' not in db:\n",
    "    with shelve.open(DB_NAME) as db:\n",
    "        for i,*other in col_gen:\n",
    "             db[i] = other"
   ]
  },
  {
   "cell_type": "markdown",
   "metadata": {},
   "source": [
    "## 装饰器-单分配泛函数\n",
    "> 根据参数的类型选择不同的颜色执行方法"
   ]
  },
  {
   "cell_type": "code",
   "execution_count": 256,
   "metadata": {},
   "outputs": [],
   "source": [
    "@singledispatch\n",
    "def myshow(tuple):\n",
    "    pt.imshow([[tuple]])\n",
    "\n",
    "@myshow.register(str)\n",
    "def _ (color):\n",
    "    color = color.capitalize()\n",
    "    with shelve.open(DB_NAME) as db:\n",
    "        if color in db:\n",
    "            co = db[color][2]\n",
    "            pt.imshow([[co]])\n"
   ]
  },
  {
   "cell_type": "markdown",
   "metadata": {},
   "source": [
    "> 将 jupyter notebook 的ipynb 转为 python 文件，便于作为modlue供其他文件import"
   ]
  },
  {
   "cell_type": "code",
   "execution_count": 277,
   "metadata": {},
   "outputs": [
    {
     "name": "stdout",
     "output_type": "stream",
     "text": [
      "[NbConvertApp] Converting notebook colors.ipynb to python\n",
      "[NbConvertApp] Writing 1516 bytes to colors.py\n"
     ]
    }
   ],
   "source": [
    "if __name__ == '__main__':\n",
    "    try:    \n",
    "        !jupyter nbconvert --to python colors.ipynb\n",
    "        # python即转化为.py，script即转化为.html\n",
    "        # file_name.ipynb即当前module的文件名\n",
    "    except:\n",
    "        pass\n"
   ]
  }
 ],
 "metadata": {
  "kernelspec": {
   "display_name": "Python 3",
   "language": "python",
   "name": "python3"
  },
  "language_info": {
   "codemirror_mode": {
    "name": "ipython",
    "version": 3
   },
   "file_extension": ".py",
   "mimetype": "text/x-python",
   "name": "python",
   "nbconvert_exporter": "python",
   "pygments_lexer": "ipython3",
   "version": "3.7.7"
  }
 },
 "nbformat": 4,
 "nbformat_minor": 4
}
