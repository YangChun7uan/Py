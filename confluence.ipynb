{
 "cells": [
  {
   "cell_type": "code",
   "execution_count": null,
   "metadata": {},
   "outputs": [],
   "source": [
    "import requests\n",
    "\n",
    "cookies={}\n",
    "f=open(r\"cookies\",'r')\n",
    "for line in f.read().split(\";\"):\n",
    "    name,value = line.strip().split(\"=\",1)\n",
    "    cookies[name]=value\n",
    "    \n",
    "print(cookies)\n"
   ]
  },
  {
   "cell_type": "code",
   "execution_count": null,
   "metadata": {},
   "outputs": [],
   "source": [
    "from lxml import etree\n",
    "f = open(r\"simapp-cooperation\",'r')\n",
    "text = f.read()\n",
    "html = etree.HTML(text)\n",
    "# result = etree.tostring(html);\n",
    "# print(result.decode('utf-8'))\n",
    "#tds = html.xpath('//tr/td')\n",
    "# tds = html.xpath('//div[@class=\"table-wrap\"]//tr[@role=\"row\"]/td/p[1]/text()')\n",
    "tds = html.xpath('//tbody/tr/text()')\n",
    "# tds\n",
    "# len(tds)\n",
    "# xpath 获取元素列表\n",
    "# html.xpath('//tr/td')"
   ]
  },
  {
   "cell_type": "code",
   "execution_count": null,
   "metadata": {},
   "outputs": [],
   "source": [
    "from lxml import etree\n",
    "root = etree.Element(\"html\")\n",
    "td = etree.SubElement(root, \"td\")\n"
   ]
  },
  {
   "cell_type": "code",
   "execution_count": null,
   "metadata": {},
   "outputs": [],
   "source": [
    "\n",
    "\n",
    "\n",
    "tds = html.xpath('//div[@class=\"table-wrap\"]//tr[@role=\"row\"]')\n",
    "tds[0]\n",
    "\n"
   ]
  },
  {
   "cell_type": "code",
   "execution_count": null,
   "metadata": {},
   "outputs": [],
   "source": [
    "# xpath 获取特殊属性的元素列表\n",
    "\n",
    "tds = html.xpath('//td[@class=\"confluenceTd\"]/text()')\n",
    "tds[0]"
   ]
  },
  {
   "cell_type": "code",
   "execution_count": null,
   "metadata": {},
   "outputs": [],
   "source": [
    "tds = html.xpath('//div[@class=\"table-wrap\"]//tr[@role=\"row\"]/td/child::p/text()')\n",
    "# len(tds)\n",
    "tds??"
   ]
  },
  {
   "cell_type": "code",
   "execution_count": null,
   "metadata": {},
   "outputs": [],
   "source": [
    " html.xpath('//div[@class=\"table-wrap\"]//tr[@role=\"row\"][2]/descendant::*/text()')"
   ]
  },
  {
   "cell_type": "code",
   "execution_count": null,
   "metadata": {},
   "outputs": [],
   "source": [
    "tds=html.xpath('//div[@class=\"table-wrap\"]//tr[@role=\"row\"]/descendant::*')\n",
    "tds[0].values()"
   ]
  },
  {
   "cell_type": "code",
   "execution_count": null,
   "metadata": {},
   "outputs": [],
   "source": [
    "# tds = html.xpath('//div[@class=\"table-wrap\"]//tr[@role=\"row\"]/td/p/text()')\n",
    "tds = html.xpath('//tbody//tr[@role=\"row\"]')\n",
    "\n",
    "len(tds[9])\n",
    "# tds"
   ]
  },
  {
   "cell_type": "code",
   "execution_count": null,
   "metadata": {},
   "outputs": [],
   "source": [
    "a=range(1,11)\n",
    "list(a)"
   ]
  },
  {
   "cell_type": "code",
   "execution_count": null,
   "metadata": {},
   "outputs": [],
   "source": [
    "# tds = html.xpath('//div[@class=\"table-wrap\"]//tr[@role=\"row\"]/td')\n",
    "tds = html.xpath('//tbody//tr[@role=\"row\"]')\n",
    "# tds[0].xpath('//p/text()')\n",
    "len(tds)\n",
    "# tds.itertext(tag=\"p\")\n",
    "# index = 0\n",
    "# for td in tds:\n",
    "#     for v in td.itersiblings():\n",
    "# #         print(len(v.getchildren()))\n",
    "#         for d in v.getchildren():\n",
    "#             if(d.text == None and len(d.getchildren()) != 0):\n",
    "#                 des = \"\"\n",
    "#                 for dl in d.getchildren():\n",
    "#                     if(dl.text != None):\n",
    "#                         des = des + \"\\n\" + dl.text\n",
    "#                 print(des)\n",
    "#                 continue\n",
    "#             print(d.text)\n",
    "#         # tds"
   ]
  },
  {
   "cell_type": "code",
   "execution_count": null,
   "metadata": {},
   "outputs": [],
   "source": [
    "# tds = html.xpath('//div[@class=\"table-wrap\"]//tr[@role=\"row\"]/td')\n",
    "tds = html.xpath('//tbody//tr[@role=\"row\"]')\n",
    "# tds[0].xpath('//p/text()')\n",
    "len(tds)\n",
    "# print(tds[0].getchildren()[0].text)\n",
    "# tds.itertext(tag=\"p\")\n",
    "for td in tds:\n",
    "#     id = 0\n",
    "    tdd = td.getchildren()\n",
    "    for v in tdd:\n",
    "        for t in v.iter(tag=\"{}p\"):\n",
    "#             print(t.text)\n",
    "#             print(t.tag)\n",
    "#         id +=1 \n",
    "#         print(id)\n",
    "#         if(v.text == None and v.getiterator(tag=\"p\")):\n",
    "#             des = \"N\\n\"\n",
    "#             for d in v.getchildren():\n",
    "#                 if(d.text != None):\n",
    "#                     des =\"Y\" + des + \"\\n\" + d.text\n",
    "#             print(des)\n",
    "#             continue\n",
    "#         print(v.text ) \n",
    "        # tds\n"
   ]
  },
  {
   "cell_type": "code",
   "execution_count": null,
   "metadata": {},
   "outputs": [],
   "source": [
    "import pandas as pd\n",
    "import sys\n",
    "# reload(sys)\n",
    "# sys.setdefaultencoding(\"utf-8\")\n",
    "\n",
    "# tables=pd.read_html('html',encoding='uft8')\n",
    "# he=list(range(1,1000000000))\n",
    "headers=[\"NO\",\"MODEL\",\"DES\",\"PROT\", \"LEVEL\",\"WHO\", \"TIME\",\"NATIVE/RN\",\"FIXTIME\",\"STATUS\"]\n",
    "# tables=pd.read_html('html',encoding=\"utf8\",header=he)\n",
    "tables=pd.read_html('test_html',encoding=\"utf8\")\n",
    "# tables[0].head()\n",
    "# tables[0].to_csv(\"test\")\n",
    "\n",
    "# len(tables)\n",
    "# tables.to_csv(\"output\")\n",
    "tables[0].index\n"
   ]
  },
  {
   "cell_type": "code",
   "execution_count": null,
   "metadata": {},
   "outputs": [],
   "source": [
    "tables[0].iloc[0,7] = 'RN'\n",
    "tmp = dict(tables[0].iloc[0])\n",
    "tmp['原生/RN'] = 'Native'\n",
    "tmp\n",
    "tables[0].iloc[0] = pd.Series(tmp)\n",
    "tables[0].head()\n"
   ]
  },
  {
   "cell_type": "code",
   "execution_count": null,
   "metadata": {},
   "outputs": [],
   "source": [
    "import pandas as pd\n",
    "import sys\n",
    "# reload(sys)\n",
    "# sys.setdefaultencoding(\"utf-8\")\n",
    "\n",
    "# tables=pd.read_html('html',encoding='uft8')\n",
    "# he=list(range(1,1000000000))\n",
    "headers=[\"NO\",\"MODEL\",\"DES\",\"PROT\", \"LEVEL\",\"WHO\", \"TIME\",\"NATIVE/RN\",\"FIXTIME\",\"STATUS\"]\n",
    "# tables=pd.read_html('html',encoding=\"utf8\",header=he)\n",
    "tables=pd.read_html('test_html',encoding=\"utf8\")\n",
    "# tables[0].head()\n",
    "# tables[0].to_csv(\"test\")\n",
    "\n",
    "# len(tables)\n",
    "# tables.to_csv(\"output\")\n",
    "tables[0].columns"
   ]
  },
  {
   "cell_type": "code",
   "execution_count": null,
   "metadata": {},
   "outputs": [],
   "source": [
    "# 利用 pandas 直接解析html中的table\n",
    "\n",
    "import pandas as pd\n",
    "import numpy  as np\n",
    "from lxml import etree\n",
    "\n",
    "pd.set_option('display.max_rows', None)\n",
    "# f = open(r\"missions\",'r')\n",
    "# text = f.read()\n",
    "# html = etree.HTML(text)\n",
    "works=pd.read_html(\"missions\", encoding='utf8')\n",
    "# len(works)\n",
    "\n",
    "works[1].drop('Unnamed: 0', axis=1).set_index(['需求ID'])\n",
    "dd=works[1].drop('Unnamed: 0',axis=1)\n",
    "# dd.to_csv('20200724MiSSION.csv', index=False)\n",
    "\n",
    "# works[1].columns\n",
    "# works[1].head()\n",
    "dd.head()\n",
    "# missions=dd.sort_values(by='需求ID').set_index(['需求ID','需求名称'])\n",
    "# missions"
   ]
  },
  {
   "cell_type": "code",
   "execution_count": null,
   "metadata": {},
   "outputs": [],
   "source": [
    "# missions=pd.read_csv('missions',skiprows=[0])\n",
    "missions=dd.sort_values(by='需求ID')[['需求ID','需求名称','开发人员']]\n",
    "# missions.set_index(['需求ID','需求名称'])\n",
    "# missions.swaplevel('需求ID')\n",
    "# missions.set_index(['需求ID','需求名称'])\n",
    "# \n",
    "missions\n",
    "# 按需求ID聚合\n",
    "# missions.sort_values(by='需求ID')[['需求ID','需求名称','开发人员']]\n",
    "# missions['NUM']=1\n",
    "# .set_index(['需求ID','需求名称']).head()\n",
    "# missions.sort_values(by='需求ID').reindex(['需求ID','开发人员'],axis=1)\n",
    "# label = missions.sort_values(by='需求ID').set_index(['需求ID','开发人员','NUM'])\n",
    "# .sum(level='开发人员')\n",
    "# label.sum(level='开发人员')\n",
    "# label=label[['需求名称']]\n",
    "# label['612']\n",
    "\n",
    "# index 分层索引名称\n",
    "# label.index.names=['REID','MEMID','NUM']\n",
    "# label.unstack()\n",
    "# label['NUM'].groupby([label['REID'], label['MEMID']])\n",
    "# # label.sum(level='NUM')\n",
    "\n",
    "\n",
    "label = missions[['需求ID','开发人员','NUM','需求名称']]\n",
    "grouped = label['NUM'].groupby([label['需求ID'],label['开发人员']])\n",
    "statics = dict(grouped.size())\n",
    "source = []\n",
    "target = []\n",
    "values = []\n",
    "members_dic={'叶计成':0,'刘连子':1,'林梓杰':2,'莫南':3,'余广琪':4,'王创彬':5,'吴嘉佳':6,'谭作伍':7,'黄宇鹏':8,'徐青云':9,'龙晓泉':10}\n",
    "\n",
    "base = 11\n",
    "# for i,j in statics.keys():\n",
    "#     source.append(i)\n",
    "#     target.append(members_dic[j] + 11)\n",
    "#     values.append(statics[(i,j)])    \n",
    "\n",
    "# source.key()\n",
    "    \n",
    "# statics\n",
    "\n",
    "\n",
    "data = [(key1,key2, statics[(key1,key2)]) for (key1,key2) in statics.keys() ]\n",
    "# tuple([key1 for (key1,x) in statics.keys])\n",
    "re_list = []\n",
    "mem_list = []\n",
    "\n",
    "# TODO 优化代码结构\n",
    "\n",
    "for (key1, key2) in statics.keys():\n",
    "    if key1 not in re_list:\n",
    "        re_list.append(key1)\n",
    "    if key2 not in mem_list:\n",
    "        mem_list.append(key2)\n",
    "\n",
    "lable = []\n",
    "for (key1, key2) in statics.keys():\n",
    "    if key1 not in lable:\n",
    "        lable.append(key1)\n",
    "    if key2 not in lable:\n",
    "        lable.append(key2)\n",
    "\n",
    "# 映射对应关系列表\n",
    "sources = []\n",
    "targets = []\n",
    "values  = []\n",
    "for (i,j,k) in data:\n",
    "    sources.append(lable.index(i))\n",
    "    targets.append(lable.index(j))\n",
    "    values.append(k)\n",
    "\n",
    "\n"
   ]
  },
  {
   "cell_type": "code",
   "execution_count": null,
   "metadata": {},
   "outputs": [],
   "source": [
    "len(values)\n",
    "len(data)"
   ]
  },
  {
   "cell_type": "code",
   "execution_count": null,
   "metadata": {},
   "outputs": [],
   "source": [
    "grouped.size()"
   ]
  },
  {
   "cell_type": "code",
   "execution_count": null,
   "metadata": {},
   "outputs": [],
   "source": [
    "target"
   ]
  },
  {
   "cell_type": "code",
   "execution_count": null,
   "metadata": {},
   "outputs": [],
   "source": [
    "values"
   ]
  },
  {
   "cell_type": "code",
   "execution_count": null,
   "metadata": {},
   "outputs": [],
   "source": []
  },
  {
   "cell_type": "code",
   "execution_count": null,
   "metadata": {},
   "outputs": [],
   "source": [
    "label['NUM']=1\n",
    "label.set_index(['NUM'])\n",
    "# label.apply(pd.value_counts)"
   ]
  },
  {
   "cell_type": "code",
   "execution_count": null,
   "metadata": {},
   "outputs": [],
   "source": []
  },
  {
   "cell_type": "code",
   "execution_count": null,
   "metadata": {},
   "outputs": [],
   "source": [
    "# 研发任务分配表操作\n",
    "wk_index=['需求ID','需求名称','子任务概述','开发人员','测试人员','预计提测时间', '上线时间']\n",
    "works[1][wk_index].to_csv('20200724研发任务分配', index=False)"
   ]
  },
  {
   "cell_type": "code",
   "execution_count": null,
   "metadata": {},
   "outputs": [],
   "source": [
    "# pr=pd.read_csv(\"需求状态表.csv\")\n",
    "import pandas as pd\n",
    "import numpy as np\n",
    "pr=pd.read_csv(\"missions.csv\")\n",
    "# pr.head()\n",
    "# pr['需求ID']=\n",
    "# pr.set_index(['会议时间',\"需求描述\"])\n",
    "# pr.columns\n",
    "# pr=pr.rename(columns={'Unnamed: 1':'流水线需求ID'})\n",
    "pr.columns\n",
    "# pr[['流水线需求ID']]=pr[['流水线需求ID']].astype(object)\n",
    "# pr.set_index(['会议时间',\"需求描述\"])\n",
    "# pr.iloc[['2020/6/11','消息管理优化']]\n",
    "# pr.replace(np.nan, '', inplace=True)\n",
    "# pr.iloc[31,1] = 760\n",
    "# pr.to_csv(\"需求状态表.csv\", index=False)\n",
    "# pr.set_index('流水线需求ID')\n",
    "# pr.drop('Unnamed: 0',axis=1).to_csv(\"需求状态表.csv\", index=False)\n",
    "# pr.drop(56,axis=0).to_csv(\"需求状态表.csv\", index=False)\n",
    "# end=len(pr) \n",
    "# pr\n",
    "# id=np.arange(38, end)\n",
    "# pr.drop(id)\n",
    "# len(pr)\n",
    "# pr.set_index(['会议时间',\"需求描述\"])\n",
    "\n",
    "# end"
   ]
  },
  {
   "cell_type": "code",
   "execution_count": null,
   "metadata": {},
   "outputs": [],
   "source": [
    "\n",
    "\n",
    "#Confluence详细需求录入\n",
    "\n",
    "#性能优化功能\n",
    "pr_profile = pd.read_html('pr_profile',encoding='utf8')\n",
    "# pr_profile[0].columns\n",
    "profile_df=pr_profile[0]\n",
    "end = len(profile_df)\n",
    "id=np.arange(38, end)\n",
    "profile_df.drop(id).to_csv('pr_profile',index=False)\n",
    "# profile_df"
   ]
  },
  {
   "cell_type": "code",
   "execution_count": null,
   "metadata": {},
   "outputs": [],
   "source": [
    "# 研发人员编号\n",
    "\n",
    "# 连子1、梓杰2、计成3、创彬4、嘉佳5、作伍6、莫南a、广琪b、宇鹏c\n",
    "ITer='连子1、梓杰2、计成3、创彬4、嘉佳5、作伍6、莫南a、广琪b、宇鹏c'\n",
    "# {ITer.split('、')}\n",
    "info={}\n",
    "for t in ITer.split('、'):\n",
    "    info[t[-1]]=t[:-1]\n",
    "    \n",
    "it_mission = pd.read_csv('SIM-APP-missionlist/功能优化.csv',skiprows=2)#, index_col='序号')\n",
    "it_mission= it_mission.rename(columns={'Unnamed: 2':'备注'})\n",
    "\n",
    "it_mission= it_mission.rename(columns={'研发人员':'研发人员ID'})\n",
    "\n",
    "it_mission.drop(['Unnamed: 3','Unnamed: 4'], axis=1, inplace=True)\n",
    "ID=it_mission.index\n",
    "it_mission\n",
    "it_mission['研发人员']=it_mission['研发人员ID'].map(info)\n",
    "# it_mission.info()\n",
    "# ry=it_mission['研发人员']\n",
    "# ry.map(info)\n",
    "# # ITdic\n",
    "it_mission['备注'].replace(np.nan,'已排期', inplace=True)\n",
    "tmp=it_mission.iloc[11,1]\n",
    "# info[tmp]\n",
    "it_mission.iloc[11,3]=info[tmp[-1]] + \" \"+ info[tmp[0]]\n",
    "info[tmp[-1]] + \" \"+ info[tmp[0]]\n",
    "# + info[it_mission.iloc(11,1)[:-1]]\n",
    "\n",
    "tmp=it_mission.iloc[36,1]\n",
    "# info[tmp]\n",
    "it_mission.iloc[36,3]=info[tmp[-1]] + \" \"+ info[tmp[0]]\n",
    "info[tmp[-1]] + \" \"+ info[tmp[0]]\n",
    "it_mission.drop(['研发人员ID'],axis=1).to_csv('20200724-功能优化排期',index=False)\n",
    "it_mission\n",
    "# "
   ]
  },
  {
   "cell_type": "code",
   "execution_count": null,
   "metadata": {},
   "outputs": [],
   "source": [
    "# 研发人员编号\n",
    "\n",
    "# 连子1、梓杰2、计成3、创彬4、嘉佳5、作伍6、莫南a、广琪b、宇鹏c\n",
    "ITer='连子1、梓杰2、计成3、创彬4、嘉佳5、作伍6、莫南a、广琪b、宇鹏c'\n",
    "# {ITer.split('、')}\n",
    "info={}\n",
    "for t in ITer.split('、'):\n",
    "    info[t[-1]]=t[:-1]\n",
    "\n",
    "\n",
    "\n",
    "it_promission = pd.read_csv('SIM-APP-missionlist/性能优化.csv',skiprows=1, header=None)#, index_col='序号')\n",
    "it_promission[0]=it_promission[0].astype(object)\n",
    "end=len(it_promission)\n",
    "id=np.arange(6, end)\n",
    "it_promission.drop(id, inplace=True)\n",
    "# it_promission.drop()\n",
    "it_promission= it_promission.rename(columns={0:'序号'})\n",
    "\n",
    "it_promission= it_promission.rename(columns={2:'备注'})\n",
    "\n",
    "it_promission= it_promission.rename(columns={1:'研发人员ID'})\n",
    "\n",
    "# it_promission.drop([3,4], axis=1, inplace=True)\n",
    "it_promission\n",
    "# ID=it_promission.index\n",
    "# it_promission\n",
    "it_promission['研发人员']=it_promission['研发人员ID'].map(info)\n",
    "# # it_mission.info()\n",
    "# ry=it_promission['研发人员ID']\n",
    "# ry.map(info)\n",
    "it_promission\n",
    "# # # ITdic\n",
    "# it_promission['备注'].replace(np.nan,'已排期', inplace=True)\n",
    "# tmp=it_promission.iloc[11,1]\n",
    "# # info[tmp]\n",
    "# it_promission.iloc[11,3]=info[tmp[-1]] + \" \"+ info[tmp[0]]\n",
    "# info[tmp[-1]] + \" \"+ info[tmp[0]]\n",
    "# # + info[it_mission.iloc(11,1)[:-1]]\n",
    "\n",
    "tmp=it_promission.iloc[0,1].split('、')\n",
    "tmp\n",
    "# it_promission\n",
    "# info[tmp]\n",
    "it_promission.iloc[0,5]=info[tmp[-1]] + \" \"+ info[tmp[0]]\n",
    "# info[tmp[-1]] + \" \"+ info[tmp[0]]\n",
    "# it_promission.drop(['研发人员ID'],axis=1).to_csv('20200724-性能优化排期',index=False)\n",
    "columns=['序号','研发人员','备注']\n",
    "it_promission.to_csv('20200724-性能优化排期',index=False,columns=columns)\n",
    "# it_promission.drop(['研发人员ID',3,4],axis=1).to_csv('20200724-性能优化排期',index=False)\n"
   ]
  },
  {
   "cell_type": "code",
   "execution_count": null,
   "metadata": {},
   "outputs": [],
   "source": [
    "# 石墨表格稳定load\n",
    "import urllib\n",
    "bug_list = pd.read_csv('simappbugs/3rdVersion.csv')\n",
    "bug_list[bug_list['编号'].isnull()]\n",
    "tmp = bug_list[~bug_list['维修人员'].isnull()][['维修人员','优先级']]\n",
    "# tmp['研发人员'] = tmp['维修人员']=='创彬'\n",
    "\n",
    "# 数据映射方式将名字缩写变更为名字全称\n",
    "full_name = {'创彬':'王创彬','王创彬':'王创彬',\n",
    "            '嘉佳':'吴嘉佳','吴嘉佳':'吴嘉佳',\n",
    "            '计成':'叶计成','叶计成':'叶计成',\n",
    "            '连子':'刘连子','刘连子':'刘连子',\n",
    "            '作伍':'谭作伍','谭作伍':'谭作伍',\n",
    "            '梓杰':'林梓杰','林梓杰':'林梓杰',\n",
    "            '青云':'徐青云','徐青云':'林梓杰',\n",
    "            '宇鹏':'黄宇鹏','黄宇鹏':'林梓杰',\n",
    "            '广琪':'余广琪','余广琪':'林梓杰',\n",
    "            '晓泉':'龙晓泉','龙晓泉':'林梓杰'\n",
    "            }\n",
    "\n",
    "tmp['维修人员'] = tmp['维修人员'].map(full_name).replace(np.nan,'一般')\n",
    "tmp.replace(np.nan, '一般', inplace=True)\n",
    "tmp.replace(' ','一般',inplace=True)\n",
    "tmp = tmp.drop(38)\n",
    "stat = tmp['优先级'].groupby([tmp['维修人员'],tmp['优先级']])\n",
    "t=dict(stat.size())\n",
    "data = [(i,j,t[(i,j)]) for (i,j) in t.keys()]\n",
    "\n",
    "\n",
    "mem_bug = []\n",
    "level_bug = []\n",
    "level_value = []\n",
    "\n",
    "for i,j,k in data:\n",
    "    "
   ]
  },
  {
   "cell_type": "code",
   "execution_count": 280,
   "metadata": {},
   "outputs": [
    {
     "data": {
      "text/plain": [
       "{('刘连子', '一般'): 1,\n",
       " ('刘连子', '最重要'): 6,\n",
       " ('叶计成', '一般'): 1,\n",
       " ('叶计成', '最重要'): 1,\n",
       " ('吴嘉佳', '不紧急'): 1,\n",
       " ('吴嘉佳', '最重要'): 3,\n",
       " ('徐青云', '最重要'): 1,\n",
       " ('林梓杰', '一般'): 2,\n",
       " ('林梓杰', '最重要'): 7,\n",
       " ('王创彬', '最重要'): 5,\n",
       " ('谭作伍', '一般'): 1,\n",
       " ('谭作伍', '最重要'): 5}"
      ]
     },
     "execution_count": 280,
     "metadata": {},
     "output_type": "execute_result"
    }
   ],
   "source": [
    "t"
   ]
  },
  {
   "cell_type": "code",
   "execution_count": null,
   "metadata": {},
   "outputs": [],
   "source": []
  },
  {
   "cell_type": "code",
   "execution_count": null,
   "metadata": {},
   "outputs": [],
   "source": []
  }
 ],
 "metadata": {
  "kernelspec": {
   "display_name": "Python 3",
   "language": "python",
   "name": "python3"
  },
  "language_info": {
   "codemirror_mode": {
    "name": "ipython",
    "version": 3
   },
   "file_extension": ".py",
   "mimetype": "text/x-python",
   "name": "python",
   "nbconvert_exporter": "python",
   "pygments_lexer": "ipython3",
   "version": "3.7.6"
  }
 },
 "nbformat": 4,
 "nbformat_minor": 4
}
