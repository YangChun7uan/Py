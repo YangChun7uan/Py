{
 "cells": [
  {
   "cell_type": "code",
   "execution_count": 9,
   "metadata": {},
   "outputs": [
    {
     "name": "stdout",
     "output_type": "stream",
     "text": [
      "{'JSESSIONID': '283B967CDEF8EF114E12A363B4B75136', 'MOD_AUTH_CAS': 'a799a572c7d1ae79978b2a1e76cf373b', 'COOKIE_SUPPORT': 'true', 'GUEST_LANGUAGE_ID': 'zh_CN'}\n"
     ]
    }
   ],
   "source": [
    "import requests\n",
    "\n",
    "cookies={}\n",
    "f=open(r\"cookies\",'r')\n",
    "for line in f.read().split(\";\"):\n",
    "    name,value = line.strip().split(\"=\",1)\n",
    "    cookies[name]=value\n",
    "    \n",
    "print(cookies)\n"
   ]
  },
  {
   "cell_type": "code",
   "execution_count": 41,
   "metadata": {},
   "outputs": [],
   "source": [
    "from lxml import etree\n",
    "f = open(r\"simapp-cooperation\",'r')\n",
    "text = f.read()\n",
    "html = etree.HTML(text)\n",
    "# result = etree.tostring(html);\n",
    "# print(result.decode('utf-8'))\n",
    "#tds = html.xpath('//tr/td')\n",
    "# tds = html.xpath('//div[@class=\"table-wrap\"]//tr[@role=\"row\"]/td/p[1]/text()')\n",
    "tds = html.xpath('//tbody/tr/text()')\n",
    "# tds\n",
    "# len(tds)\n",
    "# xpath 获取元素列表\n",
    "# html.xpath('//tr/td')"
   ]
  },
  {
   "cell_type": "code",
   "execution_count": 80,
   "metadata": {},
   "outputs": [
    {
     "ename": "IndexError",
     "evalue": "list index out of range",
     "output_type": "error",
     "traceback": [
      "\u001b[0;31m---------------------------------------------------------------------------\u001b[0m",
      "\u001b[0;31mIndexError\u001b[0m                                Traceback (most recent call last)",
      "\u001b[0;32m<ipython-input-80-309fcaac97c6>\u001b[0m in \u001b[0;36m<module>\u001b[0;34m\u001b[0m\n\u001b[1;32m      2\u001b[0m \u001b[0mroot\u001b[0m \u001b[0;34m=\u001b[0m \u001b[0metree\u001b[0m\u001b[0;34m.\u001b[0m\u001b[0mElement\u001b[0m\u001b[0;34m(\u001b[0m\u001b[0;34m\"html\"\u001b[0m\u001b[0;34m)\u001b[0m\u001b[0;34m\u001b[0m\u001b[0;34m\u001b[0m\u001b[0m\n\u001b[1;32m      3\u001b[0m \u001b[0mtd\u001b[0m \u001b[0;34m=\u001b[0m \u001b[0metree\u001b[0m\u001b[0;34m.\u001b[0m\u001b[0mSubElement\u001b[0m\u001b[0;34m(\u001b[0m\u001b[0mroot\u001b[0m\u001b[0;34m,\u001b[0m \u001b[0;34m\"td\"\u001b[0m\u001b[0;34m)\u001b[0m\u001b[0;34m\u001b[0m\u001b[0;34m\u001b[0m\u001b[0m\n\u001b[0;32m----> 4\u001b[0;31m \u001b[0mtd\u001b[0m\u001b[0;34m[\u001b[0m\u001b[0;36m0\u001b[0m\u001b[0;34m]\u001b[0m\u001b[0;34m\u001b[0m\u001b[0;34m\u001b[0m\u001b[0m\n\u001b[0m",
      "\u001b[0;32msrc/lxml/etree.pyx\u001b[0m in \u001b[0;36mlxml.etree._Element.__getitem__\u001b[0;34m()\u001b[0m\n",
      "\u001b[0;31mIndexError\u001b[0m: list index out of range"
     ]
    }
   ],
   "source": [
    "from lxml import etree\n",
    "root = etree.Element(\"html\")\n",
    "td = etree.SubElement(root, \"td\")\n"
   ]
  },
  {
   "cell_type": "code",
   "execution_count": 72,
   "metadata": {},
   "outputs": [
    {
     "data": {
      "text/plain": [
       "<Element tr at 0x7f914b0a3190>"
      ]
     },
     "execution_count": 72,
     "metadata": {},
     "output_type": "execute_result"
    }
   ],
   "source": [
    "\n",
    "\n",
    "\n",
    "tds = html.xpath('//div[@class=\"table-wrap\"]//tr[@role=\"row\"]')\n",
    "tds[0]\n",
    "\n"
   ]
  },
  {
   "cell_type": "code",
   "execution_count": 73,
   "metadata": {},
   "outputs": [
    {
     "data": {
      "text/plain": [
       "'1'"
      ]
     },
     "execution_count": 73,
     "metadata": {},
     "output_type": "execute_result"
    }
   ],
   "source": [
    "# xpath 获取特殊属性的元素列表\n",
    "\n",
    "tds = html.xpath('//td[@class=\"confluenceTd\"]/text()')\n",
    "tds[0]"
   ]
  },
  {
   "cell_type": "code",
   "execution_count": 163,
   "metadata": {},
   "outputs": [
    {
     "data": {
      "text/plain": [
       "[]"
      ]
     },
     "execution_count": 163,
     "metadata": {},
     "output_type": "execute_result"
    }
   ],
   "source": [
    "tds = html.xpath('//div[@class=\"table-wrap\"]//tr[@role=\"row\"]/td/child::p/text()')\n",
    "# len(tds)\n",
    "tds??"
   ]
  },
  {
   "cell_type": "code",
   "execution_count": 178,
   "metadata": {},
   "outputs": [
    {
     "data": {
      "text/plain": [
       "['2',\n",
       " '加V电话',\n",
       " '现状：目前通讯录排序按照#-A-Z的顺序排序，导致一些非常用号码显示在最顶部',\n",
       " '优化方案：和主流通讯录显示顺序一致，按照A-Z-#排序显示',\n",
       " '高',\n",
       " '杨少东',\n",
       " '2020/06/05']"
      ]
     },
     "execution_count": 178,
     "metadata": {},
     "output_type": "execute_result"
    }
   ],
   "source": [
    " html.xpath('//div[@class=\"table-wrap\"]//tr[@role=\"row\"][2]/descendant::*/text()')"
   ]
  },
  {
   "cell_type": "code",
   "execution_count": 186,
   "metadata": {},
   "outputs": [
    {
     "data": {
      "text/plain": [
       "['confluenceTh tablesorter-header sortableHeader tablesorter-headerUnSorted',\n",
       " '0',\n",
       " '0',\n",
       " 'col',\n",
       " 'columnheader',\n",
       " 'false',\n",
       " 'on',\n",
       " 'user-select: none;',\n",
       " 'none',\n",
       " '序号: No sort applied, activate to apply an ascending sort']"
      ]
     },
     "execution_count": 186,
     "metadata": {},
     "output_type": "execute_result"
    }
   ],
   "source": [
    "tds=html.xpath('//div[@class=\"table-wrap\"]//tr[@role=\"row\"]/descendant::*')\n",
    "tds[0].values()"
   ]
  },
  {
   "cell_type": "code",
   "execution_count": 207,
   "metadata": {},
   "outputs": [
    {
     "data": {
      "text/plain": [
       "10"
      ]
     },
     "execution_count": 207,
     "metadata": {},
     "output_type": "execute_result"
    }
   ],
   "source": [
    "# tds = html.xpath('//div[@class=\"table-wrap\"]//tr[@role=\"row\"]/td/p/text()')\n",
    "tds = html.xpath('//tbody//tr[@role=\"row\"]')\n",
    "\n",
    "len(tds[9])\n",
    "# tds"
   ]
  },
  {
   "cell_type": "code",
   "execution_count": 394,
   "metadata": {},
   "outputs": [
    {
     "data": {
      "text/plain": [
       "[1, 2, 3, 4, 5, 6, 7, 8, 9, 10]"
      ]
     },
     "execution_count": 394,
     "metadata": {},
     "output_type": "execute_result"
    }
   ],
   "source": [
    "a=range(1,11)\n",
    "list(a)"
   ]
  },
  {
   "cell_type": "code",
   "execution_count": 253,
   "metadata": {},
   "outputs": [
    {
     "data": {
      "text/plain": [
       "103"
      ]
     },
     "execution_count": 253,
     "metadata": {},
     "output_type": "execute_result"
    }
   ],
   "source": [
    "# tds = html.xpath('//div[@class=\"table-wrap\"]//tr[@role=\"row\"]/td')\n",
    "tds = html.xpath('//tbody//tr[@role=\"row\"]')\n",
    "# tds[0].xpath('//p/text()')\n",
    "len(tds)\n",
    "# tds.itertext(tag=\"p\")\n",
    "# index = 0\n",
    "# for td in tds:\n",
    "#     for v in td.itersiblings():\n",
    "# #         print(len(v.getchildren()))\n",
    "#         for d in v.getchildren():\n",
    "#             if(d.text == None and len(d.getchildren()) != 0):\n",
    "#                 des = \"\"\n",
    "#                 for dl in d.getchildren():\n",
    "#                     if(dl.text != None):\n",
    "#                         des = des + \"\\n\" + dl.text\n",
    "#                 print(des)\n",
    "#                 continue\n",
    "#             print(d.text)\n",
    "#         # tds"
   ]
  },
  {
   "cell_type": "code",
   "execution_count": 68,
   "metadata": {},
   "outputs": [
    {
     "ename": "SyntaxError",
     "evalue": "unexpected EOF while parsing (<ipython-input-68-30622eefc4ce>, line 24)",
     "output_type": "error",
     "traceback": [
      "\u001b[0;36m  File \u001b[0;32m\"<ipython-input-68-30622eefc4ce>\"\u001b[0;36m, line \u001b[0;32m24\u001b[0m\n\u001b[0;31m    # tds\u001b[0m\n\u001b[0m         ^\u001b[0m\n\u001b[0;31mSyntaxError\u001b[0m\u001b[0;31m:\u001b[0m unexpected EOF while parsing\n"
     ]
    }
   ],
   "source": [
    "# tds = html.xpath('//div[@class=\"table-wrap\"]//tr[@role=\"row\"]/td')\n",
    "tds = html.xpath('//tbody//tr[@role=\"row\"]')\n",
    "# tds[0].xpath('//p/text()')\n",
    "len(tds)\n",
    "# print(tds[0].getchildren()[0].text)\n",
    "# tds.itertext(tag=\"p\")\n",
    "for td in tds:\n",
    "#     id = 0\n",
    "    tdd = td.getchildren()\n",
    "    for v in tdd:\n",
    "        for t in v.iter(tag=\"{}p\"):\n",
    "#             print(t.text)\n",
    "#             print(t.tag)\n",
    "#         id +=1 \n",
    "#         print(id)\n",
    "#         if(v.text == None and v.getiterator(tag=\"p\")):\n",
    "#             des = \"N\\n\"\n",
    "#             for d in v.getchildren():\n",
    "#                 if(d.text != None):\n",
    "#                     des =\"Y\" + des + \"\\n\" + d.text\n",
    "#             print(des)\n",
    "#             continue\n",
    "#         print(v.text ) \n",
    "        # tds\n"
   ]
  },
  {
   "cell_type": "code",
   "execution_count": 2,
   "metadata": {},
   "outputs": [
    {
     "name": "stderr",
     "output_type": "stream",
     "text": [
      "/usr/local/anaconda3/lib/python3.7/site-packages/bs4/__init__.py:203: UserWarning: You provided Unicode markup but also provided a value for from_encoding. Your from_encoding will be ignored.\n",
      "  warnings.warn(\"You provided Unicode markup but also provided a value for from_encoding. Your from_encoding will be ignored.\")\n"
     ]
    },
    {
     "ename": "ValueError",
     "evalue": "No tables found",
     "output_type": "error",
     "traceback": [
      "\u001b[0;31m---------------------------------------------------------------------------\u001b[0m",
      "\u001b[0;31mValueError\u001b[0m                                Traceback (most recent call last)",
      "\u001b[0;32m<ipython-input-2-fe1b86c19e47>\u001b[0m in \u001b[0;36m<module>\u001b[0;34m\u001b[0m\n\u001b[1;32m      8\u001b[0m \u001b[0mheaders\u001b[0m\u001b[0;34m=\u001b[0m\u001b[0;34m[\u001b[0m\u001b[0;34m\"NO\"\u001b[0m\u001b[0;34m,\u001b[0m\u001b[0;34m\"MODEL\"\u001b[0m\u001b[0;34m,\u001b[0m\u001b[0;34m\"DES\"\u001b[0m\u001b[0;34m,\u001b[0m\u001b[0;34m\"PROT\"\u001b[0m\u001b[0;34m,\u001b[0m \u001b[0;34m\"LEVEL\"\u001b[0m\u001b[0;34m,\u001b[0m\u001b[0;34m\"WHO\"\u001b[0m\u001b[0;34m,\u001b[0m \u001b[0;34m\"TIME\"\u001b[0m\u001b[0;34m,\u001b[0m\u001b[0;34m\"NATIVE/RN\"\u001b[0m\u001b[0;34m,\u001b[0m\u001b[0;34m\"FIXTIME\"\u001b[0m\u001b[0;34m,\u001b[0m\u001b[0;34m\"STATUS\"\u001b[0m\u001b[0;34m]\u001b[0m\u001b[0;34m\u001b[0m\u001b[0;34m\u001b[0m\u001b[0m\n\u001b[1;32m      9\u001b[0m \u001b[0;31m# tables=pd.read_html('html',encoding=\"utf8\",header=he)\u001b[0m\u001b[0;34m\u001b[0m\u001b[0;34m\u001b[0m\u001b[0;34m\u001b[0m\u001b[0m\n\u001b[0;32m---> 10\u001b[0;31m \u001b[0mtables\u001b[0m\u001b[0;34m=\u001b[0m\u001b[0mpd\u001b[0m\u001b[0;34m.\u001b[0m\u001b[0mread_html\u001b[0m\u001b[0;34m(\u001b[0m\u001b[0;34m'test_html'\u001b[0m\u001b[0;34m,\u001b[0m\u001b[0mencoding\u001b[0m\u001b[0;34m=\u001b[0m\u001b[0;34m\"utf8\"\u001b[0m\u001b[0;34m)\u001b[0m\u001b[0;34m\u001b[0m\u001b[0;34m\u001b[0m\u001b[0m\n\u001b[0m\u001b[1;32m     11\u001b[0m \u001b[0;31m# tables[0].head()\u001b[0m\u001b[0;34m\u001b[0m\u001b[0;34m\u001b[0m\u001b[0;34m\u001b[0m\u001b[0m\n\u001b[1;32m     12\u001b[0m \u001b[0;31m# tables[0].to_csv(\"test\")\u001b[0m\u001b[0;34m\u001b[0m\u001b[0;34m\u001b[0m\u001b[0;34m\u001b[0m\u001b[0m\n",
      "\u001b[0;32m/usr/local/anaconda3/lib/python3.7/site-packages/pandas/io/html.py\u001b[0m in \u001b[0;36mread_html\u001b[0;34m(io, match, flavor, header, index_col, skiprows, attrs, parse_dates, thousands, encoding, decimal, converters, na_values, keep_default_na, displayed_only)\u001b[0m\n\u001b[1;32m   1098\u001b[0m         \u001b[0mna_values\u001b[0m\u001b[0;34m=\u001b[0m\u001b[0mna_values\u001b[0m\u001b[0;34m,\u001b[0m\u001b[0;34m\u001b[0m\u001b[0;34m\u001b[0m\u001b[0m\n\u001b[1;32m   1099\u001b[0m         \u001b[0mkeep_default_na\u001b[0m\u001b[0;34m=\u001b[0m\u001b[0mkeep_default_na\u001b[0m\u001b[0;34m,\u001b[0m\u001b[0;34m\u001b[0m\u001b[0;34m\u001b[0m\u001b[0m\n\u001b[0;32m-> 1100\u001b[0;31m         \u001b[0mdisplayed_only\u001b[0m\u001b[0;34m=\u001b[0m\u001b[0mdisplayed_only\u001b[0m\u001b[0;34m,\u001b[0m\u001b[0;34m\u001b[0m\u001b[0;34m\u001b[0m\u001b[0m\n\u001b[0m\u001b[1;32m   1101\u001b[0m     )\n",
      "\u001b[0;32m/usr/local/anaconda3/lib/python3.7/site-packages/pandas/io/html.py\u001b[0m in \u001b[0;36m_parse\u001b[0;34m(flavor, io, match, attrs, encoding, displayed_only, **kwargs)\u001b[0m\n\u001b[1;32m    913\u001b[0m             \u001b[0;32mbreak\u001b[0m\u001b[0;34m\u001b[0m\u001b[0;34m\u001b[0m\u001b[0m\n\u001b[1;32m    914\u001b[0m     \u001b[0;32melse\u001b[0m\u001b[0;34m:\u001b[0m\u001b[0;34m\u001b[0m\u001b[0;34m\u001b[0m\u001b[0m\n\u001b[0;32m--> 915\u001b[0;31m         \u001b[0;32mraise\u001b[0m \u001b[0mretained\u001b[0m\u001b[0;34m\u001b[0m\u001b[0;34m\u001b[0m\u001b[0m\n\u001b[0m\u001b[1;32m    916\u001b[0m \u001b[0;34m\u001b[0m\u001b[0m\n\u001b[1;32m    917\u001b[0m     \u001b[0mret\u001b[0m \u001b[0;34m=\u001b[0m \u001b[0;34m[\u001b[0m\u001b[0;34m]\u001b[0m\u001b[0;34m\u001b[0m\u001b[0;34m\u001b[0m\u001b[0m\n",
      "\u001b[0;32m/usr/local/anaconda3/lib/python3.7/site-packages/pandas/io/html.py\u001b[0m in \u001b[0;36m_parse\u001b[0;34m(flavor, io, match, attrs, encoding, displayed_only, **kwargs)\u001b[0m\n\u001b[1;32m    893\u001b[0m \u001b[0;34m\u001b[0m\u001b[0m\n\u001b[1;32m    894\u001b[0m         \u001b[0;32mtry\u001b[0m\u001b[0;34m:\u001b[0m\u001b[0;34m\u001b[0m\u001b[0;34m\u001b[0m\u001b[0m\n\u001b[0;32m--> 895\u001b[0;31m             \u001b[0mtables\u001b[0m \u001b[0;34m=\u001b[0m \u001b[0mp\u001b[0m\u001b[0;34m.\u001b[0m\u001b[0mparse_tables\u001b[0m\u001b[0;34m(\u001b[0m\u001b[0;34m)\u001b[0m\u001b[0;34m\u001b[0m\u001b[0;34m\u001b[0m\u001b[0m\n\u001b[0m\u001b[1;32m    896\u001b[0m         \u001b[0;32mexcept\u001b[0m \u001b[0mValueError\u001b[0m \u001b[0;32mas\u001b[0m \u001b[0mcaught\u001b[0m\u001b[0;34m:\u001b[0m\u001b[0;34m\u001b[0m\u001b[0;34m\u001b[0m\u001b[0m\n\u001b[1;32m    897\u001b[0m             \u001b[0;31m# if `io` is an io-like object, check if it's seekable\u001b[0m\u001b[0;34m\u001b[0m\u001b[0;34m\u001b[0m\u001b[0;34m\u001b[0m\u001b[0m\n",
      "\u001b[0;32m/usr/local/anaconda3/lib/python3.7/site-packages/pandas/io/html.py\u001b[0m in \u001b[0;36mparse_tables\u001b[0;34m(self)\u001b[0m\n\u001b[1;32m    211\u001b[0m         \u001b[0mlist\u001b[0m \u001b[0mof\u001b[0m \u001b[0mparsed\u001b[0m \u001b[0;34m(\u001b[0m\u001b[0mheader\u001b[0m\u001b[0;34m,\u001b[0m \u001b[0mbody\u001b[0m\u001b[0;34m,\u001b[0m \u001b[0mfooter\u001b[0m\u001b[0;34m)\u001b[0m \u001b[0mtuples\u001b[0m \u001b[0;32mfrom\u001b[0m \u001b[0mtables\u001b[0m\u001b[0;34m.\u001b[0m\u001b[0;34m\u001b[0m\u001b[0;34m\u001b[0m\u001b[0m\n\u001b[1;32m    212\u001b[0m         \"\"\"\n\u001b[0;32m--> 213\u001b[0;31m         \u001b[0mtables\u001b[0m \u001b[0;34m=\u001b[0m \u001b[0mself\u001b[0m\u001b[0;34m.\u001b[0m\u001b[0m_parse_tables\u001b[0m\u001b[0;34m(\u001b[0m\u001b[0mself\u001b[0m\u001b[0;34m.\u001b[0m\u001b[0m_build_doc\u001b[0m\u001b[0;34m(\u001b[0m\u001b[0;34m)\u001b[0m\u001b[0;34m,\u001b[0m \u001b[0mself\u001b[0m\u001b[0;34m.\u001b[0m\u001b[0mmatch\u001b[0m\u001b[0;34m,\u001b[0m \u001b[0mself\u001b[0m\u001b[0;34m.\u001b[0m\u001b[0mattrs\u001b[0m\u001b[0;34m)\u001b[0m\u001b[0;34m\u001b[0m\u001b[0;34m\u001b[0m\u001b[0m\n\u001b[0m\u001b[1;32m    214\u001b[0m         \u001b[0;32mreturn\u001b[0m \u001b[0;34m(\u001b[0m\u001b[0mself\u001b[0m\u001b[0;34m.\u001b[0m\u001b[0m_parse_thead_tbody_tfoot\u001b[0m\u001b[0;34m(\u001b[0m\u001b[0mtable\u001b[0m\u001b[0;34m)\u001b[0m \u001b[0;32mfor\u001b[0m \u001b[0mtable\u001b[0m \u001b[0;32min\u001b[0m \u001b[0mtables\u001b[0m\u001b[0;34m)\u001b[0m\u001b[0;34m\u001b[0m\u001b[0;34m\u001b[0m\u001b[0m\n\u001b[1;32m    215\u001b[0m \u001b[0;34m\u001b[0m\u001b[0m\n",
      "\u001b[0;32m/usr/local/anaconda3/lib/python3.7/site-packages/pandas/io/html.py\u001b[0m in \u001b[0;36m_parse_tables\u001b[0;34m(self, doc, match, attrs)\u001b[0m\n\u001b[1;32m    543\u001b[0m \u001b[0;34m\u001b[0m\u001b[0m\n\u001b[1;32m    544\u001b[0m         \u001b[0;32mif\u001b[0m \u001b[0;32mnot\u001b[0m \u001b[0mtables\u001b[0m\u001b[0;34m:\u001b[0m\u001b[0;34m\u001b[0m\u001b[0;34m\u001b[0m\u001b[0m\n\u001b[0;32m--> 545\u001b[0;31m             \u001b[0;32mraise\u001b[0m \u001b[0mValueError\u001b[0m\u001b[0;34m(\u001b[0m\u001b[0;34m\"No tables found\"\u001b[0m\u001b[0;34m)\u001b[0m\u001b[0;34m\u001b[0m\u001b[0;34m\u001b[0m\u001b[0m\n\u001b[0m\u001b[1;32m    546\u001b[0m \u001b[0;34m\u001b[0m\u001b[0m\n\u001b[1;32m    547\u001b[0m         \u001b[0mresult\u001b[0m \u001b[0;34m=\u001b[0m \u001b[0;34m[\u001b[0m\u001b[0;34m]\u001b[0m\u001b[0;34m\u001b[0m\u001b[0;34m\u001b[0m\u001b[0m\n",
      "\u001b[0;31mValueError\u001b[0m: No tables found"
     ]
    }
   ],
   "source": [
    "import pandas as pd\n",
    "import sys\n",
    "# reload(sys)\n",
    "# sys.setdefaultencoding(\"utf-8\")\n",
    "\n",
    "# tables=pd.read_html('html',encoding='uft8')\n",
    "# he=list(range(1,1000000000))\n",
    "headers=[\"NO\",\"MODEL\",\"DES\",\"PROT\", \"LEVEL\",\"WHO\", \"TIME\",\"NATIVE/RN\",\"FIXTIME\",\"STATUS\"]\n",
    "# tables=pd.read_html('html',encoding=\"utf8\",header=he)\n",
    "tables=pd.read_html('test_html',encoding=\"utf8\")\n",
    "# tables[0].head()\n",
    "# tables[0].to_csv(\"test\")\n",
    "\n",
    "# len(tables)\n",
    "# tables.to_csv(\"output\")\n",
    "tables[0].index\n"
   ]
  },
  {
   "cell_type": "code",
   "execution_count": 1,
   "metadata": {},
   "outputs": [
    {
     "ename": "NameError",
     "evalue": "name 'tables' is not defined",
     "output_type": "error",
     "traceback": [
      "\u001b[0;31m---------------------------------------------------------------------------\u001b[0m",
      "\u001b[0;31mNameError\u001b[0m                                 Traceback (most recent call last)",
      "\u001b[0;32m<ipython-input-1-baf72847c0a1>\u001b[0m in \u001b[0;36m<module>\u001b[0;34m\u001b[0m\n\u001b[0;32m----> 1\u001b[0;31m \u001b[0mtables\u001b[0m\u001b[0;34m[\u001b[0m\u001b[0;36m0\u001b[0m\u001b[0;34m]\u001b[0m\u001b[0;34m.\u001b[0m\u001b[0miloc\u001b[0m\u001b[0;34m[\u001b[0m\u001b[0;36m0\u001b[0m\u001b[0;34m,\u001b[0m\u001b[0;36m7\u001b[0m\u001b[0;34m]\u001b[0m \u001b[0;34m=\u001b[0m \u001b[0;34m'RN'\u001b[0m\u001b[0;34m\u001b[0m\u001b[0;34m\u001b[0m\u001b[0m\n\u001b[0m\u001b[1;32m      2\u001b[0m \u001b[0mtmp\u001b[0m \u001b[0;34m=\u001b[0m \u001b[0mdict\u001b[0m\u001b[0;34m(\u001b[0m\u001b[0mtables\u001b[0m\u001b[0;34m[\u001b[0m\u001b[0;36m0\u001b[0m\u001b[0;34m]\u001b[0m\u001b[0;34m.\u001b[0m\u001b[0miloc\u001b[0m\u001b[0;34m[\u001b[0m\u001b[0;36m0\u001b[0m\u001b[0;34m]\u001b[0m\u001b[0;34m)\u001b[0m\u001b[0;34m\u001b[0m\u001b[0;34m\u001b[0m\u001b[0m\n\u001b[1;32m      3\u001b[0m \u001b[0mtmp\u001b[0m\u001b[0;34m[\u001b[0m\u001b[0;34m'原生/RN'\u001b[0m\u001b[0;34m]\u001b[0m \u001b[0;34m=\u001b[0m \u001b[0;34m'Native'\u001b[0m\u001b[0;34m\u001b[0m\u001b[0;34m\u001b[0m\u001b[0m\n\u001b[1;32m      4\u001b[0m \u001b[0mtmp\u001b[0m\u001b[0;34m\u001b[0m\u001b[0;34m\u001b[0m\u001b[0m\n\u001b[1;32m      5\u001b[0m \u001b[0mtables\u001b[0m\u001b[0;34m[\u001b[0m\u001b[0;36m0\u001b[0m\u001b[0;34m]\u001b[0m\u001b[0;34m.\u001b[0m\u001b[0miloc\u001b[0m\u001b[0;34m[\u001b[0m\u001b[0;36m0\u001b[0m\u001b[0;34m]\u001b[0m \u001b[0;34m=\u001b[0m \u001b[0mpd\u001b[0m\u001b[0;34m.\u001b[0m\u001b[0mSeries\u001b[0m\u001b[0;34m(\u001b[0m\u001b[0mtmp\u001b[0m\u001b[0;34m)\u001b[0m\u001b[0;34m\u001b[0m\u001b[0;34m\u001b[0m\u001b[0m\n",
      "\u001b[0;31mNameError\u001b[0m: name 'tables' is not defined"
     ]
    }
   ],
   "source": [
    "tables[0].iloc[0,7] = 'RN'\n",
    "tmp = dict(tables[0].iloc[0])\n",
    "tmp['原生/RN'] = 'Native'\n",
    "tmp\n",
    "tables[0].iloc[0] = pd.Series(tmp)\n",
    "tables[0].head()\n"
   ]
  },
  {
   "cell_type": "code",
   "execution_count": null,
   "metadata": {},
   "outputs": [],
   "source": [
    "import pandas as pd\n",
    "import sys\n",
    "# reload(sys)\n",
    "# sys.setdefaultencoding(\"utf-8\")\n",
    "\n",
    "# tables=pd.read_html('html',encoding='uft8')\n",
    "# he=list(range(1,1000000000))\n",
    "headers=[\"NO\",\"MODEL\",\"DES\",\"PROT\", \"LEVEL\",\"WHO\", \"TIME\",\"NATIVE/RN\",\"FIXTIME\",\"STATUS\"]\n",
    "# tables=pd.read_html('html',encoding=\"utf8\",header=he)\n",
    "tables=pd.read_html('test_html',encoding=\"utf8\")\n",
    "# tables[0].head()\n",
    "# tables[0].to_csv(\"test\")\n",
    "\n",
    "# len(tables)\n",
    "# tables.to_csv(\"output\")\n",
    "tables[0].columns"
   ]
  },
  {
   "cell_type": "code",
   "execution_count": null,
   "metadata": {},
   "outputs": [],
   "source": [
    "# 利用 pandas 直接解析html中的table\n",
    "\n",
    "import pandas as pd\n",
    "import numpy  as np\n",
    "from lxml import etree\n",
    "\n",
    "pd.set_option('display.max_rows', None)\n",
    "# f = open(r\"missions\",'r')\n",
    "# text = f.read()\n",
    "# html = etree.HTML(text)\n",
    "works=pd.read_html(\"missions\", encoding='utf8')\n",
    "# len(works)\n",
    "\n",
    "works[1].drop('Unnamed: 0', axis=1).set_index(['需求ID'])\n",
    "dd=works[1].drop('Unnamed: 0',axis=1)\n",
    "# dd.to_csv('20200724MiSSION.csv', index=False)\n",
    "\n",
    "# works[1].columns\n",
    "# works[1].head()\n",
    "dd.head()\n",
    "# missions=dd.sort_values(by='需求ID').set_index(['需求ID','需求名称'])\n",
    "# missions"
   ]
  },
  {
   "cell_type": "code",
   "execution_count": 185,
   "metadata": {},
   "outputs": [
    {
     "data": {
      "text/plain": [
       "10"
      ]
     },
     "execution_count": 185,
     "metadata": {},
     "output_type": "execute_result"
    }
   ],
   "source": [
    "# missions=pd.read_csv('missions',skiprows=[0])\n",
    "missions=dd.sort_values(by='需求ID')[['需求ID','需求名称','开发人员']]\n",
    "# missions.set_index(['需求ID','需求名称'])\n",
    "# missions.swaplevel('需求ID')\n",
    "# missions.set_index(['需求ID','需求名称'])\n",
    "# \n",
    "missions\n",
    "# 按需求ID聚合\n",
    "# missions.sort_values(by='需求ID')[['需求ID','需求名称','开发人员']]\n",
    "missions['NUM']=1\n",
    "# .set_index(['需求ID','需求名称']).head()\n",
    "# missions.sort_values(by='需求ID').reindex(['需求ID','开发人员'],axis=1)\n",
    "# label = missions.sort_values(by='需求ID').set_index(['需求ID','开发人员','NUM'])\n",
    "# .sum(level='开发人员')\n",
    "# label.sum(level='开发人员')\n",
    "# label=label[['需求名称']]\n",
    "# label['612']\n",
    "\n",
    "# index 分层索引名称\n",
    "# label.index.names=['REID','MEMID','NUM']\n",
    "# label.unstack()\n",
    "# label['NUM'].groupby([label['REID'], label['MEMID']])\n",
    "# # label.sum(level='NUM')\n",
    "\n",
    "\n",
    "label = missions[['需求ID','开发人员','NUM','需求名称']]\n",
    "grouped = label['NUM'].groupby([label['需求ID'],label['开发人员']])\n",
    "statics = dict(grouped.size())\n",
    "source = []\n",
    "target = []\n",
    "values = []\n",
    "members_dic={'叶计成':0,'刘连子':1,'林梓杰':2,'莫南':3,'余广琪':4,'王创彬':5,'吴嘉佳':6,'谭作伍':7,'黄宇鹏':8,'徐青云':9,'龙晓泉':10}\n",
    "\n",
    "base = 11\n",
    "# for i,j in statics.keys():\n",
    "#     source.append(i)\n",
    "#     target.append(members_dic[j] + 11)\n",
    "#     values.append(statics[(i,j)])    \n",
    "\n",
    "# source.key()\n",
    "    \n",
    "# statics\n",
    "\n",
    "\n",
    "data = [(key1,key2, statics[(key1,key2)]) for (key1,key2) in statics.keys() ]\n",
    "# tuple([key1 for (key1,x) in statics.keys])\n",
    "re_list = []\n",
    "mem_list = []\n",
    "\n",
    "# TODO 优化代码结构\n",
    "\n",
    "for (key1, key2) in statics.keys():\n",
    "    if key1 not in re_list:\n",
    "        re_list.append(key1)\n",
    "    if key2 not in mem_list:\n",
    "        mem_list.append(key2)\n",
    "        \n",
    "for (key1, key2) in statics.keys():\n",
    "    if key1 not in lable:\n",
    "        label.append(key1)\n",
    "    if key2 not in la\n",
    "re = tuple(re_list)\n",
    "mem = tuple(mem_list)\n",
    "\n",
    "lable = re_list + mem_list\n",
    "len(re)\n"
   ]
  },
  {
   "cell_type": "code",
   "execution_count": 120,
   "metadata": {},
   "outputs": [
    {
     "data": {
      "text/plain": [
       "需求ID  开发人员\n",
       "612   谭作伍     1\n",
       "707   叶计成     1\n",
       "      莫南      1\n",
       "708   余广琪     2\n",
       "      徐青云     1\n",
       "      王创彬     1\n",
       "709   余广琪     1\n",
       "      莫南      1\n",
       "      黄宇鹏     1\n",
       "728   吴嘉佳     1\n",
       "751   莫南      2\n",
       "760   林梓杰     1\n",
       "765   余广琪     1\n",
       "      吴嘉佳     1\n",
       "      谭作伍     1\n",
       "799   余广琪     2\n",
       "      刘连子     7\n",
       "      叶计成     5\n",
       "      吴嘉佳     3\n",
       "      林梓杰     8\n",
       "      王创彬     5\n",
       "      莫南      2\n",
       "      谭作伍     6\n",
       "      黄宇鹏     1\n",
       "800   叶计成     3\n",
       "      吴嘉佳     1\n",
       "      王创彬     2\n",
       "      谭作伍     2\n",
       "802   刘连子     2\n",
       "Name: NUM, dtype: int64"
      ]
     },
     "execution_count": 120,
     "metadata": {},
     "output_type": "execute_result"
    }
   ],
   "source": [
    "grouped.size()"
   ]
  },
  {
   "cell_type": "code",
   "execution_count": 114,
   "metadata": {},
   "outputs": [
    {
     "data": {
      "text/plain": [
       "[18,\n",
       " 11,\n",
       " 14,\n",
       " 15,\n",
       " 20,\n",
       " 16,\n",
       " 15,\n",
       " 14,\n",
       " 19,\n",
       " 17,\n",
       " 14,\n",
       " 13,\n",
       " 15,\n",
       " 17,\n",
       " 18,\n",
       " 15,\n",
       " 12,\n",
       " 11,\n",
       " 17,\n",
       " 13,\n",
       " 16,\n",
       " 14,\n",
       " 18,\n",
       " 19,\n",
       " 11,\n",
       " 17,\n",
       " 16,\n",
       " 18,\n",
       " 12]"
      ]
     },
     "execution_count": 114,
     "metadata": {},
     "output_type": "execute_result"
    }
   ],
   "source": [
    "target"
   ]
  },
  {
   "cell_type": "code",
   "execution_count": 115,
   "metadata": {},
   "outputs": [
    {
     "data": {
      "text/plain": [
       "[1,\n",
       " 1,\n",
       " 1,\n",
       " 2,\n",
       " 1,\n",
       " 1,\n",
       " 1,\n",
       " 1,\n",
       " 1,\n",
       " 1,\n",
       " 2,\n",
       " 1,\n",
       " 1,\n",
       " 1,\n",
       " 1,\n",
       " 2,\n",
       " 7,\n",
       " 5,\n",
       " 3,\n",
       " 8,\n",
       " 5,\n",
       " 2,\n",
       " 6,\n",
       " 1,\n",
       " 3,\n",
       " 1,\n",
       " 2,\n",
       " 2,\n",
       " 2]"
      ]
     },
     "execution_count": 115,
     "metadata": {},
     "output_type": "execute_result"
    }
   ],
   "source": [
    "values"
   ]
  },
  {
   "cell_type": "code",
   "execution_count": null,
   "metadata": {},
   "outputs": [],
   "source": []
  },
  {
   "cell_type": "code",
   "execution_count": null,
   "metadata": {},
   "outputs": [],
   "source": [
    "label['NUM']=1\n",
    "label.set_index(['NUM'])\n",
    "# label.apply(pd.value_counts)"
   ]
  },
  {
   "cell_type": "code",
   "execution_count": null,
   "metadata": {},
   "outputs": [],
   "source": []
  },
  {
   "cell_type": "code",
   "execution_count": 180,
   "metadata": {},
   "outputs": [],
   "source": [
    "# 研发任务分配表操作\n",
    "wk_index=['需求ID','需求名称','子任务概述','开发人员','测试人员','预计提测时间', '上线时间']\n",
    "works[1][wk_index].to_csv('20200724研发任务分配', index=False)"
   ]
  },
  {
   "cell_type": "code",
   "execution_count": 5,
   "metadata": {},
   "outputs": [
    {
     "data": {
      "text/plain": [
       "Index(['导出时间：', '20200720 10:01:56', 'Unnamed: 2', 'Unnamed: 3', 'Unnamed: 4',\n",
       "       'Unnamed: 5', 'Unnamed: 6', 'Unnamed: 7', 'Unnamed: 8', 'Unnamed: 9',\n",
       "       'Unnamed: 10', 'Unnamed: 11', 'Unnamed: 12', 'Unnamed: 13',\n",
       "       'Unnamed: 14', 'Unnamed: 15', 'Unnamed: 16', 'Unnamed: 17',\n",
       "       'Unnamed: 18'],\n",
       "      dtype='object')"
      ]
     },
     "execution_count": 5,
     "metadata": {},
     "output_type": "execute_result"
    }
   ],
   "source": [
    "# pr=pd.read_csv(\"需求状态表.csv\")\n",
    "import pandas as pd\n",
    "import numpy as np\n",
    "pr=pd.read_csv(\"missions.csv\")\n",
    "# pr.head()\n",
    "# pr['需求ID']=\n",
    "# pr.set_index(['会议时间',\"需求描述\"])\n",
    "# pr.columns\n",
    "# pr=pr.rename(columns={'Unnamed: 1':'流水线需求ID'})\n",
    "pr.columns\n",
    "# pr[['流水线需求ID']]=pr[['流水线需求ID']].astype(object)\n",
    "# pr.set_index(['会议时间',\"需求描述\"])\n",
    "# pr.iloc[['2020/6/11','消息管理优化']]\n",
    "# pr.replace(np.nan, '', inplace=True)\n",
    "# pr.iloc[31,1] = 760\n",
    "# pr.to_csv(\"需求状态表.csv\", index=False)\n",
    "# pr.set_index('流水线需求ID')\n",
    "# pr.drop('Unnamed: 0',axis=1).to_csv(\"需求状态表.csv\", index=False)\n",
    "# pr.drop(56,axis=0).to_csv(\"需求状态表.csv\", index=False)\n",
    "# end=len(pr) \n",
    "# pr\n",
    "# id=np.arange(38, end)\n",
    "# pr.drop(id)\n",
    "# len(pr)\n",
    "# pr.set_index(['会议时间',\"需求描述\"])\n",
    "\n",
    "# end"
   ]
  },
  {
   "cell_type": "code",
   "execution_count": 227,
   "metadata": {},
   "outputs": [],
   "source": [
    "\n",
    "\n",
    "#Confluence详细需求录入\n",
    "\n",
    "#性能优化功能\n",
    "pr_profile = pd.read_html('pr_profile',encoding='utf8')\n",
    "# pr_profile[0].columns\n",
    "profile_df=pr_profile[0]\n",
    "end = len(profile_df)\n",
    "id=np.arange(38, end)\n",
    "profile_df.drop(id).to_csv('pr_profile',index=False)\n",
    "# profile_df"
   ]
  },
  {
   "cell_type": "code",
   "execution_count": null,
   "metadata": {},
   "outputs": [],
   "source": [
    "# 研发人员编号\n",
    "\n",
    "# 连子1、梓杰2、计成3、创彬4、嘉佳5、作伍6、莫南a、广琪b、宇鹏c\n",
    "ITer='连子1、梓杰2、计成3、创彬4、嘉佳5、作伍6、莫南a、广琪b、宇鹏c'\n",
    "# {ITer.split('、')}\n",
    "info={}\n",
    "for t in ITer.split('、'):\n",
    "    info[t[-1]]=t[:-1]\n",
    "    \n",
    "it_mission = pd.read_csv('SIM-APP-missionlist/功能优化.csv',skiprows=2)#, index_col='序号')\n",
    "it_mission= it_mission.rename(columns={'Unnamed: 2':'备注'})\n",
    "\n",
    "it_mission= it_mission.rename(columns={'研发人员':'研发人员ID'})\n",
    "\n",
    "it_mission.drop(['Unnamed: 3','Unnamed: 4'], axis=1, inplace=True)\n",
    "ID=it_mission.index\n",
    "it_mission\n",
    "it_mission['研发人员']=it_mission['研发人员ID'].map(info)\n",
    "# it_mission.info()\n",
    "# ry=it_mission['研发人员']\n",
    "# ry.map(info)\n",
    "# # ITdic\n",
    "it_mission['备注'].replace(np.nan,'已排期', inplace=True)\n",
    "tmp=it_mission.iloc[11,1]\n",
    "# info[tmp]\n",
    "it_mission.iloc[11,3]=info[tmp[-1]] + \" \"+ info[tmp[0]]\n",
    "info[tmp[-1]] + \" \"+ info[tmp[0]]\n",
    "# + info[it_mission.iloc(11,1)[:-1]]\n",
    "\n",
    "tmp=it_mission.iloc[36,1]\n",
    "# info[tmp]\n",
    "it_mission.iloc[36,3]=info[tmp[-1]] + \" \"+ info[tmp[0]]\n",
    "info[tmp[-1]] + \" \"+ info[tmp[0]]\n",
    "it_mission.drop(['研发人员ID'],axis=1).to_csv('20200724-功能优化排期',index=False)\n",
    "it_mission\n",
    "# "
   ]
  },
  {
   "cell_type": "code",
   "execution_count": 370,
   "metadata": {},
   "outputs": [],
   "source": [
    "# 研发人员编号\n",
    "\n",
    "# 连子1、梓杰2、计成3、创彬4、嘉佳5、作伍6、莫南a、广琪b、宇鹏c\n",
    "ITer='连子1、梓杰2、计成3、创彬4、嘉佳5、作伍6、莫南a、广琪b、宇鹏c'\n",
    "# {ITer.split('、')}\n",
    "info={}\n",
    "for t in ITer.split('、'):\n",
    "    info[t[-1]]=t[:-1]\n",
    "\n",
    "\n",
    "\n",
    "it_promission = pd.read_csv('SIM-APP-missionlist/性能优化.csv',skiprows=1, header=None)#, index_col='序号')\n",
    "it_promission[0]=it_promission[0].astype(object)\n",
    "end=len(it_promission)\n",
    "id=np.arange(6, end)\n",
    "it_promission.drop(id, inplace=True)\n",
    "# it_promission.drop()\n",
    "it_promission= it_promission.rename(columns={0:'序号'})\n",
    "\n",
    "it_promission= it_promission.rename(columns={2:'备注'})\n",
    "\n",
    "it_promission= it_promission.rename(columns={1:'研发人员ID'})\n",
    "\n",
    "# it_promission.drop([3,4], axis=1, inplace=True)\n",
    "it_promission\n",
    "# ID=it_promission.index\n",
    "# it_promission\n",
    "it_promission['研发人员']=it_promission['研发人员ID'].map(info)\n",
    "# # it_mission.info()\n",
    "# ry=it_promission['研发人员ID']\n",
    "# ry.map(info)\n",
    "it_promission\n",
    "# # # ITdic\n",
    "# it_promission['备注'].replace(np.nan,'已排期', inplace=True)\n",
    "# tmp=it_promission.iloc[11,1]\n",
    "# # info[tmp]\n",
    "# it_promission.iloc[11,3]=info[tmp[-1]] + \" \"+ info[tmp[0]]\n",
    "# info[tmp[-1]] + \" \"+ info[tmp[0]]\n",
    "# # + info[it_mission.iloc(11,1)[:-1]]\n",
    "\n",
    "tmp=it_promission.iloc[0,1].split('、')\n",
    "tmp\n",
    "# it_promission\n",
    "# info[tmp]\n",
    "it_promission.iloc[0,5]=info[tmp[-1]] + \" \"+ info[tmp[0]]\n",
    "# info[tmp[-1]] + \" \"+ info[tmp[0]]\n",
    "# it_promission.drop(['研发人员ID'],axis=1).to_csv('20200724-性能优化排期',index=False)\n",
    "columns=['序号','研发人员','备注']\n",
    "it_promission.to_csv('20200724-性能优化排期',index=False,columns=columns)\n",
    "# it_promission.drop(['研发人员ID',3,4],axis=1).to_csv('20200724-性能优化排期',index=False)\n"
   ]
  }
 ],
 "metadata": {
  "kernelspec": {
   "display_name": "Python 3",
   "language": "python",
   "name": "python3"
  },
  "language_info": {
   "codemirror_mode": {
    "name": "ipython",
    "version": 3
   },
   "file_extension": ".py",
   "mimetype": "text/x-python",
   "name": "python",
   "nbconvert_exporter": "python",
   "pygments_lexer": "ipython3",
   "version": "3.7.6"
  }
 },
 "nbformat": 4,
 "nbformat_minor": 4
}
